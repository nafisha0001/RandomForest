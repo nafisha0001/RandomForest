{
 "cells": [
  {
   "cell_type": "code",
   "execution_count": null,
   "id": "15822055",
   "metadata": {},
   "outputs": [],
   "source": [
    "import pandas as pd\n",
    "path = dest_path = r'/home/omen/Documents/Nafisha/VS/VS_refactored_code/RandomForest/CSVs/DFcsv.csv'\n",
    "volume_table = pd.read_csv(path, index_col=0)\n",
    "volume_table"
   ]
  },
  {
   "cell_type": "code",
   "execution_count": null,
   "id": "0d993a79",
   "metadata": {},
   "outputs": [],
   "source": [
    "volume_table = volume_table.dropna(subset=['volume_diff'])"
   ]
  },
  {
   "cell_type": "code",
   "execution_count": null,
   "id": "c6dc2ef8",
   "metadata": {},
   "outputs": [],
   "source": [
    "volume_table= volume_table.drop(columns=['volume_diff'])\n",
    "volume_table"
   ]
  },
  {
   "cell_type": "code",
   "execution_count": null,
   "id": "ed9cff5c",
   "metadata": {},
   "outputs": [],
   "source": [
    "y = volume_table['change'].values  # Labels\n",
    "x = volume_table.drop(columns=['change']).values"
   ]
  },
  {
   "cell_type": "code",
   "execution_count": null,
   "id": "b4139bf9",
   "metadata": {},
   "outputs": [],
   "source": [
    "# x.columns = x.columns.astype(str)"
   ]
  },
  {
   "cell_type": "code",
   "execution_count": null,
   "id": "8f40545d",
   "metadata": {},
   "outputs": [],
   "source": [
    "import torch\n",
    "import numpy as np\n",
    "import pandas as pd\n",
    "from sklearn.decomposition import PCA\n",
    "from sklearn.ensemble import RandomForestClassifier\n",
    "from sklearn.pipeline import Pipeline\n",
    "from joblib import dump, load\n",
    "\n",
    "pipe = Pipeline([\n",
    "    ('pca', PCA(n_components=50, random_state=42)),\n",
    "    ('rf', RandomForestClassifier(random_state=42))\n",
    "])"
   ]
  },
  {
   "cell_type": "code",
   "execution_count": null,
   "id": "648344e1",
   "metadata": {},
   "outputs": [],
   "source": [
    "from sklearn.model_selection import train_test_split\n",
    "X_train, X_test , y_train, y_test = train_test_split(x, y, test_size=0.2, random_state=42)"
   ]
  },
  {
   "cell_type": "code",
   "execution_count": null,
   "id": "a0f6f41b",
   "metadata": {},
   "outputs": [],
   "source": [
    "pipe.fit(X_train, y_train)"
   ]
  },
  {
   "cell_type": "code",
   "execution_count": null,
   "id": "0b2bc806",
   "metadata": {},
   "outputs": [],
   "source": [
    "from sklearn.metrics import accuracy_score, classification_report\n",
    "\n",
    "pipe.fit(X_train, y_train)\n",
    "\n",
    "y_pred = pipe.predict(X_test)\n",
    "\n",
    "# Evaluate the model\n",
    "accuracy = accuracy_score(y_test, y_pred)\n",
    "print(f\"Accuracy: {accuracy}\")\n",
    "print(classification_report(y_test, y_pred))"
   ]
  },
  {
   "cell_type": "code",
   "execution_count": null,
   "id": "e8e4e5b9",
   "metadata": {},
   "outputs": [],
   "source": [
    "dump(pipe, '/home/omen/Documents/Nafisha/VS/VS_refactored_code/RandomForest/checkpoints/pipe_pca_rf_50.joblib', compress=3)\n",
    "print(\"Pipeline trained and saved as pipe_pca_rf_50.joblib'\")"
   ]
  }
 ],
 "metadata": {
  "language_info": {
   "name": "python"
  }
 },
 "nbformat": 4,
 "nbformat_minor": 5
}
