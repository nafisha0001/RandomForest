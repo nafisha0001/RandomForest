{
 "cells": [
  {
   "cell_type": "markdown",
   "id": "7f91b08b",
   "metadata": {},
   "source": [
    "# without 3d-unet learnt features"
   ]
  },
  {
   "cell_type": "code",
   "execution_count": 1,
   "id": "2e994c7b",
   "metadata": {},
   "outputs": [],
   "source": [
    "import pandas as pd"
   ]
  },
  {
   "cell_type": "code",
   "execution_count": null,
   "id": "e4e2747c",
   "metadata": {},
   "outputs": [],
   "source": [
    "file_path = '/home/omen/Documents/Nafisha/VS/VS_refactored_code/RandomForest/CSVs/AIIMsRF.csv'\n",
    "data = pd.read_csv(file_path, index_col=0)"
   ]
  },
  {
   "cell_type": "code",
   "execution_count": null,
   "id": "031d6946",
   "metadata": {},
   "outputs": [],
   "source": [
    "y = data['change']\n",
    "x=data.drop(['change'],axis=1)"
   ]
  },
  {
   "cell_type": "code",
   "execution_count": null,
   "id": "81bc2f42",
   "metadata": {},
   "outputs": [],
   "source": [
    "y.value_counts()"
   ]
  },
  {
   "cell_type": "code",
   "execution_count": null,
   "id": "f5704e27",
   "metadata": {},
   "outputs": [],
   "source": [
    "import joblib\n",
    "loaded_model = joblib.load('/home/omen/Documents/Nafisha/VS/VS_refactored_code/RandomForest/checkpoints/rf_radiomics.pkl')"
   ]
  },
  {
   "cell_type": "code",
   "execution_count": null,
   "id": "e918bfcd",
   "metadata": {},
   "outputs": [],
   "source": [
    "y_pred_loaded = loaded_model.predict(x)"
   ]
  },
  {
   "cell_type": "code",
   "execution_count": null,
   "id": "d1fc6937",
   "metadata": {},
   "outputs": [],
   "source": [
    "from sklearn.metrics import accuracy_score, classification_report\n",
    "\n",
    "accuracy = accuracy_score(y, y_pred_loaded)\n",
    "print(f\"Accuracy: {accuracy}\")\n",
    "print(classification_report(y, y_pred_loaded))"
   ]
  },
  {
   "cell_type": "code",
   "execution_count": null,
   "id": "75b31539",
   "metadata": {},
   "outputs": [],
   "source": [
    "from sklearn.metrics import confusion_matrix\n",
    "import seaborn as sns\n",
    "import matplotlib.pyplot as plt\n",
    "\n",
    "cm = confusion_matrix(y, y_pred_loaded)\n",
    "print(\"Confusion Matrix:\\n\", cm)\n",
    "\n",
    "plt.figure(figsize=(6, 5))\n",
    "sns.heatmap(cm, annot=True, fmt='d', cmap='Blues', cbar=False,\n",
    "            xticklabels=['Predicted 0', 'Predicted 1'],\n",
    "            yticklabels=['Actual 0', 'Actual 1'])\n",
    "plt.xlabel('Predicted')\n",
    "plt.ylabel('Actual')\n",
    "plt.title('Confusion Matrix')\n",
    "plt.tight_layout()\n",
    "plt.show()"
   ]
  },
  {
   "cell_type": "markdown",
   "id": "42c7b2f4",
   "metadata": {},
   "source": [
    "# with learnt features"
   ]
  },
  {
   "cell_type": "code",
   "execution_count": null,
   "id": "4885e757",
   "metadata": {},
   "outputs": [],
   "source": [
    "import pandas as pd\n",
    "path = '/home/omen/Documents/Nafisha/VS/VS_refactored_code/RandomForest/CSVs/AIIMsDF.csv'\n",
    "data = pd.read_csv(path, index_col=0)"
   ]
  },
  {
   "cell_type": "code",
   "execution_count": null,
   "id": "05e103db",
   "metadata": {},
   "outputs": [],
   "source": [
    "y = data['change'].values  # Labels\n",
    "X = data.drop(columns=['change']).values"
   ]
  },
  {
   "cell_type": "code",
   "execution_count": null,
   "id": "06198a54",
   "metadata": {},
   "outputs": [],
   "source": [
    "# x.columns = x.columns.astype(str)"
   ]
  },
  {
   "cell_type": "code",
   "execution_count": null,
   "id": "fa51701b",
   "metadata": {},
   "outputs": [],
   "source": [
    "from joblib import load\n",
    "import numpy as np\n",
    "\n",
    "# 1. Load the saved pipeline\n",
    "pipe = load('/home/omen/Documents/Nafisha/VS/VS_refactored_code/RandomForest/checkpoints/pipe_pca_rf_50.joblib')"
   ]
  },
  {
   "cell_type": "code",
   "execution_count": null,
   "id": "b213617d",
   "metadata": {},
   "outputs": [],
   "source": [
    "prediction = pipe.predict(X)"
   ]
  },
  {
   "cell_type": "code",
   "execution_count": null,
   "id": "d77dc287",
   "metadata": {},
   "outputs": [],
   "source": [
    "from sklearn.metrics import accuracy_score, classification_report\n",
    "\n",
    "accuracy = accuracy_score(y, prediction)\n",
    "print(f\"Accuracy: {accuracy}\")\n",
    "print(classification_report(y, prediction))"
   ]
  },
  {
   "cell_type": "code",
   "execution_count": null,
   "id": "81cc109c",
   "metadata": {},
   "outputs": [],
   "source": [
    "from sklearn.metrics import confusion_matrix\n",
    "import seaborn as sns\n",
    "import matplotlib.pyplot as plt\n",
    "\n",
    "cm = confusion_matrix(y, prediction)\n",
    "print(\"Confusion Matrix:\\n\", cm)\n",
    "\n",
    "plt.figure(figsize=(6, 5))\n",
    "sns.heatmap(cm, annot=True, fmt='d', cmap='Blues', cbar=False,\n",
    "            xticklabels=['Predicted 0', 'Predicted 1'],\n",
    "            yticklabels=['Actual 0', 'Actual 1'])\n",
    "plt.xlabel('Predicted')\n",
    "plt.ylabel('Actual')\n",
    "plt.title('Confusion Matrix')\n",
    "plt.tight_layout()\n",
    "plt.show()"
   ]
  }
 ],
 "metadata": {
  "kernelspec": {
   "display_name": "3dVS",
   "language": "python",
   "name": "python3"
  },
  "language_info": {
   "codemirror_mode": {
    "name": "ipython",
    "version": 3
   },
   "file_extension": ".py",
   "mimetype": "text/x-python",
   "name": "python",
   "nbconvert_exporter": "python",
   "pygments_lexer": "ipython3",
   "version": "3.10.16"
  }
 },
 "nbformat": 4,
 "nbformat_minor": 5
}
