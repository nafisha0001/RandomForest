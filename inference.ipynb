{
 "cells": [
  {
   "cell_type": "markdown",
   "id": "7f91b08b",
   "metadata": {},
   "source": [
    "# without 3d-unet learnt features"
   ]
  },
  {
   "cell_type": "code",
   "execution_count": 1,
   "id": "2e994c7b",
   "metadata": {},
   "outputs": [],
   "source": [
    "import pandas as pd"
   ]
  },
  {
   "cell_type": "code",
   "execution_count": null,
   "id": "e4e2747c",
   "metadata": {},
   "outputs": [],
   "source": [
    "file_path = '/home/omen/Documents/Nafisha/RandomForestData/radiomicsFeat.csv'\n",
    "data = pd.read_csv(file_path, index_col=0)"
   ]
  },
  {
   "cell_type": "code",
   "execution_count": null,
   "id": "031d6946",
   "metadata": {},
   "outputs": [],
   "source": [
    "y = data['change']\n",
    "x=data.drop(['change'],axis=1)"
   ]
  },
  {
   "cell_type": "code",
   "execution_count": null,
   "id": "81bc2f42",
   "metadata": {},
   "outputs": [],
   "source": [
    "y.value_counts()"
   ]
  },
  {
   "cell_type": "code",
   "execution_count": null,
   "id": "f5704e27",
   "metadata": {},
   "outputs": [],
   "source": [
    "import joblib\n",
    "loaded_model = joblib.load('/home/omen/Documents/Nafisha/VS/DynUnet/RandomForest/rf_radiomics.pkl')"
   ]
  },
  {
   "cell_type": "code",
   "execution_count": null,
   "id": "e918bfcd",
   "metadata": {},
   "outputs": [],
   "source": [
    "y_pred_loaded = loaded_model.predict(x)"
   ]
  },
  {
   "cell_type": "code",
   "execution_count": null,
   "id": "d1fc6937",
   "metadata": {},
   "outputs": [],
   "source": [
    "from sklearn.metrics import accuracy_score, classification_report\n",
    "\n",
    "accuracy = accuracy_score(y, y_pred_loaded)\n",
    "print(f\"Accuracy: {accuracy}\")\n",
    "print(classification_report(y, y_pred_loaded))"
   ]
  },
  {
   "cell_type": "code",
   "execution_count": null,
   "id": "75b31539",
   "metadata": {},
   "outputs": [],
   "source": [
    "y_prob = loaded_model.predict_proba(x)\n",
    "y_prob[:, 1]"
   ]
  },
  {
   "cell_type": "code",
   "execution_count": null,
   "id": "d4c942aa",
   "metadata": {},
   "outputs": [],
   "source": [
    "import pandas as pd\n",
    "import numpy as np\n",
    "\n",
    "y = y.to_numpy() if isinstance(y, pd.Series) else y\n",
    "y_prob = y_prob.to_numpy() if isinstance(y_prob, pd.DataFrame) else y_prob\n",
    "\n",
    "y = y.ravel()\n",
    "y_prob = y_prob[:, 1].ravel()  # Assuming y_prob is shape (N, 2)\n",
    "predicted_labels = [1 if prob >= 0.5 else 0 for prob in y_prob]\n",
    "\n",
    "# df = pd.DataFrame({\n",
    "#     \"Original\": y,\n",
    "#     \"Probability\": y_prob,\n",
    "#     \"Predicted\": predicted_labels\n",
    "# })\n",
    "\n",
    "df = pd.DataFrame({\n",
    "    \"Original\": y,\n",
    "    \"Predicted\": predicted_labels\n",
    "})\n"
   ]
  },
  {
   "cell_type": "markdown",
   "id": "42c7b2f4",
   "metadata": {},
   "source": [
    "# with learnt features"
   ]
  },
  {
   "cell_type": "code",
   "execution_count": null,
   "id": "4885e757",
   "metadata": {},
   "outputs": [],
   "source": [
    "import pandas as pd\n",
    "path = '/home/omen/Documents/Nafisha/RandomForestData/dynunetFeat.csv'\n",
    "data = pd.read_csv(path, index_col=0)"
   ]
  },
  {
   "cell_type": "code",
   "execution_count": null,
   "id": "05e103db",
   "metadata": {},
   "outputs": [],
   "source": [
    "y = data['change']\n",
    "x = data.drop(['change'],axis=1)"
   ]
  },
  {
   "cell_type": "code",
   "execution_count": null,
   "id": "06198a54",
   "metadata": {},
   "outputs": [],
   "source": [
    "x.columns = x.columns.astype(str)"
   ]
  },
  {
   "cell_type": "code",
   "execution_count": null,
   "id": "fa51701b",
   "metadata": {},
   "outputs": [],
   "source": [
    "import joblib\n",
    "loaded_model = joblib.load('/home/omen/Documents/Nafisha/VS/DynUnet/RandomForest/rf_learntFeat30.pkl')\n",
    "\n",
    "y_pred_loaded = loaded_model.predict(x)"
   ]
  },
  {
   "cell_type": "code",
   "execution_count": null,
   "id": "b213617d",
   "metadata": {},
   "outputs": [],
   "source": [
    "from sklearn.metrics import accuracy_score, classification_report\n",
    "\n",
    "accuracy = accuracy_score(y, y_pred_loaded)\n",
    "print(f\"Accuracy: {accuracy}\")\n",
    "print(classification_report(y, y_pred_loaded))"
   ]
  },
  {
   "cell_type": "code",
   "execution_count": null,
   "id": "d77dc287",
   "metadata": {},
   "outputs": [],
   "source": [
    "y_prob = loaded_model.predict_proba(x)\n",
    "y_prob[:, 1]"
   ]
  },
  {
   "cell_type": "code",
   "execution_count": null,
   "id": "81cc109c",
   "metadata": {},
   "outputs": [],
   "source": [
    "import pandas as pd\n",
    "import numpy as np\n",
    "\n",
    "y = y.to_numpy() if isinstance(y, pd.Series) else y\n",
    "y_prob = y_prob.to_numpy() if isinstance(y_prob, pd.DataFrame) else y_prob\n",
    "\n",
    "y = y.ravel()\n",
    "y_prob = y_prob[:, 1].ravel()  # Assuming y_prob is shape (N, 2)\n",
    "predicted_labels = [1 if prob >= 0.5 else 0 for prob in y_prob]\n",
    "\n",
    "# df = pd.DataFrame({\n",
    "#     \"Original\": y,\n",
    "#     \"Probability\": y_prob,\n",
    "#     \"Predicted\": predicted_labels\n",
    "# })\n",
    "\n",
    "df = pd.DataFrame({\n",
    "    \"Original\": y,\n",
    "    \"Predicted\": predicted_labels\n",
    "})\n",
    "\n",
    "df"
   ]
  }
 ],
 "metadata": {
  "kernelspec": {
   "display_name": "3dVS",
   "language": "python",
   "name": "python3"
  },
  "language_info": {
   "codemirror_mode": {
    "name": "ipython",
    "version": 3
   },
   "file_extension": ".py",
   "mimetype": "text/x-python",
   "name": "python",
   "nbconvert_exporter": "python",
   "pygments_lexer": "ipython3",
   "version": "3.10.16"
  }
 },
 "nbformat": 4,
 "nbformat_minor": 5
}
