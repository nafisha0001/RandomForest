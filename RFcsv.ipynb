{
 "cells": [
  {
   "cell_type": "code",
   "execution_count": 2,
   "id": "0986c57e",
   "metadata": {},
   "outputs": [],
   "source": [
    "patient_image=[]\n",
    "year_image=[]\n",
    "weight_folders=[]"
   ]
  },
  {
   "cell_type": "code",
   "execution_count": null,
   "id": "8e12cbf4",
   "metadata": {},
   "outputs": [],
   "source": [
    "import pandas as pd\n",
    "\n",
    "csv_path = r'/home/omen/Documents/VS_data/vs_paths.csv'\n",
    "df = pd.read_csv(csv_path)"
   ]
  },
  {
   "cell_type": "code",
   "execution_count": null,
   "id": "42550a65",
   "metadata": {},
   "outputs": [],
   "source": [
    "import os\n",
    "data_dir = r'\\home\\omen\\Documents\\VS_data'\n",
    "\n",
    "dcm_paths = []\n",
    "weight_folders = list(df['image_path'])\n",
    "weight_folders = [os.path.join(data_dir,p) for p in weight_folders]\n",
    "weight_folders = [p.replace(\"\\\\\", \"/\") for p in weight_folders]\n",
    "\n",
    "for i in range(len(weight_folders)):\n",
    "    dcm_files = [f for f in os.listdir(weight_folders[i]) if f.endswith('.dcm')]\n",
    "    dcm_paths.append(os.path.join(weight_folders[i], dcm_files[0]))"
   ]
  },
  {
   "cell_type": "code",
   "execution_count": null,
   "id": "ca65255c",
   "metadata": {},
   "outputs": [],
   "source": [
    "seg_paths = list(df['SegmentationPath'])\n",
    "seg_paths = [os.path.join(data_dir,p) for p in seg_paths]\n",
    "seg_paths = [p.replace(\"\\\\\", \"/\") for p in seg_paths]"
   ]
  },
  {
   "cell_type": "code",
   "execution_count": null,
   "id": "72c96062",
   "metadata": {},
   "outputs": [],
   "source": [
    "import re\n",
    "\n",
    "def extract_patient_name(path):\n",
    "    pattern = r\"/(?P<patient_name>(?:VS-(?:SEG|MC-RC)-)?\\d+)/(?P<date_of_mri>\\d{2}-\\d{2}-\\d{4})\"\n",
    "    match = re.search(pattern, path)\n",
    "    if match:\n",
    "        return match.group(1)\n",
    "    return None\n",
    "\n",
    "def extract_patient_year(path):\n",
    "  pattern = r\"/(?P<patient_name>(?:VS-(?:SEG|MC-RC)-)?\\d+)/(?P<date_of_mri>\\d{2}-\\d{2}-\\d{4})\"\n",
    "  match = re.search(pattern, path)\n",
    "  if match:\n",
    "    return match.group(2)\n",
    "  return None"
   ]
  },
  {
   "cell_type": "code",
   "execution_count": null,
   "id": "337be90e",
   "metadata": {},
   "outputs": [],
   "source": [
    "import SimpleITK as sitk\n",
    "import numpy as np\n",
    "import matplotlib.pyplot as plt\n",
    "\n",
    "def resample_segmentation_to_image(segmentation_image, image):\n",
    "    resampler = sitk.ResampleImageFilter()\n",
    "    resampler.SetSize(image.GetSize())\n",
    "    resampler.SetOutputSpacing(image.GetSpacing())\n",
    "    resampler.SetOutputDirection(image.GetDirection())\n",
    "    resampler.SetOutputOrigin(image.GetOrigin())\n",
    "    resampler.SetTransform(sitk.Transform())\n",
    "    resampler.SetInterpolator(sitk.sitkNearestNeighbor)\n",
    "    return resampler.Execute(segmentation_image)"
   ]
  },
  {
   "cell_type": "code",
   "execution_count": 17,
   "id": "0566183d",
   "metadata": {},
   "outputs": [
    {
     "name": "stdout",
     "output_type": "stream",
     "text": [
      "VS-SEG-003 1993\n"
     ]
    },
    {
     "name": "stderr",
     "output_type": "stream",
     "text": [
      "parameter force2D must be set to True to enable shape2D extraction\n",
      "GLCM is symmetrical, therefore Sum Average = 2 * Joint Average, only 1 needs to be calculated\n"
     ]
    },
    {
     "name": "stdout",
     "output_type": "stream",
     "text": [
      "VS-SEG-003 1995\n"
     ]
    },
    {
     "name": "stderr",
     "output_type": "stream",
     "text": [
      "parameter force2D must be set to True to enable shape2D extraction\n",
      "GLCM is symmetrical, therefore Sum Average = 2 * Joint Average, only 1 needs to be calculated\n"
     ]
    },
    {
     "name": "stdout",
     "output_type": "stream",
     "text": [
      "VS-SEG-003 1997\n"
     ]
    },
    {
     "name": "stderr",
     "output_type": "stream",
     "text": [
      "parameter force2D must be set to True to enable shape2D extraction\n",
      "GLCM is symmetrical, therefore Sum Average = 2 * Joint Average, only 1 needs to be calculated\n"
     ]
    },
    {
     "name": "stdout",
     "output_type": "stream",
     "text": [
      "VS-SEG-010 1993\n"
     ]
    },
    {
     "name": "stderr",
     "output_type": "stream",
     "text": [
      "parameter force2D must be set to True to enable shape2D extraction\n",
      "GLCM is symmetrical, therefore Sum Average = 2 * Joint Average, only 1 needs to be calculated\n"
     ]
    },
    {
     "name": "stdout",
     "output_type": "stream",
     "text": [
      "VS-SEG-010 1996\n"
     ]
    },
    {
     "name": "stderr",
     "output_type": "stream",
     "text": [
      "parameter force2D must be set to True to enable shape2D extraction\n",
      "GLCM is symmetrical, therefore Sum Average = 2 * Joint Average, only 1 needs to be calculated\n"
     ]
    },
    {
     "name": "stdout",
     "output_type": "stream",
     "text": [
      "VS-SEG-010 1999\n"
     ]
    },
    {
     "name": "stderr",
     "output_type": "stream",
     "text": [
      "parameter force2D must be set to True to enable shape2D extraction\n",
      "GLCM is symmetrical, therefore Sum Average = 2 * Joint Average, only 1 needs to be calculated\n"
     ]
    },
    {
     "name": "stdout",
     "output_type": "stream",
     "text": [
      "VS-SEG-013 1991\n"
     ]
    },
    {
     "name": "stderr",
     "output_type": "stream",
     "text": [
      "parameter force2D must be set to True to enable shape2D extraction\n",
      "GLCM is symmetrical, therefore Sum Average = 2 * Joint Average, only 1 needs to be calculated\n"
     ]
    },
    {
     "name": "stdout",
     "output_type": "stream",
     "text": [
      "VS-SEG-013 1995\n"
     ]
    },
    {
     "name": "stderr",
     "output_type": "stream",
     "text": [
      "parameter force2D must be set to True to enable shape2D extraction\n",
      "GLCM is symmetrical, therefore Sum Average = 2 * Joint Average, only 1 needs to be calculated\n"
     ]
    },
    {
     "name": "stdout",
     "output_type": "stream",
     "text": [
      "VS-SEG-013 1999\n"
     ]
    },
    {
     "name": "stderr",
     "output_type": "stream",
     "text": [
      "parameter force2D must be set to True to enable shape2D extraction\n",
      "GLCM is symmetrical, therefore Sum Average = 2 * Joint Average, only 1 needs to be calculated\n"
     ]
    },
    {
     "name": "stdout",
     "output_type": "stream",
     "text": [
      "VS-SEG-021 1996\n"
     ]
    },
    {
     "name": "stderr",
     "output_type": "stream",
     "text": [
      "parameter force2D must be set to True to enable shape2D extraction\n",
      "GLCM is symmetrical, therefore Sum Average = 2 * Joint Average, only 1 needs to be calculated\n"
     ]
    },
    {
     "name": "stdout",
     "output_type": "stream",
     "text": [
      "VS-SEG-021 1999\n"
     ]
    },
    {
     "name": "stderr",
     "output_type": "stream",
     "text": [
      "parameter force2D must be set to True to enable shape2D extraction\n",
      "GLCM is symmetrical, therefore Sum Average = 2 * Joint Average, only 1 needs to be calculated\n"
     ]
    },
    {
     "name": "stdout",
     "output_type": "stream",
     "text": [
      "VS-SEG-025 1992\n"
     ]
    },
    {
     "name": "stderr",
     "output_type": "stream",
     "text": [
      "parameter force2D must be set to True to enable shape2D extraction\n",
      "GLCM is symmetrical, therefore Sum Average = 2 * Joint Average, only 1 needs to be calculated\n"
     ]
    },
    {
     "name": "stdout",
     "output_type": "stream",
     "text": [
      "VS-SEG-025 1996\n"
     ]
    },
    {
     "name": "stderr",
     "output_type": "stream",
     "text": [
      "parameter force2D must be set to True to enable shape2D extraction\n",
      "GLCM is symmetrical, therefore Sum Average = 2 * Joint Average, only 1 needs to be calculated\n"
     ]
    },
    {
     "name": "stdout",
     "output_type": "stream",
     "text": [
      "VS-SEG-025 1999\n"
     ]
    },
    {
     "name": "stderr",
     "output_type": "stream",
     "text": [
      "parameter force2D must be set to True to enable shape2D extraction\n",
      "GLCM is symmetrical, therefore Sum Average = 2 * Joint Average, only 1 needs to be calculated\n",
      "parameter force2D must be set to True to enable shape2D extraction\n"
     ]
    },
    {
     "name": "stdout",
     "output_type": "stream",
     "text": [
      "VS-SEG-028 1990\n"
     ]
    },
    {
     "name": "stderr",
     "output_type": "stream",
     "text": [
      "GLCM is symmetrical, therefore Sum Average = 2 * Joint Average, only 1 needs to be calculated\n"
     ]
    },
    {
     "name": "stdout",
     "output_type": "stream",
     "text": [
      "VS-SEG-028 1996\n"
     ]
    },
    {
     "name": "stderr",
     "output_type": "stream",
     "text": [
      "parameter force2D must be set to True to enable shape2D extraction\n",
      "GLCM is symmetrical, therefore Sum Average = 2 * Joint Average, only 1 needs to be calculated\n"
     ]
    },
    {
     "name": "stdout",
     "output_type": "stream",
     "text": [
      "VS-SEG-028 2000\n"
     ]
    },
    {
     "name": "stderr",
     "output_type": "stream",
     "text": [
      "parameter force2D must be set to True to enable shape2D extraction\n",
      "GLCM is symmetrical, therefore Sum Average = 2 * Joint Average, only 1 needs to be calculated\n"
     ]
    },
    {
     "name": "stdout",
     "output_type": "stream",
     "text": [
      "VS-SEG-030 1993\n"
     ]
    },
    {
     "name": "stderr",
     "output_type": "stream",
     "text": [
      "parameter force2D must be set to True to enable shape2D extraction\n",
      "GLCM is symmetrical, therefore Sum Average = 2 * Joint Average, only 1 needs to be calculated\n"
     ]
    },
    {
     "name": "stdout",
     "output_type": "stream",
     "text": [
      "VS-SEG-030 1993\n"
     ]
    },
    {
     "name": "stderr",
     "output_type": "stream",
     "text": [
      "parameter force2D must be set to True to enable shape2D extraction\n",
      "GLCM is symmetrical, therefore Sum Average = 2 * Joint Average, only 1 needs to be calculated\n"
     ]
    },
    {
     "name": "stdout",
     "output_type": "stream",
     "text": [
      "VS-SEG-030 1994\n"
     ]
    },
    {
     "name": "stderr",
     "output_type": "stream",
     "text": [
      "parameter force2D must be set to True to enable shape2D extraction\n",
      "GLCM is symmetrical, therefore Sum Average = 2 * Joint Average, only 1 needs to be calculated\n"
     ]
    },
    {
     "name": "stdout",
     "output_type": "stream",
     "text": [
      "VS-SEG-031 1989\n"
     ]
    },
    {
     "name": "stderr",
     "output_type": "stream",
     "text": [
      "parameter force2D must be set to True to enable shape2D extraction\n",
      "GLCM is symmetrical, therefore Sum Average = 2 * Joint Average, only 1 needs to be calculated\n"
     ]
    },
    {
     "name": "stdout",
     "output_type": "stream",
     "text": [
      "VS-SEG-031 1996\n"
     ]
    },
    {
     "name": "stderr",
     "output_type": "stream",
     "text": [
      "parameter force2D must be set to True to enable shape2D extraction\n",
      "GLCM is symmetrical, therefore Sum Average = 2 * Joint Average, only 1 needs to be calculated\n"
     ]
    },
    {
     "name": "stdout",
     "output_type": "stream",
     "text": [
      "VS-SEG-031 2000\n"
     ]
    },
    {
     "name": "stderr",
     "output_type": "stream",
     "text": [
      "parameter force2D must be set to True to enable shape2D extraction\n",
      "GLCM is symmetrical, therefore Sum Average = 2 * Joint Average, only 1 needs to be calculated\n"
     ]
    },
    {
     "name": "stdout",
     "output_type": "stream",
     "text": [
      "VS-SEG-032 1994\n"
     ]
    },
    {
     "name": "stderr",
     "output_type": "stream",
     "text": [
      "parameter force2D must be set to True to enable shape2D extraction\n",
      "GLCM is symmetrical, therefore Sum Average = 2 * Joint Average, only 1 needs to be calculated\n"
     ]
    },
    {
     "name": "stdout",
     "output_type": "stream",
     "text": [
      "VS-SEG-032 1996\n"
     ]
    },
    {
     "name": "stderr",
     "output_type": "stream",
     "text": [
      "parameter force2D must be set to True to enable shape2D extraction\n",
      "GLCM is symmetrical, therefore Sum Average = 2 * Joint Average, only 1 needs to be calculated\n"
     ]
    },
    {
     "name": "stdout",
     "output_type": "stream",
     "text": [
      "VS-SEG-032 2000\n"
     ]
    },
    {
     "name": "stderr",
     "output_type": "stream",
     "text": [
      "parameter force2D must be set to True to enable shape2D extraction\n",
      "GLCM is symmetrical, therefore Sum Average = 2 * Joint Average, only 1 needs to be calculated\n"
     ]
    },
    {
     "name": "stdout",
     "output_type": "stream",
     "text": [
      "VS-SEG-034 1996\n"
     ]
    },
    {
     "name": "stderr",
     "output_type": "stream",
     "text": [
      "parameter force2D must be set to True to enable shape2D extraction\n",
      "GLCM is symmetrical, therefore Sum Average = 2 * Joint Average, only 1 needs to be calculated\n"
     ]
    },
    {
     "name": "stdout",
     "output_type": "stream",
     "text": [
      "VS-SEG-034 1999\n"
     ]
    },
    {
     "name": "stderr",
     "output_type": "stream",
     "text": [
      "parameter force2D must be set to True to enable shape2D extraction\n",
      "GLCM is symmetrical, therefore Sum Average = 2 * Joint Average, only 1 needs to be calculated\n"
     ]
    },
    {
     "name": "stdout",
     "output_type": "stream",
     "text": [
      "VS-SEG-034 2000\n"
     ]
    },
    {
     "name": "stderr",
     "output_type": "stream",
     "text": [
      "parameter force2D must be set to True to enable shape2D extraction\n",
      "GLCM is symmetrical, therefore Sum Average = 2 * Joint Average, only 1 needs to be calculated\n"
     ]
    },
    {
     "name": "stdout",
     "output_type": "stream",
     "text": [
      "VS-SEG-041 1996\n"
     ]
    },
    {
     "name": "stderr",
     "output_type": "stream",
     "text": [
      "parameter force2D must be set to True to enable shape2D extraction\n",
      "GLCM is symmetrical, therefore Sum Average = 2 * Joint Average, only 1 needs to be calculated\n"
     ]
    },
    {
     "name": "stdout",
     "output_type": "stream",
     "text": [
      "VS-SEG-041 1999\n"
     ]
    },
    {
     "name": "stderr",
     "output_type": "stream",
     "text": [
      "parameter force2D must be set to True to enable shape2D extraction\n",
      "GLCM is symmetrical, therefore Sum Average = 2 * Joint Average, only 1 needs to be calculated\n"
     ]
    },
    {
     "name": "stdout",
     "output_type": "stream",
     "text": [
      "VS-SEG-042 1994\n"
     ]
    },
    {
     "name": "stderr",
     "output_type": "stream",
     "text": [
      "parameter force2D must be set to True to enable shape2D extraction\n",
      "GLCM is symmetrical, therefore Sum Average = 2 * Joint Average, only 1 needs to be calculated\n"
     ]
    },
    {
     "name": "stdout",
     "output_type": "stream",
     "text": [
      "VS-SEG-042 1997\n"
     ]
    },
    {
     "name": "stderr",
     "output_type": "stream",
     "text": [
      "parameter force2D must be set to True to enable shape2D extraction\n",
      "GLCM is symmetrical, therefore Sum Average = 2 * Joint Average, only 1 needs to be calculated\n"
     ]
    },
    {
     "name": "stdout",
     "output_type": "stream",
     "text": [
      "VS-SEG-042 1999\n"
     ]
    },
    {
     "name": "stderr",
     "output_type": "stream",
     "text": [
      "parameter force2D must be set to True to enable shape2D extraction\n",
      "GLCM is symmetrical, therefore Sum Average = 2 * Joint Average, only 1 needs to be calculated\n"
     ]
    },
    {
     "name": "stdout",
     "output_type": "stream",
     "text": [
      "VS-SEG-044 1992\n"
     ]
    },
    {
     "name": "stderr",
     "output_type": "stream",
     "text": [
      "parameter force2D must be set to True to enable shape2D extraction\n",
      "GLCM is symmetrical, therefore Sum Average = 2 * Joint Average, only 1 needs to be calculated\n"
     ]
    },
    {
     "name": "stdout",
     "output_type": "stream",
     "text": [
      "VS-SEG-044 1994\n"
     ]
    },
    {
     "name": "stderr",
     "output_type": "stream",
     "text": [
      "parameter force2D must be set to True to enable shape2D extraction\n",
      "GLCM is symmetrical, therefore Sum Average = 2 * Joint Average, only 1 needs to be calculated\n"
     ]
    },
    {
     "name": "stdout",
     "output_type": "stream",
     "text": [
      "VS-SEG-044 1995\n"
     ]
    },
    {
     "name": "stderr",
     "output_type": "stream",
     "text": [
      "parameter force2D must be set to True to enable shape2D extraction\n",
      "GLCM is symmetrical, therefore Sum Average = 2 * Joint Average, only 1 needs to be calculated\n"
     ]
    },
    {
     "name": "stdout",
     "output_type": "stream",
     "text": [
      "VS-SEG-045 1990\n"
     ]
    },
    {
     "name": "stderr",
     "output_type": "stream",
     "text": [
      "parameter force2D must be set to True to enable shape2D extraction\n",
      "GLCM is symmetrical, therefore Sum Average = 2 * Joint Average, only 1 needs to be calculated\n"
     ]
    },
    {
     "name": "stdout",
     "output_type": "stream",
     "text": [
      "VS-SEG-045 1995\n"
     ]
    },
    {
     "name": "stderr",
     "output_type": "stream",
     "text": [
      "parameter force2D must be set to True to enable shape2D extraction\n",
      "GLCM is symmetrical, therefore Sum Average = 2 * Joint Average, only 1 needs to be calculated\n"
     ]
    },
    {
     "name": "stdout",
     "output_type": "stream",
     "text": [
      "VS-SEG-045 2000\n"
     ]
    },
    {
     "name": "stderr",
     "output_type": "stream",
     "text": [
      "parameter force2D must be set to True to enable shape2D extraction\n",
      "GLCM is symmetrical, therefore Sum Average = 2 * Joint Average, only 1 needs to be calculated\n"
     ]
    },
    {
     "name": "stdout",
     "output_type": "stream",
     "text": [
      "VS-SEG-049 1995\n"
     ]
    },
    {
     "name": "stderr",
     "output_type": "stream",
     "text": [
      "parameter force2D must be set to True to enable shape2D extraction\n",
      "GLCM is symmetrical, therefore Sum Average = 2 * Joint Average, only 1 needs to be calculated\n"
     ]
    },
    {
     "name": "stdout",
     "output_type": "stream",
     "text": [
      "VS-SEG-049 1997\n"
     ]
    },
    {
     "name": "stderr",
     "output_type": "stream",
     "text": [
      "parameter force2D must be set to True to enable shape2D extraction\n",
      "GLCM is symmetrical, therefore Sum Average = 2 * Joint Average, only 1 needs to be calculated\n"
     ]
    },
    {
     "name": "stdout",
     "output_type": "stream",
     "text": [
      "VS-SEG-058 1994\n"
     ]
    },
    {
     "name": "stderr",
     "output_type": "stream",
     "text": [
      "parameter force2D must be set to True to enable shape2D extraction\n",
      "GLCM is symmetrical, therefore Sum Average = 2 * Joint Average, only 1 needs to be calculated\n"
     ]
    },
    {
     "name": "stdout",
     "output_type": "stream",
     "text": [
      "VS-SEG-058 1998\n"
     ]
    },
    {
     "name": "stderr",
     "output_type": "stream",
     "text": [
      "parameter force2D must be set to True to enable shape2D extraction\n",
      "GLCM is symmetrical, therefore Sum Average = 2 * Joint Average, only 1 needs to be calculated\n"
     ]
    },
    {
     "name": "stdout",
     "output_type": "stream",
     "text": [
      "VS-SEG-058 2001\n"
     ]
    },
    {
     "name": "stderr",
     "output_type": "stream",
     "text": [
      "parameter force2D must be set to True to enable shape2D extraction\n",
      "GLCM is symmetrical, therefore Sum Average = 2 * Joint Average, only 1 needs to be calculated\n"
     ]
    },
    {
     "name": "stdout",
     "output_type": "stream",
     "text": [
      "VS-SEG-059 1994\n"
     ]
    },
    {
     "name": "stderr",
     "output_type": "stream",
     "text": [
      "parameter force2D must be set to True to enable shape2D extraction\n",
      "GLCM is symmetrical, therefore Sum Average = 2 * Joint Average, only 1 needs to be calculated\n"
     ]
    },
    {
     "name": "stdout",
     "output_type": "stream",
     "text": [
      "VS-SEG-059 1997\n"
     ]
    },
    {
     "name": "stderr",
     "output_type": "stream",
     "text": [
      "parameter force2D must be set to True to enable shape2D extraction\n",
      "GLCM is symmetrical, therefore Sum Average = 2 * Joint Average, only 1 needs to be calculated\n"
     ]
    },
    {
     "name": "stdout",
     "output_type": "stream",
     "text": [
      "VS-SEG-059 2000\n"
     ]
    },
    {
     "name": "stderr",
     "output_type": "stream",
     "text": [
      "parameter force2D must be set to True to enable shape2D extraction\n",
      "GLCM is symmetrical, therefore Sum Average = 2 * Joint Average, only 1 needs to be calculated\n"
     ]
    },
    {
     "name": "stdout",
     "output_type": "stream",
     "text": [
      "VS-SEG-060 1994\n"
     ]
    },
    {
     "name": "stderr",
     "output_type": "stream",
     "text": [
      "parameter force2D must be set to True to enable shape2D extraction\n",
      "GLCM is symmetrical, therefore Sum Average = 2 * Joint Average, only 1 needs to be calculated\n"
     ]
    },
    {
     "name": "stdout",
     "output_type": "stream",
     "text": [
      "VS-SEG-060 1995\n"
     ]
    },
    {
     "name": "stderr",
     "output_type": "stream",
     "text": [
      "parameter force2D must be set to True to enable shape2D extraction\n",
      "GLCM is symmetrical, therefore Sum Average = 2 * Joint Average, only 1 needs to be calculated\n"
     ]
    },
    {
     "name": "stdout",
     "output_type": "stream",
     "text": [
      "VS-SEG-060 2000\n"
     ]
    },
    {
     "name": "stderr",
     "output_type": "stream",
     "text": [
      "parameter force2D must be set to True to enable shape2D extraction\n",
      "GLCM is symmetrical, therefore Sum Average = 2 * Joint Average, only 1 needs to be calculated\n",
      "parameter force2D must be set to True to enable shape2D extraction\n",
      "GLCM is symmetrical, therefore Sum Average = 2 * Joint Average, only 1 needs to be calculated\n"
     ]
    },
    {
     "name": "stdout",
     "output_type": "stream",
     "text": [
      "VS-SEG-061 1998\n",
      "VS-SEG-070 1997\n"
     ]
    },
    {
     "name": "stderr",
     "output_type": "stream",
     "text": [
      "parameter force2D must be set to True to enable shape2D extraction\n",
      "GLCM is symmetrical, therefore Sum Average = 2 * Joint Average, only 1 needs to be calculated\n"
     ]
    },
    {
     "name": "stdout",
     "output_type": "stream",
     "text": [
      "VS-SEG-076 2001\n"
     ]
    },
    {
     "name": "stderr",
     "output_type": "stream",
     "text": [
      "parameter force2D must be set to True to enable shape2D extraction\n",
      "GLCM is symmetrical, therefore Sum Average = 2 * Joint Average, only 1 needs to be calculated\n"
     ]
    },
    {
     "name": "stdout",
     "output_type": "stream",
     "text": [
      "VS-SEG-077 1996\n"
     ]
    },
    {
     "name": "stderr",
     "output_type": "stream",
     "text": [
      "parameter force2D must be set to True to enable shape2D extraction\n",
      "GLCM is symmetrical, therefore Sum Average = 2 * Joint Average, only 1 needs to be calculated\n"
     ]
    },
    {
     "name": "stdout",
     "output_type": "stream",
     "text": [
      "VS-SEG-077 1999\n"
     ]
    },
    {
     "name": "stderr",
     "output_type": "stream",
     "text": [
      "parameter force2D must be set to True to enable shape2D extraction\n",
      "GLCM is symmetrical, therefore Sum Average = 2 * Joint Average, only 1 needs to be calculated\n"
     ]
    },
    {
     "name": "stdout",
     "output_type": "stream",
     "text": [
      "VS-SEG-082 1997\n"
     ]
    },
    {
     "name": "stderr",
     "output_type": "stream",
     "text": [
      "parameter force2D must be set to True to enable shape2D extraction\n",
      "GLCM is symmetrical, therefore Sum Average = 2 * Joint Average, only 1 needs to be calculated\n"
     ]
    },
    {
     "name": "stdout",
     "output_type": "stream",
     "text": [
      "VS-SEG-082 2000\n"
     ]
    },
    {
     "name": "stderr",
     "output_type": "stream",
     "text": [
      "parameter force2D must be set to True to enable shape2D extraction\n",
      "GLCM is symmetrical, therefore Sum Average = 2 * Joint Average, only 1 needs to be calculated\n"
     ]
    },
    {
     "name": "stdout",
     "output_type": "stream",
     "text": [
      "VS-SEG-092 1993\n"
     ]
    },
    {
     "name": "stderr",
     "output_type": "stream",
     "text": [
      "parameter force2D must be set to True to enable shape2D extraction\n",
      "GLCM is symmetrical, therefore Sum Average = 2 * Joint Average, only 1 needs to be calculated\n"
     ]
    },
    {
     "name": "stdout",
     "output_type": "stream",
     "text": [
      "VS-SEG-092 1996\n"
     ]
    },
    {
     "name": "stderr",
     "output_type": "stream",
     "text": [
      "parameter force2D must be set to True to enable shape2D extraction\n",
      "GLCM is symmetrical, therefore Sum Average = 2 * Joint Average, only 1 needs to be calculated\n"
     ]
    },
    {
     "name": "stdout",
     "output_type": "stream",
     "text": [
      "VS-SEG-092 2000\n"
     ]
    },
    {
     "name": "stderr",
     "output_type": "stream",
     "text": [
      "parameter force2D must be set to True to enable shape2D extraction\n",
      "GLCM is symmetrical, therefore Sum Average = 2 * Joint Average, only 1 needs to be calculated\n"
     ]
    },
    {
     "name": "stdout",
     "output_type": "stream",
     "text": [
      "VS-SEG-095 1993\n"
     ]
    },
    {
     "name": "stderr",
     "output_type": "stream",
     "text": [
      "parameter force2D must be set to True to enable shape2D extraction\n",
      "GLCM is symmetrical, therefore Sum Average = 2 * Joint Average, only 1 needs to be calculated\n"
     ]
    },
    {
     "name": "stdout",
     "output_type": "stream",
     "text": [
      "VS-SEG-095 1996\n"
     ]
    },
    {
     "name": "stderr",
     "output_type": "stream",
     "text": [
      "parameter force2D must be set to True to enable shape2D extraction\n",
      "GLCM is symmetrical, therefore Sum Average = 2 * Joint Average, only 1 needs to be calculated\n"
     ]
    },
    {
     "name": "stdout",
     "output_type": "stream",
     "text": [
      "VS-SEG-095 2000\n"
     ]
    },
    {
     "name": "stderr",
     "output_type": "stream",
     "text": [
      "parameter force2D must be set to True to enable shape2D extraction\n",
      "GLCM is symmetrical, therefore Sum Average = 2 * Joint Average, only 1 needs to be calculated\n"
     ]
    },
    {
     "name": "stdout",
     "output_type": "stream",
     "text": [
      "VS-SEG-098 1995\n"
     ]
    },
    {
     "name": "stderr",
     "output_type": "stream",
     "text": [
      "parameter force2D must be set to True to enable shape2D extraction\n",
      "GLCM is symmetrical, therefore Sum Average = 2 * Joint Average, only 1 needs to be calculated\n"
     ]
    },
    {
     "name": "stdout",
     "output_type": "stream",
     "text": [
      "VS-SEG-098 1998\n"
     ]
    },
    {
     "name": "stderr",
     "output_type": "stream",
     "text": [
      "parameter force2D must be set to True to enable shape2D extraction\n",
      "GLCM is symmetrical, therefore Sum Average = 2 * Joint Average, only 1 needs to be calculated\n"
     ]
    },
    {
     "name": "stdout",
     "output_type": "stream",
     "text": [
      "VS-SEG-098 2000\n"
     ]
    },
    {
     "name": "stderr",
     "output_type": "stream",
     "text": [
      "parameter force2D must be set to True to enable shape2D extraction\n",
      "GLCM is symmetrical, therefore Sum Average = 2 * Joint Average, only 1 needs to be calculated\n"
     ]
    },
    {
     "name": "stdout",
     "output_type": "stream",
     "text": [
      "VS-SEG-100 1998\n"
     ]
    },
    {
     "name": "stderr",
     "output_type": "stream",
     "text": [
      "parameter force2D must be set to True to enable shape2D extraction\n",
      "GLCM is symmetrical, therefore Sum Average = 2 * Joint Average, only 1 needs to be calculated\n"
     ]
    },
    {
     "name": "stdout",
     "output_type": "stream",
     "text": [
      "VS-SEG-100 2000\n"
     ]
    },
    {
     "name": "stderr",
     "output_type": "stream",
     "text": [
      "parameter force2D must be set to True to enable shape2D extraction\n",
      "GLCM is symmetrical, therefore Sum Average = 2 * Joint Average, only 1 needs to be calculated\n"
     ]
    },
    {
     "name": "stdout",
     "output_type": "stream",
     "text": [
      "VS-SEG-104 1995\n"
     ]
    },
    {
     "name": "stderr",
     "output_type": "stream",
     "text": [
      "parameter force2D must be set to True to enable shape2D extraction\n",
      "GLCM is symmetrical, therefore Sum Average = 2 * Joint Average, only 1 needs to be calculated\n"
     ]
    },
    {
     "name": "stdout",
     "output_type": "stream",
     "text": [
      "VS-SEG-104 1997\n"
     ]
    },
    {
     "name": "stderr",
     "output_type": "stream",
     "text": [
      "parameter force2D must be set to True to enable shape2D extraction\n",
      "GLCM is symmetrical, therefore Sum Average = 2 * Joint Average, only 1 needs to be calculated\n"
     ]
    },
    {
     "name": "stdout",
     "output_type": "stream",
     "text": [
      "VS-SEG-104 2000\n"
     ]
    },
    {
     "name": "stderr",
     "output_type": "stream",
     "text": [
      "parameter force2D must be set to True to enable shape2D extraction\n",
      "GLCM is symmetrical, therefore Sum Average = 2 * Joint Average, only 1 needs to be calculated\n"
     ]
    },
    {
     "name": "stdout",
     "output_type": "stream",
     "text": [
      "VS-SEG-107 1997\n"
     ]
    },
    {
     "name": "stderr",
     "output_type": "stream",
     "text": [
      "parameter force2D must be set to True to enable shape2D extraction\n",
      "GLCM is symmetrical, therefore Sum Average = 2 * Joint Average, only 1 needs to be calculated\n"
     ]
    },
    {
     "name": "stdout",
     "output_type": "stream",
     "text": [
      "VS-SEG-111 1997\n"
     ]
    },
    {
     "name": "stderr",
     "output_type": "stream",
     "text": [
      "parameter force2D must be set to True to enable shape2D extraction\n",
      "GLCM is symmetrical, therefore Sum Average = 2 * Joint Average, only 1 needs to be calculated\n"
     ]
    },
    {
     "name": "stdout",
     "output_type": "stream",
     "text": [
      "VS-SEG-112 1997\n"
     ]
    },
    {
     "name": "stderr",
     "output_type": "stream",
     "text": [
      "parameter force2D must be set to True to enable shape2D extraction\n",
      "GLCM is symmetrical, therefore Sum Average = 2 * Joint Average, only 1 needs to be calculated\n"
     ]
    },
    {
     "name": "stdout",
     "output_type": "stream",
     "text": [
      "VS-SEG-116 1995\n"
     ]
    },
    {
     "name": "stderr",
     "output_type": "stream",
     "text": [
      "parameter force2D must be set to True to enable shape2D extraction\n",
      "GLCM is symmetrical, therefore Sum Average = 2 * Joint Average, only 1 needs to be calculated\n"
     ]
    },
    {
     "name": "stdout",
     "output_type": "stream",
     "text": [
      "VS-SEG-116 1996\n"
     ]
    },
    {
     "name": "stderr",
     "output_type": "stream",
     "text": [
      "parameter force2D must be set to True to enable shape2D extraction\n",
      "GLCM is symmetrical, therefore Sum Average = 2 * Joint Average, only 1 needs to be calculated\n"
     ]
    },
    {
     "name": "stdout",
     "output_type": "stream",
     "text": [
      "VS-SEG-116 1996\n"
     ]
    },
    {
     "name": "stderr",
     "output_type": "stream",
     "text": [
      "parameter force2D must be set to True to enable shape2D extraction\n",
      "GLCM is symmetrical, therefore Sum Average = 2 * Joint Average, only 1 needs to be calculated\n"
     ]
    },
    {
     "name": "stdout",
     "output_type": "stream",
     "text": [
      "VS-SEG-117 1996\n"
     ]
    },
    {
     "name": "stderr",
     "output_type": "stream",
     "text": [
      "parameter force2D must be set to True to enable shape2D extraction\n",
      "GLCM is symmetrical, therefore Sum Average = 2 * Joint Average, only 1 needs to be calculated\n",
      "parameter force2D must be set to True to enable shape2D extraction\n",
      "GLCM is symmetrical, therefore Sum Average = 2 * Joint Average, only 1 needs to be calculated\n"
     ]
    },
    {
     "name": "stdout",
     "output_type": "stream",
     "text": [
      "VS-SEG-121 1990\n",
      "VS-SEG-121 1996\n"
     ]
    },
    {
     "name": "stderr",
     "output_type": "stream",
     "text": [
      "parameter force2D must be set to True to enable shape2D extraction\n",
      "GLCM is symmetrical, therefore Sum Average = 2 * Joint Average, only 1 needs to be calculated\n"
     ]
    },
    {
     "name": "stdout",
     "output_type": "stream",
     "text": [
      "VS-SEG-121 1997\n"
     ]
    },
    {
     "name": "stderr",
     "output_type": "stream",
     "text": [
      "parameter force2D must be set to True to enable shape2D extraction\n",
      "GLCM is symmetrical, therefore Sum Average = 2 * Joint Average, only 1 needs to be calculated\n"
     ]
    },
    {
     "name": "stdout",
     "output_type": "stream",
     "text": [
      "VS-SEG-122 1999\n"
     ]
    },
    {
     "name": "stderr",
     "output_type": "stream",
     "text": [
      "parameter force2D must be set to True to enable shape2D extraction\n",
      "GLCM is symmetrical, therefore Sum Average = 2 * Joint Average, only 1 needs to be calculated\n"
     ]
    },
    {
     "name": "stdout",
     "output_type": "stream",
     "text": [
      "VS-SEG-126 1996\n"
     ]
    },
    {
     "name": "stderr",
     "output_type": "stream",
     "text": [
      "parameter force2D must be set to True to enable shape2D extraction\n",
      "GLCM is symmetrical, therefore Sum Average = 2 * Joint Average, only 1 needs to be calculated\n",
      "parameter force2D must be set to True to enable shape2D extraction\n",
      "GLCM is symmetrical, therefore Sum Average = 2 * Joint Average, only 1 needs to be calculated\n"
     ]
    },
    {
     "name": "stdout",
     "output_type": "stream",
     "text": [
      "VS-SEG-132 1991\n",
      "VS-SEG-132 1996\n"
     ]
    },
    {
     "name": "stderr",
     "output_type": "stream",
     "text": [
      "parameter force2D must be set to True to enable shape2D extraction\n",
      "GLCM is symmetrical, therefore Sum Average = 2 * Joint Average, only 1 needs to be calculated\n"
     ]
    },
    {
     "name": "stdout",
     "output_type": "stream",
     "text": [
      "VS-SEG-132 2000\n"
     ]
    },
    {
     "name": "stderr",
     "output_type": "stream",
     "text": [
      "parameter force2D must be set to True to enable shape2D extraction\n",
      "GLCM is symmetrical, therefore Sum Average = 2 * Joint Average, only 1 needs to be calculated\n"
     ]
    },
    {
     "name": "stdout",
     "output_type": "stream",
     "text": [
      "VS-SEG-133 1996\n"
     ]
    },
    {
     "name": "stderr",
     "output_type": "stream",
     "text": [
      "parameter force2D must be set to True to enable shape2D extraction\n",
      "GLCM is symmetrical, therefore Sum Average = 2 * Joint Average, only 1 needs to be calculated\n"
     ]
    },
    {
     "name": "stdout",
     "output_type": "stream",
     "text": [
      "VS-SEG-133 1996\n"
     ]
    },
    {
     "name": "stderr",
     "output_type": "stream",
     "text": [
      "parameter force2D must be set to True to enable shape2D extraction\n",
      "GLCM is symmetrical, therefore Sum Average = 2 * Joint Average, only 1 needs to be calculated\n"
     ]
    },
    {
     "name": "stdout",
     "output_type": "stream",
     "text": [
      "VS-SEG-133 1997\n"
     ]
    },
    {
     "name": "stderr",
     "output_type": "stream",
     "text": [
      "parameter force2D must be set to True to enable shape2D extraction\n",
      "GLCM is symmetrical, therefore Sum Average = 2 * Joint Average, only 1 needs to be calculated\n"
     ]
    },
    {
     "name": "stdout",
     "output_type": "stream",
     "text": [
      "VS-SEG-135 1995\n"
     ]
    },
    {
     "name": "stderr",
     "output_type": "stream",
     "text": [
      "parameter force2D must be set to True to enable shape2D extraction\n",
      "GLCM is symmetrical, therefore Sum Average = 2 * Joint Average, only 1 needs to be calculated\n"
     ]
    },
    {
     "name": "stdout",
     "output_type": "stream",
     "text": [
      "VS-SEG-135 1997\n"
     ]
    },
    {
     "name": "stderr",
     "output_type": "stream",
     "text": [
      "parameter force2D must be set to True to enable shape2D extraction\n",
      "GLCM is symmetrical, therefore Sum Average = 2 * Joint Average, only 1 needs to be calculated\n"
     ]
    },
    {
     "name": "stdout",
     "output_type": "stream",
     "text": [
      "VS-SEG-135 2001\n"
     ]
    },
    {
     "name": "stderr",
     "output_type": "stream",
     "text": [
      "parameter force2D must be set to True to enable shape2D extraction\n",
      "GLCM is symmetrical, therefore Sum Average = 2 * Joint Average, only 1 needs to be calculated\n"
     ]
    },
    {
     "name": "stdout",
     "output_type": "stream",
     "text": [
      "VS-SEG-154 1994\n"
     ]
    },
    {
     "name": "stderr",
     "output_type": "stream",
     "text": [
      "parameter force2D must be set to True to enable shape2D extraction\n",
      "GLCM is symmetrical, therefore Sum Average = 2 * Joint Average, only 1 needs to be calculated\n"
     ]
    },
    {
     "name": "stdout",
     "output_type": "stream",
     "text": [
      "VS-SEG-154 1997\n"
     ]
    },
    {
     "name": "stderr",
     "output_type": "stream",
     "text": [
      "parameter force2D must be set to True to enable shape2D extraction\n",
      "GLCM is symmetrical, therefore Sum Average = 2 * Joint Average, only 1 needs to be calculated\n"
     ]
    },
    {
     "name": "stdout",
     "output_type": "stream",
     "text": [
      "VS-SEG-154 2001\n"
     ]
    },
    {
     "name": "stderr",
     "output_type": "stream",
     "text": [
      "parameter force2D must be set to True to enable shape2D extraction\n",
      "GLCM is symmetrical, therefore Sum Average = 2 * Joint Average, only 1 needs to be calculated\n"
     ]
    },
    {
     "name": "stdout",
     "output_type": "stream",
     "text": [
      "VS-SEG-164 1995\n"
     ]
    },
    {
     "name": "stderr",
     "output_type": "stream",
     "text": [
      "parameter force2D must be set to True to enable shape2D extraction\n",
      "GLCM is symmetrical, therefore Sum Average = 2 * Joint Average, only 1 needs to be calculated\n"
     ]
    },
    {
     "name": "stdout",
     "output_type": "stream",
     "text": [
      "VS-SEG-164 2000\n"
     ]
    },
    {
     "name": "stderr",
     "output_type": "stream",
     "text": [
      "parameter force2D must be set to True to enable shape2D extraction\n",
      "GLCM is symmetrical, therefore Sum Average = 2 * Joint Average, only 1 needs to be calculated\n"
     ]
    },
    {
     "name": "stdout",
     "output_type": "stream",
     "text": [
      "VS-SEG-172 1997\n"
     ]
    },
    {
     "name": "stderr",
     "output_type": "stream",
     "text": [
      "parameter force2D must be set to True to enable shape2D extraction\n",
      "GLCM is symmetrical, therefore Sum Average = 2 * Joint Average, only 1 needs to be calculated\n"
     ]
    },
    {
     "name": "stdout",
     "output_type": "stream",
     "text": [
      "VS-SEG-172 1998\n"
     ]
    },
    {
     "name": "stderr",
     "output_type": "stream",
     "text": [
      "parameter force2D must be set to True to enable shape2D extraction\n",
      "GLCM is symmetrical, therefore Sum Average = 2 * Joint Average, only 1 needs to be calculated\n"
     ]
    },
    {
     "name": "stdout",
     "output_type": "stream",
     "text": [
      "VS-SEG-172 1998\n"
     ]
    },
    {
     "name": "stderr",
     "output_type": "stream",
     "text": [
      "parameter force2D must be set to True to enable shape2D extraction\n",
      "GLCM is symmetrical, therefore Sum Average = 2 * Joint Average, only 1 needs to be calculated\n"
     ]
    },
    {
     "name": "stdout",
     "output_type": "stream",
     "text": [
      "VS-SEG-178 1994\n"
     ]
    },
    {
     "name": "stderr",
     "output_type": "stream",
     "text": [
      "parameter force2D must be set to True to enable shape2D extraction\n",
      "GLCM is symmetrical, therefore Sum Average = 2 * Joint Average, only 1 needs to be calculated\n"
     ]
    },
    {
     "name": "stdout",
     "output_type": "stream",
     "text": [
      "VS-SEG-178 1998\n"
     ]
    },
    {
     "name": "stderr",
     "output_type": "stream",
     "text": [
      "parameter force2D must be set to True to enable shape2D extraction\n",
      "GLCM is symmetrical, therefore Sum Average = 2 * Joint Average, only 1 needs to be calculated\n"
     ]
    },
    {
     "name": "stdout",
     "output_type": "stream",
     "text": [
      "VS-SEG-178 2001\n"
     ]
    },
    {
     "name": "stderr",
     "output_type": "stream",
     "text": [
      "parameter force2D must be set to True to enable shape2D extraction\n",
      "GLCM is symmetrical, therefore Sum Average = 2 * Joint Average, only 1 needs to be calculated\n"
     ]
    },
    {
     "name": "stdout",
     "output_type": "stream",
     "text": [
      "VS-SEG-188 1997\n"
     ]
    },
    {
     "name": "stderr",
     "output_type": "stream",
     "text": [
      "parameter force2D must be set to True to enable shape2D extraction\n",
      "GLCM is symmetrical, therefore Sum Average = 2 * Joint Average, only 1 needs to be calculated\n"
     ]
    },
    {
     "name": "stdout",
     "output_type": "stream",
     "text": [
      "VS-SEG-188 1997\n"
     ]
    },
    {
     "name": "stderr",
     "output_type": "stream",
     "text": [
      "parameter force2D must be set to True to enable shape2D extraction\n",
      "GLCM is symmetrical, therefore Sum Average = 2 * Joint Average, only 1 needs to be calculated\n"
     ]
    },
    {
     "name": "stdout",
     "output_type": "stream",
     "text": [
      "VS-SEG-195 2000\n"
     ]
    },
    {
     "name": "stderr",
     "output_type": "stream",
     "text": [
      "parameter force2D must be set to True to enable shape2D extraction\n",
      "GLCM is symmetrical, therefore Sum Average = 2 * Joint Average, only 1 needs to be calculated\n",
      "parameter force2D must be set to True to enable shape2D extraction\n",
      "GLCM is symmetrical, therefore Sum Average = 2 * Joint Average, only 1 needs to be calculated\n"
     ]
    },
    {
     "name": "stdout",
     "output_type": "stream",
     "text": [
      "VS-SEG-197 1995\n"
     ]
    },
    {
     "name": "stderr",
     "output_type": "stream",
     "text": [
      "parameter force2D must be set to True to enable shape2D extraction\n"
     ]
    },
    {
     "name": "stdout",
     "output_type": "stream",
     "text": [
      "VS-SEG-197 1996\n"
     ]
    },
    {
     "name": "stderr",
     "output_type": "stream",
     "text": [
      "GLCM is symmetrical, therefore Sum Average = 2 * Joint Average, only 1 needs to be calculated\n"
     ]
    },
    {
     "name": "stdout",
     "output_type": "stream",
     "text": [
      "VS-SEG-197 1998\n"
     ]
    },
    {
     "name": "stderr",
     "output_type": "stream",
     "text": [
      "parameter force2D must be set to True to enable shape2D extraction\n",
      "GLCM is symmetrical, therefore Sum Average = 2 * Joint Average, only 1 needs to be calculated\n"
     ]
    },
    {
     "name": "stdout",
     "output_type": "stream",
     "text": [
      "VS-SEG-199 1997\n"
     ]
    },
    {
     "name": "stderr",
     "output_type": "stream",
     "text": [
      "parameter force2D must be set to True to enable shape2D extraction\n",
      "GLCM is symmetrical, therefore Sum Average = 2 * Joint Average, only 1 needs to be calculated\n"
     ]
    },
    {
     "name": "stdout",
     "output_type": "stream",
     "text": [
      "VS-SEG-199 1998\n"
     ]
    },
    {
     "name": "stderr",
     "output_type": "stream",
     "text": [
      "parameter force2D must be set to True to enable shape2D extraction\n",
      "GLCM is symmetrical, therefore Sum Average = 2 * Joint Average, only 1 needs to be calculated\n"
     ]
    },
    {
     "name": "stdout",
     "output_type": "stream",
     "text": [
      "VS-SEG-218 1991\n"
     ]
    },
    {
     "name": "stderr",
     "output_type": "stream",
     "text": [
      "parameter force2D must be set to True to enable shape2D extraction\n",
      "GLCM is symmetrical, therefore Sum Average = 2 * Joint Average, only 1 needs to be calculated\n"
     ]
    },
    {
     "name": "stdout",
     "output_type": "stream",
     "text": [
      "VS-SEG-218 1992\n"
     ]
    },
    {
     "name": "stderr",
     "output_type": "stream",
     "text": [
      "parameter force2D must be set to True to enable shape2D extraction\n",
      "GLCM is symmetrical, therefore Sum Average = 2 * Joint Average, only 1 needs to be calculated\n"
     ]
    },
    {
     "name": "stdout",
     "output_type": "stream",
     "text": [
      "VS-SEG-218 1995\n"
     ]
    },
    {
     "name": "stderr",
     "output_type": "stream",
     "text": [
      "parameter force2D must be set to True to enable shape2D extraction\n",
      "GLCM is symmetrical, therefore Sum Average = 2 * Joint Average, only 1 needs to be calculated\n"
     ]
    },
    {
     "name": "stdout",
     "output_type": "stream",
     "text": [
      "VS-SEG-221 1996\n"
     ]
    },
    {
     "name": "stderr",
     "output_type": "stream",
     "text": [
      "parameter force2D must be set to True to enable shape2D extraction\n",
      "GLCM is symmetrical, therefore Sum Average = 2 * Joint Average, only 1 needs to be calculated\n"
     ]
    },
    {
     "name": "stdout",
     "output_type": "stream",
     "text": [
      "VS-SEG-221 1997\n"
     ]
    },
    {
     "name": "stderr",
     "output_type": "stream",
     "text": [
      "parameter force2D must be set to True to enable shape2D extraction\n",
      "GLCM is symmetrical, therefore Sum Average = 2 * Joint Average, only 1 needs to be calculated\n"
     ]
    },
    {
     "name": "stdout",
     "output_type": "stream",
     "text": [
      "VS-SEG-221 1998\n"
     ]
    },
    {
     "name": "stderr",
     "output_type": "stream",
     "text": [
      "parameter force2D must be set to True to enable shape2D extraction\n",
      "GLCM is symmetrical, therefore Sum Average = 2 * Joint Average, only 1 needs to be calculated\n"
     ]
    },
    {
     "name": "stdout",
     "output_type": "stream",
     "text": [
      "VS-MC-RC-001 1988\n"
     ]
    },
    {
     "name": "stderr",
     "output_type": "stream",
     "text": [
      "parameter force2D must be set to True to enable shape2D extraction\n",
      "GLCM is symmetrical, therefore Sum Average = 2 * Joint Average, only 1 needs to be calculated\n"
     ]
    },
    {
     "name": "stdout",
     "output_type": "stream",
     "text": [
      "VS-MC-RC-001 1989\n"
     ]
    },
    {
     "name": "stderr",
     "output_type": "stream",
     "text": [
      "parameter force2D must be set to True to enable shape2D extraction\n",
      "GLCM is symmetrical, therefore Sum Average = 2 * Joint Average, only 1 needs to be calculated\n"
     ]
    },
    {
     "name": "stdout",
     "output_type": "stream",
     "text": [
      "VS-MC-RC-001 1990\n"
     ]
    },
    {
     "name": "stderr",
     "output_type": "stream",
     "text": [
      "parameter force2D must be set to True to enable shape2D extraction\n",
      "GLCM is symmetrical, therefore Sum Average = 2 * Joint Average, only 1 needs to be calculated\n"
     ]
    },
    {
     "name": "stdout",
     "output_type": "stream",
     "text": [
      "VS-MC-RC-002 1987\n"
     ]
    },
    {
     "name": "stderr",
     "output_type": "stream",
     "text": [
      "parameter force2D must be set to True to enable shape2D extraction\n",
      "GLCM is symmetrical, therefore Sum Average = 2 * Joint Average, only 1 needs to be calculated\n"
     ]
    },
    {
     "name": "stdout",
     "output_type": "stream",
     "text": [
      "VS-MC-RC-002 1988\n"
     ]
    },
    {
     "name": "stderr",
     "output_type": "stream",
     "text": [
      "parameter force2D must be set to True to enable shape2D extraction\n",
      "GLCM is symmetrical, therefore Sum Average = 2 * Joint Average, only 1 needs to be calculated\n"
     ]
    },
    {
     "name": "stdout",
     "output_type": "stream",
     "text": [
      "VS-MC-RC-002 1989\n"
     ]
    },
    {
     "name": "stderr",
     "output_type": "stream",
     "text": [
      "parameter force2D must be set to True to enable shape2D extraction\n",
      "GLCM is symmetrical, therefore Sum Average = 2 * Joint Average, only 1 needs to be calculated\n"
     ]
    },
    {
     "name": "stdout",
     "output_type": "stream",
     "text": [
      "VS-MC-RC-004 1994\n"
     ]
    },
    {
     "name": "stderr",
     "output_type": "stream",
     "text": [
      "parameter force2D must be set to True to enable shape2D extraction\n",
      "GLCM is symmetrical, therefore Sum Average = 2 * Joint Average, only 1 needs to be calculated\n"
     ]
    },
    {
     "name": "stdout",
     "output_type": "stream",
     "text": [
      "VS-MC-RC-004 1995\n"
     ]
    },
    {
     "name": "stderr",
     "output_type": "stream",
     "text": [
      "parameter force2D must be set to True to enable shape2D extraction\n",
      "GLCM is symmetrical, therefore Sum Average = 2 * Joint Average, only 1 needs to be calculated\n"
     ]
    },
    {
     "name": "stdout",
     "output_type": "stream",
     "text": [
      "VS-MC-RC-004 1996\n"
     ]
    },
    {
     "name": "stderr",
     "output_type": "stream",
     "text": [
      "parameter force2D must be set to True to enable shape2D extraction\n",
      "GLCM is symmetrical, therefore Sum Average = 2 * Joint Average, only 1 needs to be calculated\n"
     ]
    },
    {
     "name": "stdout",
     "output_type": "stream",
     "text": [
      "VS-MC-RC-005 1988\n"
     ]
    },
    {
     "name": "stderr",
     "output_type": "stream",
     "text": [
      "parameter force2D must be set to True to enable shape2D extraction\n",
      "GLCM is symmetrical, therefore Sum Average = 2 * Joint Average, only 1 needs to be calculated\n"
     ]
    },
    {
     "name": "stdout",
     "output_type": "stream",
     "text": [
      "VS-MC-RC-005 1991\n"
     ]
    },
    {
     "name": "stderr",
     "output_type": "stream",
     "text": [
      "parameter force2D must be set to True to enable shape2D extraction\n",
      "GLCM is symmetrical, therefore Sum Average = 2 * Joint Average, only 1 needs to be calculated\n"
     ]
    },
    {
     "name": "stdout",
     "output_type": "stream",
     "text": [
      "VS-MC-RC-006 1991\n"
     ]
    },
    {
     "name": "stderr",
     "output_type": "stream",
     "text": [
      "parameter force2D must be set to True to enable shape2D extraction\n",
      "GLCM is symmetrical, therefore Sum Average = 2 * Joint Average, only 1 needs to be calculated\n"
     ]
    },
    {
     "name": "stdout",
     "output_type": "stream",
     "text": [
      "VS-MC-RC-006 1992\n"
     ]
    },
    {
     "name": "stderr",
     "output_type": "stream",
     "text": [
      "parameter force2D must be set to True to enable shape2D extraction\n",
      "GLCM is symmetrical, therefore Sum Average = 2 * Joint Average, only 1 needs to be calculated\n"
     ]
    },
    {
     "name": "stdout",
     "output_type": "stream",
     "text": [
      "VS-MC-RC-006 1993\n"
     ]
    },
    {
     "name": "stderr",
     "output_type": "stream",
     "text": [
      "parameter force2D must be set to True to enable shape2D extraction\n",
      "GLCM is symmetrical, therefore Sum Average = 2 * Joint Average, only 1 needs to be calculated\n"
     ]
    },
    {
     "name": "stdout",
     "output_type": "stream",
     "text": [
      "VS-MC-RC-007 1994\n"
     ]
    },
    {
     "name": "stderr",
     "output_type": "stream",
     "text": [
      "parameter force2D must be set to True to enable shape2D extraction\n",
      "GLCM is symmetrical, therefore Sum Average = 2 * Joint Average, only 1 needs to be calculated\n"
     ]
    },
    {
     "name": "stdout",
     "output_type": "stream",
     "text": [
      "VS-MC-RC-007 1997\n"
     ]
    },
    {
     "name": "stderr",
     "output_type": "stream",
     "text": [
      "parameter force2D must be set to True to enable shape2D extraction\n",
      "GLCM is symmetrical, therefore Sum Average = 2 * Joint Average, only 1 needs to be calculated\n"
     ]
    },
    {
     "name": "stdout",
     "output_type": "stream",
     "text": [
      "VS-MC-RC-009 1993\n"
     ]
    },
    {
     "name": "stderr",
     "output_type": "stream",
     "text": [
      "parameter force2D must be set to True to enable shape2D extraction\n",
      "GLCM is symmetrical, therefore Sum Average = 2 * Joint Average, only 1 needs to be calculated\n"
     ]
    },
    {
     "name": "stdout",
     "output_type": "stream",
     "text": [
      "VS-MC-RC-009 1995\n"
     ]
    },
    {
     "name": "stderr",
     "output_type": "stream",
     "text": [
      "parameter force2D must be set to True to enable shape2D extraction\n",
      "GLCM is symmetrical, therefore Sum Average = 2 * Joint Average, only 1 needs to be calculated\n"
     ]
    },
    {
     "name": "stdout",
     "output_type": "stream",
     "text": [
      "VS-MC-RC-009 1996\n"
     ]
    },
    {
     "name": "stderr",
     "output_type": "stream",
     "text": [
      "parameter force2D must be set to True to enable shape2D extraction\n",
      "GLCM is symmetrical, therefore Sum Average = 2 * Joint Average, only 1 needs to be calculated\n"
     ]
    },
    {
     "name": "stdout",
     "output_type": "stream",
     "text": [
      "VS-MC-RC-010 1993\n"
     ]
    },
    {
     "name": "stderr",
     "output_type": "stream",
     "text": [
      "parameter force2D must be set to True to enable shape2D extraction\n",
      "GLCM is symmetrical, therefore Sum Average = 2 * Joint Average, only 1 needs to be calculated\n"
     ]
    },
    {
     "name": "stdout",
     "output_type": "stream",
     "text": [
      "VS-MC-RC-010 1998\n"
     ]
    },
    {
     "name": "stderr",
     "output_type": "stream",
     "text": [
      "parameter force2D must be set to True to enable shape2D extraction\n",
      "GLCM is symmetrical, therefore Sum Average = 2 * Joint Average, only 1 needs to be calculated\n"
     ]
    },
    {
     "name": "stdout",
     "output_type": "stream",
     "text": [
      "VS-MC-RC-010 1999\n"
     ]
    },
    {
     "name": "stderr",
     "output_type": "stream",
     "text": [
      "parameter force2D must be set to True to enable shape2D extraction\n",
      "GLCM is symmetrical, therefore Sum Average = 2 * Joint Average, only 1 needs to be calculated\n"
     ]
    },
    {
     "name": "stdout",
     "output_type": "stream",
     "text": [
      "VS-MC-RC-011 1996\n"
     ]
    },
    {
     "name": "stderr",
     "output_type": "stream",
     "text": [
      "parameter force2D must be set to True to enable shape2D extraction\n",
      "GLCM is symmetrical, therefore Sum Average = 2 * Joint Average, only 1 needs to be calculated\n",
      "parameter force2D must be set to True to enable shape2D extraction\n",
      "GLCM is symmetrical, therefore Sum Average = 2 * Joint Average, only 1 needs to be calculated\n"
     ]
    },
    {
     "name": "stdout",
     "output_type": "stream",
     "text": [
      "VS-MC-RC-012 1995\n",
      "VS-MC-RC-012 1995\n"
     ]
    },
    {
     "name": "stderr",
     "output_type": "stream",
     "text": [
      "parameter force2D must be set to True to enable shape2D extraction\n",
      "GLCM is symmetrical, therefore Sum Average = 2 * Joint Average, only 1 needs to be calculated\n"
     ]
    },
    {
     "name": "stdout",
     "output_type": "stream",
     "text": [
      "VS-MC-RC-013 1987\n"
     ]
    },
    {
     "name": "stderr",
     "output_type": "stream",
     "text": [
      "parameter force2D must be set to True to enable shape2D extraction\n",
      "GLCM is symmetrical, therefore Sum Average = 2 * Joint Average, only 1 needs to be calculated\n",
      "parameter force2D must be set to True to enable shape2D extraction\n",
      "GLCM is symmetrical, therefore Sum Average = 2 * Joint Average, only 1 needs to be calculated\n"
     ]
    },
    {
     "name": "stdout",
     "output_type": "stream",
     "text": [
      "VS-MC-RC-013 1990\n",
      "VS-MC-RC-013 1996\n"
     ]
    },
    {
     "name": "stderr",
     "output_type": "stream",
     "text": [
      "parameter force2D must be set to True to enable shape2D extraction\n",
      "GLCM is symmetrical, therefore Sum Average = 2 * Joint Average, only 1 needs to be calculated\n"
     ]
    },
    {
     "name": "stdout",
     "output_type": "stream",
     "text": [
      "VS-MC-RC-015 1989\n"
     ]
    },
    {
     "name": "stderr",
     "output_type": "stream",
     "text": [
      "parameter force2D must be set to True to enable shape2D extraction\n",
      "GLCM is symmetrical, therefore Sum Average = 2 * Joint Average, only 1 needs to be calculated\n"
     ]
    },
    {
     "name": "stdout",
     "output_type": "stream",
     "text": [
      "VS-MC-RC-015 1990\n"
     ]
    },
    {
     "name": "stderr",
     "output_type": "stream",
     "text": [
      "parameter force2D must be set to True to enable shape2D extraction\n",
      "GLCM is symmetrical, therefore Sum Average = 2 * Joint Average, only 1 needs to be calculated\n",
      "parameter force2D must be set to True to enable shape2D extraction\n"
     ]
    },
    {
     "name": "stdout",
     "output_type": "stream",
     "text": [
      "VS-MC-RC-015 1992\n"
     ]
    },
    {
     "name": "stderr",
     "output_type": "stream",
     "text": [
      "GLCM is symmetrical, therefore Sum Average = 2 * Joint Average, only 1 needs to be calculated\n"
     ]
    },
    {
     "name": "stdout",
     "output_type": "stream",
     "text": [
      "VS-MC-RC-016 1991\n"
     ]
    },
    {
     "name": "stderr",
     "output_type": "stream",
     "text": [
      "parameter force2D must be set to True to enable shape2D extraction\n",
      "GLCM is symmetrical, therefore Sum Average = 2 * Joint Average, only 1 needs to be calculated\n"
     ]
    },
    {
     "name": "stdout",
     "output_type": "stream",
     "text": [
      "VS-MC-RC-016 1995\n"
     ]
    },
    {
     "name": "stderr",
     "output_type": "stream",
     "text": [
      "parameter force2D must be set to True to enable shape2D extraction\n",
      "GLCM is symmetrical, therefore Sum Average = 2 * Joint Average, only 1 needs to be calculated\n"
     ]
    },
    {
     "name": "stdout",
     "output_type": "stream",
     "text": [
      "VS-MC-RC-019 1995\n"
     ]
    },
    {
     "name": "stderr",
     "output_type": "stream",
     "text": [
      "parameter force2D must be set to True to enable shape2D extraction\n",
      "GLCM is symmetrical, therefore Sum Average = 2 * Joint Average, only 1 needs to be calculated\n"
     ]
    },
    {
     "name": "stdout",
     "output_type": "stream",
     "text": [
      "VS-MC-RC-019 1998\n"
     ]
    },
    {
     "name": "stderr",
     "output_type": "stream",
     "text": [
      "parameter force2D must be set to True to enable shape2D extraction\n",
      "GLCM is symmetrical, therefore Sum Average = 2 * Joint Average, only 1 needs to be calculated\n"
     ]
    },
    {
     "name": "stdout",
     "output_type": "stream",
     "text": [
      "VS-MC-RC-020 1997\n"
     ]
    },
    {
     "name": "stderr",
     "output_type": "stream",
     "text": [
      "parameter force2D must be set to True to enable shape2D extraction\n",
      "GLCM is symmetrical, therefore Sum Average = 2 * Joint Average, only 1 needs to be calculated\n"
     ]
    },
    {
     "name": "stdout",
     "output_type": "stream",
     "text": [
      "VS-MC-RC-021 1991\n"
     ]
    },
    {
     "name": "stderr",
     "output_type": "stream",
     "text": [
      "parameter force2D must be set to True to enable shape2D extraction\n",
      "GLCM is symmetrical, therefore Sum Average = 2 * Joint Average, only 1 needs to be calculated\n"
     ]
    },
    {
     "name": "stdout",
     "output_type": "stream",
     "text": [
      "VS-MC-RC-022 1993\n"
     ]
    },
    {
     "name": "stderr",
     "output_type": "stream",
     "text": [
      "parameter force2D must be set to True to enable shape2D extraction\n",
      "GLCM is symmetrical, therefore Sum Average = 2 * Joint Average, only 1 needs to be calculated\n"
     ]
    },
    {
     "name": "stdout",
     "output_type": "stream",
     "text": [
      "VS-MC-RC-022 1996\n"
     ]
    },
    {
     "name": "stderr",
     "output_type": "stream",
     "text": [
      "parameter force2D must be set to True to enable shape2D extraction\n",
      "GLCM is symmetrical, therefore Sum Average = 2 * Joint Average, only 1 needs to be calculated\n"
     ]
    },
    {
     "name": "stdout",
     "output_type": "stream",
     "text": [
      "VS-MC-RC-022 1999\n"
     ]
    },
    {
     "name": "stderr",
     "output_type": "stream",
     "text": [
      "parameter force2D must be set to True to enable shape2D extraction\n",
      "GLCM is symmetrical, therefore Sum Average = 2 * Joint Average, only 1 needs to be calculated\n"
     ]
    },
    {
     "name": "stdout",
     "output_type": "stream",
     "text": [
      "VS-MC-RC-024 1994\n"
     ]
    },
    {
     "name": "stderr",
     "output_type": "stream",
     "text": [
      "parameter force2D must be set to True to enable shape2D extraction\n",
      "GLCM is symmetrical, therefore Sum Average = 2 * Joint Average, only 1 needs to be calculated\n"
     ]
    },
    {
     "name": "stdout",
     "output_type": "stream",
     "text": [
      "VS-MC-RC-024 1995\n"
     ]
    },
    {
     "name": "stderr",
     "output_type": "stream",
     "text": [
      "parameter force2D must be set to True to enable shape2D extraction\n",
      "GLCM is symmetrical, therefore Sum Average = 2 * Joint Average, only 1 needs to be calculated\n"
     ]
    },
    {
     "name": "stdout",
     "output_type": "stream",
     "text": [
      "VS-MC-RC-024 1995\n"
     ]
    },
    {
     "name": "stderr",
     "output_type": "stream",
     "text": [
      "parameter force2D must be set to True to enable shape2D extraction\n",
      "GLCM is symmetrical, therefore Sum Average = 2 * Joint Average, only 1 needs to be calculated\n"
     ]
    },
    {
     "name": "stdout",
     "output_type": "stream",
     "text": [
      "VS-MC-RC-025 1991\n"
     ]
    },
    {
     "name": "stderr",
     "output_type": "stream",
     "text": [
      "parameter force2D must be set to True to enable shape2D extraction\n",
      "GLCM is symmetrical, therefore Sum Average = 2 * Joint Average, only 1 needs to be calculated\n"
     ]
    },
    {
     "name": "stdout",
     "output_type": "stream",
     "text": [
      "VS-MC-RC-025 1994\n"
     ]
    },
    {
     "name": "stderr",
     "output_type": "stream",
     "text": [
      "parameter force2D must be set to True to enable shape2D extraction\n",
      "GLCM is symmetrical, therefore Sum Average = 2 * Joint Average, only 1 needs to be calculated\n"
     ]
    },
    {
     "name": "stdout",
     "output_type": "stream",
     "text": [
      "VS-MC-RC-025 1996\n"
     ]
    },
    {
     "name": "stderr",
     "output_type": "stream",
     "text": [
      "parameter force2D must be set to True to enable shape2D extraction\n",
      "GLCM is symmetrical, therefore Sum Average = 2 * Joint Average, only 1 needs to be calculated\n"
     ]
    },
    {
     "name": "stdout",
     "output_type": "stream",
     "text": [
      "VS-MC-RC-026 1995\n"
     ]
    },
    {
     "name": "stderr",
     "output_type": "stream",
     "text": [
      "parameter force2D must be set to True to enable shape2D extraction\n",
      "GLCM is symmetrical, therefore Sum Average = 2 * Joint Average, only 1 needs to be calculated\n"
     ]
    },
    {
     "name": "stdout",
     "output_type": "stream",
     "text": [
      "VS-MC-RC-026 1997\n"
     ]
    },
    {
     "name": "stderr",
     "output_type": "stream",
     "text": [
      "parameter force2D must be set to True to enable shape2D extraction\n",
      "GLCM is symmetrical, therefore Sum Average = 2 * Joint Average, only 1 needs to be calculated\n"
     ]
    },
    {
     "name": "stdout",
     "output_type": "stream",
     "text": [
      "VS-MC-RC-027 1993\n"
     ]
    },
    {
     "name": "stderr",
     "output_type": "stream",
     "text": [
      "parameter force2D must be set to True to enable shape2D extraction\n",
      "GLCM is symmetrical, therefore Sum Average = 2 * Joint Average, only 1 needs to be calculated\n"
     ]
    },
    {
     "name": "stdout",
     "output_type": "stream",
     "text": [
      "VS-MC-RC-027 2000\n"
     ]
    },
    {
     "name": "stderr",
     "output_type": "stream",
     "text": [
      "parameter force2D must be set to True to enable shape2D extraction\n",
      "GLCM is symmetrical, therefore Sum Average = 2 * Joint Average, only 1 needs to be calculated\n"
     ]
    },
    {
     "name": "stdout",
     "output_type": "stream",
     "text": [
      "VS-MC-RC-028 1992\n"
     ]
    },
    {
     "name": "stderr",
     "output_type": "stream",
     "text": [
      "parameter force2D must be set to True to enable shape2D extraction\n",
      "GLCM is symmetrical, therefore Sum Average = 2 * Joint Average, only 1 needs to be calculated\n"
     ]
    },
    {
     "name": "stdout",
     "output_type": "stream",
     "text": [
      "VS-MC-RC-028 1995\n"
     ]
    },
    {
     "name": "stderr",
     "output_type": "stream",
     "text": [
      "parameter force2D must be set to True to enable shape2D extraction\n",
      "GLCM is symmetrical, therefore Sum Average = 2 * Joint Average, only 1 needs to be calculated\n"
     ]
    },
    {
     "name": "stdout",
     "output_type": "stream",
     "text": [
      "VS-MC-RC-028 1999\n"
     ]
    },
    {
     "name": "stderr",
     "output_type": "stream",
     "text": [
      "parameter force2D must be set to True to enable shape2D extraction\n",
      "GLCM is symmetrical, therefore Sum Average = 2 * Joint Average, only 1 needs to be calculated\n"
     ]
    },
    {
     "name": "stdout",
     "output_type": "stream",
     "text": [
      "VS-MC-RC-029 1993\n"
     ]
    },
    {
     "name": "stderr",
     "output_type": "stream",
     "text": [
      "parameter force2D must be set to True to enable shape2D extraction\n",
      "GLCM is symmetrical, therefore Sum Average = 2 * Joint Average, only 1 needs to be calculated\n"
     ]
    },
    {
     "name": "stdout",
     "output_type": "stream",
     "text": [
      "VS-MC-RC-030 1993\n"
     ]
    },
    {
     "name": "stderr",
     "output_type": "stream",
     "text": [
      "parameter force2D must be set to True to enable shape2D extraction\n",
      "GLCM is symmetrical, therefore Sum Average = 2 * Joint Average, only 1 needs to be calculated\n"
     ]
    },
    {
     "name": "stdout",
     "output_type": "stream",
     "text": [
      "VS-MC-RC-030 1995\n"
     ]
    },
    {
     "name": "stderr",
     "output_type": "stream",
     "text": [
      "parameter force2D must be set to True to enable shape2D extraction\n",
      "GLCM is symmetrical, therefore Sum Average = 2 * Joint Average, only 1 needs to be calculated\n"
     ]
    },
    {
     "name": "stdout",
     "output_type": "stream",
     "text": [
      "VS-MC-RC-030 1997\n"
     ]
    },
    {
     "name": "stderr",
     "output_type": "stream",
     "text": [
      "parameter force2D must be set to True to enable shape2D extraction\n",
      "GLCM is symmetrical, therefore Sum Average = 2 * Joint Average, only 1 needs to be calculated\n",
      "parameter force2D must be set to True to enable shape2D extraction\n",
      "GLCM is symmetrical, therefore Sum Average = 2 * Joint Average, only 1 needs to be calculated\n"
     ]
    },
    {
     "name": "stdout",
     "output_type": "stream",
     "text": [
      "VS-MC-RC-031 1987\n",
      "VS-MC-RC-031 1990\n"
     ]
    },
    {
     "name": "stderr",
     "output_type": "stream",
     "text": [
      "parameter force2D must be set to True to enable shape2D extraction\n",
      "GLCM is symmetrical, therefore Sum Average = 2 * Joint Average, only 1 needs to be calculated\n"
     ]
    },
    {
     "name": "stdout",
     "output_type": "stream",
     "text": [
      "VS-MC-RC-031 1995\n"
     ]
    },
    {
     "name": "stderr",
     "output_type": "stream",
     "text": [
      "parameter force2D must be set to True to enable shape2D extraction\n",
      "GLCM is symmetrical, therefore Sum Average = 2 * Joint Average, only 1 needs to be calculated\n"
     ]
    },
    {
     "name": "stdout",
     "output_type": "stream",
     "text": [
      "VS-MC-RC-033 1996\n"
     ]
    },
    {
     "name": "stderr",
     "output_type": "stream",
     "text": [
      "parameter force2D must be set to True to enable shape2D extraction\n",
      "GLCM is symmetrical, therefore Sum Average = 2 * Joint Average, only 1 needs to be calculated\n"
     ]
    },
    {
     "name": "stdout",
     "output_type": "stream",
     "text": [
      "VS-MC-RC-035 1987\n"
     ]
    },
    {
     "name": "stderr",
     "output_type": "stream",
     "text": [
      "parameter force2D must be set to True to enable shape2D extraction\n",
      "GLCM is symmetrical, therefore Sum Average = 2 * Joint Average, only 1 needs to be calculated\n"
     ]
    },
    {
     "name": "stdout",
     "output_type": "stream",
     "text": [
      "VS-MC-RC-035 1990\n"
     ]
    },
    {
     "name": "stderr",
     "output_type": "stream",
     "text": [
      "parameter force2D must be set to True to enable shape2D extraction\n",
      "GLCM is symmetrical, therefore Sum Average = 2 * Joint Average, only 1 needs to be calculated\n"
     ]
    },
    {
     "name": "stdout",
     "output_type": "stream",
     "text": [
      "VS-MC-RC-035 1997\n"
     ]
    },
    {
     "name": "stderr",
     "output_type": "stream",
     "text": [
      "parameter force2D must be set to True to enable shape2D extraction\n",
      "GLCM is symmetrical, therefore Sum Average = 2 * Joint Average, only 1 needs to be calculated\n"
     ]
    },
    {
     "name": "stdout",
     "output_type": "stream",
     "text": [
      "VS-MC-RC-036 1995\n"
     ]
    },
    {
     "name": "stderr",
     "output_type": "stream",
     "text": [
      "parameter force2D must be set to True to enable shape2D extraction\n",
      "GLCM is symmetrical, therefore Sum Average = 2 * Joint Average, only 1 needs to be calculated\n"
     ]
    },
    {
     "name": "stdout",
     "output_type": "stream",
     "text": [
      "VS-MC-RC-036 1999\n"
     ]
    },
    {
     "name": "stderr",
     "output_type": "stream",
     "text": [
      "parameter force2D must be set to True to enable shape2D extraction\n",
      "GLCM is symmetrical, therefore Sum Average = 2 * Joint Average, only 1 needs to be calculated\n"
     ]
    },
    {
     "name": "stdout",
     "output_type": "stream",
     "text": [
      "VS-MC-RC-037 1995\n"
     ]
    },
    {
     "name": "stderr",
     "output_type": "stream",
     "text": [
      "parameter force2D must be set to True to enable shape2D extraction\n",
      "GLCM is symmetrical, therefore Sum Average = 2 * Joint Average, only 1 needs to be calculated\n"
     ]
    },
    {
     "name": "stdout",
     "output_type": "stream",
     "text": [
      "VS-MC-RC-037 1995\n"
     ]
    },
    {
     "name": "stderr",
     "output_type": "stream",
     "text": [
      "parameter force2D must be set to True to enable shape2D extraction\n",
      "GLCM is symmetrical, therefore Sum Average = 2 * Joint Average, only 1 needs to be calculated\n"
     ]
    },
    {
     "name": "stdout",
     "output_type": "stream",
     "text": [
      "VS-MC-RC-037 1996\n"
     ]
    },
    {
     "name": "stderr",
     "output_type": "stream",
     "text": [
      "parameter force2D must be set to True to enable shape2D extraction\n",
      "GLCM is symmetrical, therefore Sum Average = 2 * Joint Average, only 1 needs to be calculated\n"
     ]
    },
    {
     "name": "stdout",
     "output_type": "stream",
     "text": [
      "VS-MC-RC-038 1994\n"
     ]
    },
    {
     "name": "stderr",
     "output_type": "stream",
     "text": [
      "parameter force2D must be set to True to enable shape2D extraction\n",
      "GLCM is symmetrical, therefore Sum Average = 2 * Joint Average, only 1 needs to be calculated\n"
     ]
    },
    {
     "name": "stdout",
     "output_type": "stream",
     "text": [
      "VS-MC-RC-038 1995\n"
     ]
    },
    {
     "name": "stderr",
     "output_type": "stream",
     "text": [
      "parameter force2D must be set to True to enable shape2D extraction\n",
      "GLCM is symmetrical, therefore Sum Average = 2 * Joint Average, only 1 needs to be calculated\n"
     ]
    },
    {
     "name": "stdout",
     "output_type": "stream",
     "text": [
      "VS-MC-RC-038 1998\n"
     ]
    },
    {
     "name": "stderr",
     "output_type": "stream",
     "text": [
      "parameter force2D must be set to True to enable shape2D extraction\n",
      "GLCM is symmetrical, therefore Sum Average = 2 * Joint Average, only 1 needs to be calculated\n"
     ]
    },
    {
     "name": "stdout",
     "output_type": "stream",
     "text": [
      "VS-MC-RC-040 1996\n"
     ]
    },
    {
     "name": "stderr",
     "output_type": "stream",
     "text": [
      "parameter force2D must be set to True to enable shape2D extraction\n",
      "GLCM is symmetrical, therefore Sum Average = 2 * Joint Average, only 1 needs to be calculated\n"
     ]
    },
    {
     "name": "stdout",
     "output_type": "stream",
     "text": [
      "VS-MC-RC-040 1997\n"
     ]
    },
    {
     "name": "stderr",
     "output_type": "stream",
     "text": [
      "parameter force2D must be set to True to enable shape2D extraction\n",
      "GLCM is symmetrical, therefore Sum Average = 2 * Joint Average, only 1 needs to be calculated\n"
     ]
    },
    {
     "name": "stdout",
     "output_type": "stream",
     "text": [
      "VS-MC-RC-040 1998\n"
     ]
    },
    {
     "name": "stderr",
     "output_type": "stream",
     "text": [
      "parameter force2D must be set to True to enable shape2D extraction\n",
      "GLCM is symmetrical, therefore Sum Average = 2 * Joint Average, only 1 needs to be calculated\n"
     ]
    },
    {
     "name": "stdout",
     "output_type": "stream",
     "text": [
      "VS-MC-RC-041 1990\n"
     ]
    },
    {
     "name": "stderr",
     "output_type": "stream",
     "text": [
      "parameter force2D must be set to True to enable shape2D extraction\n",
      "GLCM is symmetrical, therefore Sum Average = 2 * Joint Average, only 1 needs to be calculated\n"
     ]
    },
    {
     "name": "stdout",
     "output_type": "stream",
     "text": [
      "VS-MC-RC-041 1995\n"
     ]
    },
    {
     "name": "stderr",
     "output_type": "stream",
     "text": [
      "parameter force2D must be set to True to enable shape2D extraction\n",
      "GLCM is symmetrical, therefore Sum Average = 2 * Joint Average, only 1 needs to be calculated\n"
     ]
    },
    {
     "name": "stdout",
     "output_type": "stream",
     "text": [
      "VS-MC-RC-041 1999\n"
     ]
    },
    {
     "name": "stderr",
     "output_type": "stream",
     "text": [
      "parameter force2D must be set to True to enable shape2D extraction\n",
      "GLCM is symmetrical, therefore Sum Average = 2 * Joint Average, only 1 needs to be calculated\n"
     ]
    },
    {
     "name": "stdout",
     "output_type": "stream",
     "text": [
      "VS-MC-RC-043 1993\n"
     ]
    },
    {
     "name": "stderr",
     "output_type": "stream",
     "text": [
      "parameter force2D must be set to True to enable shape2D extraction\n",
      "GLCM is symmetrical, therefore Sum Average = 2 * Joint Average, only 1 needs to be calculated\n"
     ]
    },
    {
     "name": "stdout",
     "output_type": "stream",
     "text": [
      "VS-MC-RC-044 1996\n"
     ]
    },
    {
     "name": "stderr",
     "output_type": "stream",
     "text": [
      "parameter force2D must be set to True to enable shape2D extraction\n",
      "GLCM is symmetrical, therefore Sum Average = 2 * Joint Average, only 1 needs to be calculated\n"
     ]
    },
    {
     "name": "stdout",
     "output_type": "stream",
     "text": [
      "VS-MC-RC-044 1997\n"
     ]
    },
    {
     "name": "stderr",
     "output_type": "stream",
     "text": [
      "parameter force2D must be set to True to enable shape2D extraction\n",
      "GLCM is symmetrical, therefore Sum Average = 2 * Joint Average, only 1 needs to be calculated\n"
     ]
    },
    {
     "name": "stdout",
     "output_type": "stream",
     "text": [
      "VS-MC-RC-045 1997\n"
     ]
    },
    {
     "name": "stderr",
     "output_type": "stream",
     "text": [
      "parameter force2D must be set to True to enable shape2D extraction\n",
      "GLCM is symmetrical, therefore Sum Average = 2 * Joint Average, only 1 needs to be calculated\n"
     ]
    },
    {
     "name": "stdout",
     "output_type": "stream",
     "text": [
      "VS-MC-RC-045 1997\n"
     ]
    },
    {
     "name": "stderr",
     "output_type": "stream",
     "text": [
      "parameter force2D must be set to True to enable shape2D extraction\n",
      "GLCM is symmetrical, therefore Sum Average = 2 * Joint Average, only 1 needs to be calculated\n"
     ]
    },
    {
     "name": "stdout",
     "output_type": "stream",
     "text": [
      "VS-MC-RC-045 1998\n"
     ]
    },
    {
     "name": "stderr",
     "output_type": "stream",
     "text": [
      "parameter force2D must be set to True to enable shape2D extraction\n",
      "GLCM is symmetrical, therefore Sum Average = 2 * Joint Average, only 1 needs to be calculated\n"
     ]
    },
    {
     "name": "stdout",
     "output_type": "stream",
     "text": [
      "VS-MC-RC-046 1995\n"
     ]
    },
    {
     "name": "stderr",
     "output_type": "stream",
     "text": [
      "parameter force2D must be set to True to enable shape2D extraction\n",
      "GLCM is symmetrical, therefore Sum Average = 2 * Joint Average, only 1 needs to be calculated\n"
     ]
    },
    {
     "name": "stdout",
     "output_type": "stream",
     "text": [
      "VS-MC-RC-046 1998\n"
     ]
    },
    {
     "name": "stderr",
     "output_type": "stream",
     "text": [
      "parameter force2D must be set to True to enable shape2D extraction\n",
      "GLCM is symmetrical, therefore Sum Average = 2 * Joint Average, only 1 needs to be calculated\n"
     ]
    },
    {
     "name": "stdout",
     "output_type": "stream",
     "text": [
      "VS-MC-RC-048 1995\n"
     ]
    },
    {
     "name": "stderr",
     "output_type": "stream",
     "text": [
      "parameter force2D must be set to True to enable shape2D extraction\n",
      "GLCM is symmetrical, therefore Sum Average = 2 * Joint Average, only 1 needs to be calculated\n"
     ]
    },
    {
     "name": "stdout",
     "output_type": "stream",
     "text": [
      "VS-MC-RC-049 1996\n"
     ]
    },
    {
     "name": "stderr",
     "output_type": "stream",
     "text": [
      "parameter force2D must be set to True to enable shape2D extraction\n",
      "GLCM is symmetrical, therefore Sum Average = 2 * Joint Average, only 1 needs to be calculated\n"
     ]
    },
    {
     "name": "stdout",
     "output_type": "stream",
     "text": [
      "VS-MC-RC-049 1997\n"
     ]
    },
    {
     "name": "stderr",
     "output_type": "stream",
     "text": [
      "parameter force2D must be set to True to enable shape2D extraction\n",
      "GLCM is symmetrical, therefore Sum Average = 2 * Joint Average, only 1 needs to be calculated\n"
     ]
    },
    {
     "name": "stdout",
     "output_type": "stream",
     "text": [
      "VS-MC-RC-049 1998\n"
     ]
    },
    {
     "name": "stderr",
     "output_type": "stream",
     "text": [
      "parameter force2D must be set to True to enable shape2D extraction\n",
      "GLCM is symmetrical, therefore Sum Average = 2 * Joint Average, only 1 needs to be calculated\n"
     ]
    },
    {
     "name": "stdout",
     "output_type": "stream",
     "text": [
      "VS-MC-RC-052 1997\n"
     ]
    },
    {
     "name": "stderr",
     "output_type": "stream",
     "text": [
      "parameter force2D must be set to True to enable shape2D extraction\n",
      "GLCM is symmetrical, therefore Sum Average = 2 * Joint Average, only 1 needs to be calculated\n"
     ]
    },
    {
     "name": "stdout",
     "output_type": "stream",
     "text": [
      "VS-MC-RC-052 1997\n"
     ]
    },
    {
     "name": "stderr",
     "output_type": "stream",
     "text": [
      "parameter force2D must be set to True to enable shape2D extraction\n",
      "GLCM is symmetrical, therefore Sum Average = 2 * Joint Average, only 1 needs to be calculated\n"
     ]
    },
    {
     "name": "stdout",
     "output_type": "stream",
     "text": [
      "VS-MC-RC-052 1998\n"
     ]
    },
    {
     "name": "stderr",
     "output_type": "stream",
     "text": [
      "parameter force2D must be set to True to enable shape2D extraction\n",
      "GLCM is symmetrical, therefore Sum Average = 2 * Joint Average, only 1 needs to be calculated\n"
     ]
    },
    {
     "name": "stdout",
     "output_type": "stream",
     "text": [
      "VS-MC-RC-056 1995\n"
     ]
    },
    {
     "name": "stderr",
     "output_type": "stream",
     "text": [
      "parameter force2D must be set to True to enable shape2D extraction\n",
      "GLCM is symmetrical, therefore Sum Average = 2 * Joint Average, only 1 needs to be calculated\n"
     ]
    },
    {
     "name": "stdout",
     "output_type": "stream",
     "text": [
      "VS-MC-RC-057 1989\n"
     ]
    },
    {
     "name": "stderr",
     "output_type": "stream",
     "text": [
      "parameter force2D must be set to True to enable shape2D extraction\n",
      "GLCM is symmetrical, therefore Sum Average = 2 * Joint Average, only 1 needs to be calculated\n"
     ]
    },
    {
     "name": "stdout",
     "output_type": "stream",
     "text": [
      "VS-MC-RC-057 1993\n"
     ]
    },
    {
     "name": "stderr",
     "output_type": "stream",
     "text": [
      "parameter force2D must be set to True to enable shape2D extraction\n",
      "GLCM is symmetrical, therefore Sum Average = 2 * Joint Average, only 1 needs to be calculated\n"
     ]
    },
    {
     "name": "stdout",
     "output_type": "stream",
     "text": [
      "VS-MC-RC-057 1994\n"
     ]
    },
    {
     "name": "stderr",
     "output_type": "stream",
     "text": [
      "parameter force2D must be set to True to enable shape2D extraction\n",
      "GLCM is symmetrical, therefore Sum Average = 2 * Joint Average, only 1 needs to be calculated\n"
     ]
    },
    {
     "name": "stdout",
     "output_type": "stream",
     "text": [
      "VS-MC-RC-058 1988\n"
     ]
    },
    {
     "name": "stderr",
     "output_type": "stream",
     "text": [
      "parameter force2D must be set to True to enable shape2D extraction\n",
      "GLCM is symmetrical, therefore Sum Average = 2 * Joint Average, only 1 needs to be calculated\n"
     ]
    },
    {
     "name": "stdout",
     "output_type": "stream",
     "text": [
      "VS-MC-RC-058 1989\n"
     ]
    },
    {
     "name": "stderr",
     "output_type": "stream",
     "text": [
      "parameter force2D must be set to True to enable shape2D extraction\n",
      "GLCM is symmetrical, therefore Sum Average = 2 * Joint Average, only 1 needs to be calculated\n"
     ]
    },
    {
     "name": "stdout",
     "output_type": "stream",
     "text": [
      "VS-MC-RC-059 1989\n"
     ]
    },
    {
     "name": "stderr",
     "output_type": "stream",
     "text": [
      "parameter force2D must be set to True to enable shape2D extraction\n",
      "GLCM is symmetrical, therefore Sum Average = 2 * Joint Average, only 1 needs to be calculated\n"
     ]
    },
    {
     "name": "stdout",
     "output_type": "stream",
     "text": [
      "VS-MC-RC-059 1992\n"
     ]
    },
    {
     "name": "stderr",
     "output_type": "stream",
     "text": [
      "parameter force2D must be set to True to enable shape2D extraction\n",
      "GLCM is symmetrical, therefore Sum Average = 2 * Joint Average, only 1 needs to be calculated\n"
     ]
    },
    {
     "name": "stdout",
     "output_type": "stream",
     "text": [
      "VS-MC-RC-059 1997\n"
     ]
    },
    {
     "name": "stderr",
     "output_type": "stream",
     "text": [
      "parameter force2D must be set to True to enable shape2D extraction\n",
      "GLCM is symmetrical, therefore Sum Average = 2 * Joint Average, only 1 needs to be calculated\n"
     ]
    },
    {
     "name": "stdout",
     "output_type": "stream",
     "text": [
      "VS-MC-RC-060 1996\n"
     ]
    },
    {
     "name": "stderr",
     "output_type": "stream",
     "text": [
      "parameter force2D must be set to True to enable shape2D extraction\n",
      "GLCM is symmetrical, therefore Sum Average = 2 * Joint Average, only 1 needs to be calculated\n"
     ]
    },
    {
     "name": "stdout",
     "output_type": "stream",
     "text": [
      "VS-MC-RC-060 1999\n"
     ]
    },
    {
     "name": "stderr",
     "output_type": "stream",
     "text": [
      "parameter force2D must be set to True to enable shape2D extraction\n",
      "GLCM is symmetrical, therefore Sum Average = 2 * Joint Average, only 1 needs to be calculated\n",
      "parameter force2D must be set to True to enable shape2D extraction\n"
     ]
    },
    {
     "name": "stdout",
     "output_type": "stream",
     "text": [
      "VS-MC-RC-062 1993\n"
     ]
    },
    {
     "name": "stderr",
     "output_type": "stream",
     "text": [
      "GLCM is symmetrical, therefore Sum Average = 2 * Joint Average, only 1 needs to be calculated\n"
     ]
    },
    {
     "name": "stdout",
     "output_type": "stream",
     "text": [
      "VS-MC-RC-062 1996\n"
     ]
    },
    {
     "name": "stderr",
     "output_type": "stream",
     "text": [
      "parameter force2D must be set to True to enable shape2D extraction\n",
      "GLCM is symmetrical, therefore Sum Average = 2 * Joint Average, only 1 needs to be calculated\n"
     ]
    },
    {
     "name": "stdout",
     "output_type": "stream",
     "text": [
      "VS-MC-RC-062 1997\n"
     ]
    },
    {
     "name": "stderr",
     "output_type": "stream",
     "text": [
      "parameter force2D must be set to True to enable shape2D extraction\n",
      "GLCM is symmetrical, therefore Sum Average = 2 * Joint Average, only 1 needs to be calculated\n"
     ]
    },
    {
     "name": "stdout",
     "output_type": "stream",
     "text": [
      "VS-MC-RC-063 1992\n"
     ]
    },
    {
     "name": "stderr",
     "output_type": "stream",
     "text": [
      "parameter force2D must be set to True to enable shape2D extraction\n",
      "GLCM is symmetrical, therefore Sum Average = 2 * Joint Average, only 1 needs to be calculated\n"
     ]
    },
    {
     "name": "stdout",
     "output_type": "stream",
     "text": [
      "VS-MC-RC-063 1996\n"
     ]
    },
    {
     "name": "stderr",
     "output_type": "stream",
     "text": [
      "parameter force2D must be set to True to enable shape2D extraction\n",
      "GLCM is symmetrical, therefore Sum Average = 2 * Joint Average, only 1 needs to be calculated\n"
     ]
    },
    {
     "name": "stdout",
     "output_type": "stream",
     "text": [
      "VS-MC-RC-063 1999\n"
     ]
    },
    {
     "name": "stderr",
     "output_type": "stream",
     "text": [
      "parameter force2D must be set to True to enable shape2D extraction\n",
      "GLCM is symmetrical, therefore Sum Average = 2 * Joint Average, only 1 needs to be calculated\n"
     ]
    },
    {
     "name": "stdout",
     "output_type": "stream",
     "text": [
      "VS-MC-RC-065 1996\n"
     ]
    },
    {
     "name": "stderr",
     "output_type": "stream",
     "text": [
      "parameter force2D must be set to True to enable shape2D extraction\n",
      "GLCM is symmetrical, therefore Sum Average = 2 * Joint Average, only 1 needs to be calculated\n"
     ]
    },
    {
     "name": "stdout",
     "output_type": "stream",
     "text": [
      "VS-MC-RC-065 1996\n"
     ]
    },
    {
     "name": "stderr",
     "output_type": "stream",
     "text": [
      "parameter force2D must be set to True to enable shape2D extraction\n",
      "GLCM is symmetrical, therefore Sum Average = 2 * Joint Average, only 1 needs to be calculated\n"
     ]
    },
    {
     "name": "stdout",
     "output_type": "stream",
     "text": [
      "VS-MC-RC-065 1997\n"
     ]
    },
    {
     "name": "stderr",
     "output_type": "stream",
     "text": [
      "parameter force2D must be set to True to enable shape2D extraction\n",
      "GLCM is symmetrical, therefore Sum Average = 2 * Joint Average, only 1 needs to be calculated\n",
      "parameter force2D must be set to True to enable shape2D extraction\n"
     ]
    },
    {
     "name": "stdout",
     "output_type": "stream",
     "text": [
      "VS-MC-RC-067 1992\n"
     ]
    },
    {
     "name": "stderr",
     "output_type": "stream",
     "text": [
      "GLCM is symmetrical, therefore Sum Average = 2 * Joint Average, only 1 needs to be calculated\n"
     ]
    },
    {
     "name": "stdout",
     "output_type": "stream",
     "text": [
      "VS-MC-RC-067 1996\n"
     ]
    },
    {
     "name": "stderr",
     "output_type": "stream",
     "text": [
      "parameter force2D must be set to True to enable shape2D extraction\n",
      "GLCM is symmetrical, therefore Sum Average = 2 * Joint Average, only 1 needs to be calculated\n"
     ]
    },
    {
     "name": "stdout",
     "output_type": "stream",
     "text": [
      "VS-MC-RC-070 1992\n"
     ]
    },
    {
     "name": "stderr",
     "output_type": "stream",
     "text": [
      "parameter force2D must be set to True to enable shape2D extraction\n",
      "GLCM is symmetrical, therefore Sum Average = 2 * Joint Average, only 1 needs to be calculated\n"
     ]
    },
    {
     "name": "stdout",
     "output_type": "stream",
     "text": [
      "VS-MC-RC-070 1995\n"
     ]
    },
    {
     "name": "stderr",
     "output_type": "stream",
     "text": [
      "parameter force2D must be set to True to enable shape2D extraction\n",
      "GLCM is symmetrical, therefore Sum Average = 2 * Joint Average, only 1 needs to be calculated\n"
     ]
    },
    {
     "name": "stdout",
     "output_type": "stream",
     "text": [
      "VS-MC-RC-070 1999\n"
     ]
    },
    {
     "name": "stderr",
     "output_type": "stream",
     "text": [
      "parameter force2D must be set to True to enable shape2D extraction\n",
      "GLCM is symmetrical, therefore Sum Average = 2 * Joint Average, only 1 needs to be calculated\n"
     ]
    },
    {
     "name": "stdout",
     "output_type": "stream",
     "text": [
      "VS-MC-RC-071 1987\n"
     ]
    },
    {
     "name": "stderr",
     "output_type": "stream",
     "text": [
      "parameter force2D must be set to True to enable shape2D extraction\n",
      "GLCM is symmetrical, therefore Sum Average = 2 * Joint Average, only 1 needs to be calculated\n",
      "parameter force2D must be set to True to enable shape2D extraction\n",
      "GLCM is symmetrical, therefore Sum Average = 2 * Joint Average, only 1 needs to be calculated\n"
     ]
    },
    {
     "name": "stdout",
     "output_type": "stream",
     "text": [
      "VS-MC-RC-071 1989\n",
      "VS-MC-RC-071 1993\n"
     ]
    },
    {
     "name": "stderr",
     "output_type": "stream",
     "text": [
      "parameter force2D must be set to True to enable shape2D extraction\n",
      "GLCM is symmetrical, therefore Sum Average = 2 * Joint Average, only 1 needs to be calculated\n"
     ]
    },
    {
     "name": "stdout",
     "output_type": "stream",
     "text": [
      "VS-MC-RC-072 1995\n"
     ]
    },
    {
     "name": "stderr",
     "output_type": "stream",
     "text": [
      "parameter force2D must be set to True to enable shape2D extraction\n",
      "GLCM is symmetrical, therefore Sum Average = 2 * Joint Average, only 1 needs to be calculated\n"
     ]
    },
    {
     "name": "stdout",
     "output_type": "stream",
     "text": [
      "VS-MC-RC-073 1996\n"
     ]
    },
    {
     "name": "stderr",
     "output_type": "stream",
     "text": [
      "parameter force2D must be set to True to enable shape2D extraction\n",
      "GLCM is symmetrical, therefore Sum Average = 2 * Joint Average, only 1 needs to be calculated\n"
     ]
    },
    {
     "name": "stdout",
     "output_type": "stream",
     "text": [
      "VS-MC-RC-073 1998\n"
     ]
    },
    {
     "name": "stderr",
     "output_type": "stream",
     "text": [
      "parameter force2D must be set to True to enable shape2D extraction\n",
      "GLCM is symmetrical, therefore Sum Average = 2 * Joint Average, only 1 needs to be calculated\n"
     ]
    },
    {
     "name": "stdout",
     "output_type": "stream",
     "text": [
      "VS-MC-RC-073 1998\n"
     ]
    },
    {
     "name": "stderr",
     "output_type": "stream",
     "text": [
      "parameter force2D must be set to True to enable shape2D extraction\n",
      "GLCM is symmetrical, therefore Sum Average = 2 * Joint Average, only 1 needs to be calculated\n"
     ]
    },
    {
     "name": "stdout",
     "output_type": "stream",
     "text": [
      "VS-MC-RC-074 1992\n"
     ]
    },
    {
     "name": "stderr",
     "output_type": "stream",
     "text": [
      "parameter force2D must be set to True to enable shape2D extraction\n",
      "GLCM is symmetrical, therefore Sum Average = 2 * Joint Average, only 1 needs to be calculated\n"
     ]
    },
    {
     "name": "stdout",
     "output_type": "stream",
     "text": [
      "VS-MC-RC-074 1996\n"
     ]
    },
    {
     "name": "stderr",
     "output_type": "stream",
     "text": [
      "parameter force2D must be set to True to enable shape2D extraction\n",
      "GLCM is symmetrical, therefore Sum Average = 2 * Joint Average, only 1 needs to be calculated\n"
     ]
    },
    {
     "name": "stdout",
     "output_type": "stream",
     "text": [
      "VS-MC-RC-076 1990\n"
     ]
    },
    {
     "name": "stderr",
     "output_type": "stream",
     "text": [
      "parameter force2D must be set to True to enable shape2D extraction\n",
      "GLCM is symmetrical, therefore Sum Average = 2 * Joint Average, only 1 needs to be calculated\n"
     ]
    },
    {
     "name": "stdout",
     "output_type": "stream",
     "text": [
      "VS-MC-RC-076 1992\n"
     ]
    },
    {
     "name": "stderr",
     "output_type": "stream",
     "text": [
      "parameter force2D must be set to True to enable shape2D extraction\n",
      "GLCM is symmetrical, therefore Sum Average = 2 * Joint Average, only 1 needs to be calculated\n"
     ]
    },
    {
     "name": "stdout",
     "output_type": "stream",
     "text": [
      "VS-MC-RC-076 1994\n"
     ]
    },
    {
     "name": "stderr",
     "output_type": "stream",
     "text": [
      "parameter force2D must be set to True to enable shape2D extraction\n",
      "GLCM is symmetrical, therefore Sum Average = 2 * Joint Average, only 1 needs to be calculated\n"
     ]
    },
    {
     "name": "stdout",
     "output_type": "stream",
     "text": [
      "VS-MC-RC-077 1993\n"
     ]
    },
    {
     "name": "stderr",
     "output_type": "stream",
     "text": [
      "parameter force2D must be set to True to enable shape2D extraction\n",
      "GLCM is symmetrical, therefore Sum Average = 2 * Joint Average, only 1 needs to be calculated\n"
     ]
    },
    {
     "name": "stdout",
     "output_type": "stream",
     "text": [
      "VS-MC-RC-077 1995\n"
     ]
    },
    {
     "name": "stderr",
     "output_type": "stream",
     "text": [
      "parameter force2D must be set to True to enable shape2D extraction\n",
      "GLCM is symmetrical, therefore Sum Average = 2 * Joint Average, only 1 needs to be calculated\n"
     ]
    },
    {
     "name": "stdout",
     "output_type": "stream",
     "text": [
      "VS-MC-RC-077 1998\n"
     ]
    },
    {
     "name": "stderr",
     "output_type": "stream",
     "text": [
      "parameter force2D must be set to True to enable shape2D extraction\n",
      "GLCM is symmetrical, therefore Sum Average = 2 * Joint Average, only 1 needs to be calculated\n"
     ]
    },
    {
     "name": "stdout",
     "output_type": "stream",
     "text": [
      "VS-MC-RC-079 1990\n"
     ]
    },
    {
     "name": "stderr",
     "output_type": "stream",
     "text": [
      "parameter force2D must be set to True to enable shape2D extraction\n",
      "GLCM is symmetrical, therefore Sum Average = 2 * Joint Average, only 1 needs to be calculated\n"
     ]
    },
    {
     "name": "stdout",
     "output_type": "stream",
     "text": [
      "VS-MC-RC-079 1990\n"
     ]
    },
    {
     "name": "stderr",
     "output_type": "stream",
     "text": [
      "parameter force2D must be set to True to enable shape2D extraction\n",
      "GLCM is symmetrical, therefore Sum Average = 2 * Joint Average, only 1 needs to be calculated\n"
     ]
    },
    {
     "name": "stdout",
     "output_type": "stream",
     "text": [
      "VS-MC-RC-080 1995\n"
     ]
    },
    {
     "name": "stderr",
     "output_type": "stream",
     "text": [
      "parameter force2D must be set to True to enable shape2D extraction\n",
      "GLCM is symmetrical, therefore Sum Average = 2 * Joint Average, only 1 needs to be calculated\n"
     ]
    },
    {
     "name": "stdout",
     "output_type": "stream",
     "text": [
      "VS-MC-RC-080 1999\n"
     ]
    },
    {
     "name": "stderr",
     "output_type": "stream",
     "text": [
      "parameter force2D must be set to True to enable shape2D extraction\n",
      "GLCM is symmetrical, therefore Sum Average = 2 * Joint Average, only 1 needs to be calculated\n"
     ]
    },
    {
     "name": "stdout",
     "output_type": "stream",
     "text": [
      "VS-MC-RC-081 1996\n"
     ]
    },
    {
     "name": "stderr",
     "output_type": "stream",
     "text": [
      "parameter force2D must be set to True to enable shape2D extraction\n",
      "GLCM is symmetrical, therefore Sum Average = 2 * Joint Average, only 1 needs to be calculated\n"
     ]
    },
    {
     "name": "stdout",
     "output_type": "stream",
     "text": [
      "VS-MC-RC-081 1997\n"
     ]
    },
    {
     "name": "stderr",
     "output_type": "stream",
     "text": [
      "parameter force2D must be set to True to enable shape2D extraction\n",
      "GLCM is symmetrical, therefore Sum Average = 2 * Joint Average, only 1 needs to be calculated\n"
     ]
    },
    {
     "name": "stdout",
     "output_type": "stream",
     "text": [
      "VS-MC-RC-081 1997\n"
     ]
    },
    {
     "name": "stderr",
     "output_type": "stream",
     "text": [
      "parameter force2D must be set to True to enable shape2D extraction\n",
      "GLCM is symmetrical, therefore Sum Average = 2 * Joint Average, only 1 needs to be calculated\n",
      "parameter force2D must be set to True to enable shape2D extraction\n",
      "GLCM is symmetrical, therefore Sum Average = 2 * Joint Average, only 1 needs to be calculated\n"
     ]
    },
    {
     "name": "stdout",
     "output_type": "stream",
     "text": [
      "VS-MC-RC-082 1988\n",
      "VS-MC-RC-082 1993\n"
     ]
    },
    {
     "name": "stderr",
     "output_type": "stream",
     "text": [
      "parameter force2D must be set to True to enable shape2D extraction\n",
      "GLCM is symmetrical, therefore Sum Average = 2 * Joint Average, only 1 needs to be calculated\n"
     ]
    },
    {
     "name": "stdout",
     "output_type": "stream",
     "text": [
      "VS-MC-RC-082 1998\n"
     ]
    },
    {
     "name": "stderr",
     "output_type": "stream",
     "text": [
      "parameter force2D must be set to True to enable shape2D extraction\n",
      "GLCM is symmetrical, therefore Sum Average = 2 * Joint Average, only 1 needs to be calculated\n",
      "parameter force2D must be set to True to enable shape2D extraction\n",
      "GLCM is symmetrical, therefore Sum Average = 2 * Joint Average, only 1 needs to be calculated\n"
     ]
    },
    {
     "name": "stdout",
     "output_type": "stream",
     "text": [
      "VS-MC-RC-083 1992\n",
      "VS-MC-RC-083 1993\n"
     ]
    },
    {
     "name": "stderr",
     "output_type": "stream",
     "text": [
      "parameter force2D must be set to True to enable shape2D extraction\n",
      "GLCM is symmetrical, therefore Sum Average = 2 * Joint Average, only 1 needs to be calculated\n"
     ]
    },
    {
     "name": "stdout",
     "output_type": "stream",
     "text": [
      "VS-MC-RC-083 1994\n"
     ]
    },
    {
     "name": "stderr",
     "output_type": "stream",
     "text": [
      "parameter force2D must be set to True to enable shape2D extraction\n",
      "GLCM is symmetrical, therefore Sum Average = 2 * Joint Average, only 1 needs to be calculated\n"
     ]
    },
    {
     "name": "stdout",
     "output_type": "stream",
     "text": [
      "VS-MC-RC-084 1994\n"
     ]
    },
    {
     "name": "stderr",
     "output_type": "stream",
     "text": [
      "parameter force2D must be set to True to enable shape2D extraction\n",
      "GLCM is symmetrical, therefore Sum Average = 2 * Joint Average, only 1 needs to be calculated\n"
     ]
    },
    {
     "name": "stdout",
     "output_type": "stream",
     "text": [
      "VS-MC-RC-084 1996\n"
     ]
    },
    {
     "name": "stderr",
     "output_type": "stream",
     "text": [
      "parameter force2D must be set to True to enable shape2D extraction\n",
      "GLCM is symmetrical, therefore Sum Average = 2 * Joint Average, only 1 needs to be calculated\n"
     ]
    },
    {
     "name": "stdout",
     "output_type": "stream",
     "text": [
      "VS-MC-RC-084 1999\n"
     ]
    },
    {
     "name": "stderr",
     "output_type": "stream",
     "text": [
      "parameter force2D must be set to True to enable shape2D extraction\n",
      "GLCM is symmetrical, therefore Sum Average = 2 * Joint Average, only 1 needs to be calculated\n"
     ]
    },
    {
     "name": "stdout",
     "output_type": "stream",
     "text": [
      "VS-MC-RC-085 1991\n"
     ]
    },
    {
     "name": "stderr",
     "output_type": "stream",
     "text": [
      "parameter force2D must be set to True to enable shape2D extraction\n",
      "GLCM is symmetrical, therefore Sum Average = 2 * Joint Average, only 1 needs to be calculated\n",
      "parameter force2D must be set to True to enable shape2D extraction\n",
      "GLCM is symmetrical, therefore Sum Average = 2 * Joint Average, only 1 needs to be calculated\n"
     ]
    },
    {
     "name": "stdout",
     "output_type": "stream",
     "text": [
      "VS-MC-RC-086 1992\n",
      "VS-MC-RC-086 1994\n"
     ]
    },
    {
     "name": "stderr",
     "output_type": "stream",
     "text": [
      "parameter force2D must be set to True to enable shape2D extraction\n",
      "GLCM is symmetrical, therefore Sum Average = 2 * Joint Average, only 1 needs to be calculated\n"
     ]
    },
    {
     "name": "stdout",
     "output_type": "stream",
     "text": [
      "VS-MC-RC-086 1998\n"
     ]
    },
    {
     "name": "stderr",
     "output_type": "stream",
     "text": [
      "parameter force2D must be set to True to enable shape2D extraction\n",
      "GLCM is symmetrical, therefore Sum Average = 2 * Joint Average, only 1 needs to be calculated\n",
      "parameter force2D must be set to True to enable shape2D extraction\n",
      "GLCM is symmetrical, therefore Sum Average = 2 * Joint Average, only 1 needs to be calculated\n"
     ]
    },
    {
     "name": "stdout",
     "output_type": "stream",
     "text": [
      "VS-MC-RC-087 1995\n",
      "VS-MC-RC-087 1996\n"
     ]
    },
    {
     "name": "stderr",
     "output_type": "stream",
     "text": [
      "parameter force2D must be set to True to enable shape2D extraction\n",
      "GLCM is symmetrical, therefore Sum Average = 2 * Joint Average, only 1 needs to be calculated\n"
     ]
    },
    {
     "name": "stdout",
     "output_type": "stream",
     "text": [
      "VS-MC-RC-087 1997\n"
     ]
    },
    {
     "name": "stderr",
     "output_type": "stream",
     "text": [
      "parameter force2D must be set to True to enable shape2D extraction\n",
      "GLCM is symmetrical, therefore Sum Average = 2 * Joint Average, only 1 needs to be calculated\n",
      "parameter force2D must be set to True to enable shape2D extraction\n"
     ]
    },
    {
     "name": "stdout",
     "output_type": "stream",
     "text": [
      "VS-MC-RC-088 1986\n"
     ]
    },
    {
     "name": "stderr",
     "output_type": "stream",
     "text": [
      "GLCM is symmetrical, therefore Sum Average = 2 * Joint Average, only 1 needs to be calculated\n"
     ]
    },
    {
     "name": "stdout",
     "output_type": "stream",
     "text": [
      "VS-MC-RC-088 1992\n"
     ]
    },
    {
     "name": "stderr",
     "output_type": "stream",
     "text": [
      "parameter force2D must be set to True to enable shape2D extraction\n",
      "GLCM is symmetrical, therefore Sum Average = 2 * Joint Average, only 1 needs to be calculated\n"
     ]
    },
    {
     "name": "stdout",
     "output_type": "stream",
     "text": [
      "VS-MC-RC-088 2000\n"
     ]
    },
    {
     "name": "stderr",
     "output_type": "stream",
     "text": [
      "parameter force2D must be set to True to enable shape2D extraction\n",
      "GLCM is symmetrical, therefore Sum Average = 2 * Joint Average, only 1 needs to be calculated\n"
     ]
    },
    {
     "name": "stdout",
     "output_type": "stream",
     "text": [
      "VS-MC-RC-093 1996\n"
     ]
    },
    {
     "name": "stderr",
     "output_type": "stream",
     "text": [
      "parameter force2D must be set to True to enable shape2D extraction\n",
      "GLCM is symmetrical, therefore Sum Average = 2 * Joint Average, only 1 needs to be calculated\n"
     ]
    },
    {
     "name": "stdout",
     "output_type": "stream",
     "text": [
      "VS-MC-RC-093 1997\n"
     ]
    },
    {
     "name": "stderr",
     "output_type": "stream",
     "text": [
      "parameter force2D must be set to True to enable shape2D extraction\n",
      "GLCM is symmetrical, therefore Sum Average = 2 * Joint Average, only 1 needs to be calculated\n"
     ]
    },
    {
     "name": "stdout",
     "output_type": "stream",
     "text": [
      "VS-MC-RC-093 1998\n"
     ]
    },
    {
     "name": "stderr",
     "output_type": "stream",
     "text": [
      "parameter force2D must be set to True to enable shape2D extraction\n",
      "GLCM is symmetrical, therefore Sum Average = 2 * Joint Average, only 1 needs to be calculated\n"
     ]
    },
    {
     "name": "stdout",
     "output_type": "stream",
     "text": [
      "VS-MC-RC-094 1991\n"
     ]
    },
    {
     "name": "stderr",
     "output_type": "stream",
     "text": [
      "parameter force2D must be set to True to enable shape2D extraction\n",
      "GLCM is symmetrical, therefore Sum Average = 2 * Joint Average, only 1 needs to be calculated\n"
     ]
    },
    {
     "name": "stdout",
     "output_type": "stream",
     "text": [
      "VS-MC-RC-094 1992\n"
     ]
    },
    {
     "name": "stderr",
     "output_type": "stream",
     "text": [
      "parameter force2D must be set to True to enable shape2D extraction\n",
      "GLCM is symmetrical, therefore Sum Average = 2 * Joint Average, only 1 needs to be calculated\n"
     ]
    },
    {
     "name": "stdout",
     "output_type": "stream",
     "text": [
      "VS-MC-RC-094 1998\n"
     ]
    },
    {
     "name": "stderr",
     "output_type": "stream",
     "text": [
      "parameter force2D must be set to True to enable shape2D extraction\n",
      "GLCM is symmetrical, therefore Sum Average = 2 * Joint Average, only 1 needs to be calculated\n"
     ]
    },
    {
     "name": "stdout",
     "output_type": "stream",
     "text": [
      "VS-MC-RC-095 1992\n"
     ]
    },
    {
     "name": "stderr",
     "output_type": "stream",
     "text": [
      "parameter force2D must be set to True to enable shape2D extraction\n",
      "GLCM is symmetrical, therefore Sum Average = 2 * Joint Average, only 1 needs to be calculated\n"
     ]
    },
    {
     "name": "stdout",
     "output_type": "stream",
     "text": [
      "VS-MC-RC-095 1995\n"
     ]
    },
    {
     "name": "stderr",
     "output_type": "stream",
     "text": [
      "parameter force2D must be set to True to enable shape2D extraction\n",
      "GLCM is symmetrical, therefore Sum Average = 2 * Joint Average, only 1 needs to be calculated\n"
     ]
    },
    {
     "name": "stdout",
     "output_type": "stream",
     "text": [
      "VS-MC-RC-095 1999\n"
     ]
    },
    {
     "name": "stderr",
     "output_type": "stream",
     "text": [
      "parameter force2D must be set to True to enable shape2D extraction\n",
      "GLCM is symmetrical, therefore Sum Average = 2 * Joint Average, only 1 needs to be calculated\n"
     ]
    },
    {
     "name": "stdout",
     "output_type": "stream",
     "text": [
      "VS-MC-RC-096 1996\n"
     ]
    },
    {
     "name": "stderr",
     "output_type": "stream",
     "text": [
      "parameter force2D must be set to True to enable shape2D extraction\n",
      "GLCM is symmetrical, therefore Sum Average = 2 * Joint Average, only 1 needs to be calculated\n"
     ]
    },
    {
     "name": "stdout",
     "output_type": "stream",
     "text": [
      "VS-MC-RC-096 1999\n"
     ]
    },
    {
     "name": "stderr",
     "output_type": "stream",
     "text": [
      "parameter force2D must be set to True to enable shape2D extraction\n",
      "GLCM is symmetrical, therefore Sum Average = 2 * Joint Average, only 1 needs to be calculated\n"
     ]
    },
    {
     "name": "stdout",
     "output_type": "stream",
     "text": [
      "VS-MC-RC-097 1991\n"
     ]
    },
    {
     "name": "stderr",
     "output_type": "stream",
     "text": [
      "parameter force2D must be set to True to enable shape2D extraction\n",
      "GLCM is symmetrical, therefore Sum Average = 2 * Joint Average, only 1 needs to be calculated\n"
     ]
    },
    {
     "name": "stdout",
     "output_type": "stream",
     "text": [
      "VS-MC-RC-097 1993\n"
     ]
    },
    {
     "name": "stderr",
     "output_type": "stream",
     "text": [
      "parameter force2D must be set to True to enable shape2D extraction\n",
      "GLCM is symmetrical, therefore Sum Average = 2 * Joint Average, only 1 needs to be calculated\n"
     ]
    },
    {
     "name": "stdout",
     "output_type": "stream",
     "text": [
      "VS-MC-RC-097 1999\n"
     ]
    },
    {
     "name": "stderr",
     "output_type": "stream",
     "text": [
      "parameter force2D must be set to True to enable shape2D extraction\n",
      "GLCM is symmetrical, therefore Sum Average = 2 * Joint Average, only 1 needs to be calculated\n"
     ]
    },
    {
     "name": "stdout",
     "output_type": "stream",
     "text": [
      "VS-MC-RC-098 1991\n"
     ]
    },
    {
     "name": "stderr",
     "output_type": "stream",
     "text": [
      "parameter force2D must be set to True to enable shape2D extraction\n",
      "GLCM is symmetrical, therefore Sum Average = 2 * Joint Average, only 1 needs to be calculated\n"
     ]
    },
    {
     "name": "stdout",
     "output_type": "stream",
     "text": [
      "VS-MC-RC-098 1994\n"
     ]
    },
    {
     "name": "stderr",
     "output_type": "stream",
     "text": [
      "parameter force2D must be set to True to enable shape2D extraction\n",
      "GLCM is symmetrical, therefore Sum Average = 2 * Joint Average, only 1 needs to be calculated\n"
     ]
    },
    {
     "name": "stdout",
     "output_type": "stream",
     "text": [
      "VS-MC-RC-098 1996\n"
     ]
    },
    {
     "name": "stderr",
     "output_type": "stream",
     "text": [
      "parameter force2D must be set to True to enable shape2D extraction\n",
      "GLCM is symmetrical, therefore Sum Average = 2 * Joint Average, only 1 needs to be calculated\n"
     ]
    },
    {
     "name": "stdout",
     "output_type": "stream",
     "text": [
      "VS-MC-RC-099 1995\n"
     ]
    },
    {
     "name": "stderr",
     "output_type": "stream",
     "text": [
      "parameter force2D must be set to True to enable shape2D extraction\n",
      "GLCM is symmetrical, therefore Sum Average = 2 * Joint Average, only 1 needs to be calculated\n"
     ]
    },
    {
     "name": "stdout",
     "output_type": "stream",
     "text": [
      "VS-MC-RC-099 1997\n"
     ]
    },
    {
     "name": "stderr",
     "output_type": "stream",
     "text": [
      "parameter force2D must be set to True to enable shape2D extraction\n",
      "GLCM is symmetrical, therefore Sum Average = 2 * Joint Average, only 1 needs to be calculated\n"
     ]
    },
    {
     "name": "stdout",
     "output_type": "stream",
     "text": [
      "VS-MC-RC-099 1998\n"
     ]
    },
    {
     "name": "stderr",
     "output_type": "stream",
     "text": [
      "parameter force2D must be set to True to enable shape2D extraction\n",
      "GLCM is symmetrical, therefore Sum Average = 2 * Joint Average, only 1 needs to be calculated\n"
     ]
    },
    {
     "name": "stdout",
     "output_type": "stream",
     "text": [
      "VS-MC-RC-100 1992\n"
     ]
    },
    {
     "name": "stderr",
     "output_type": "stream",
     "text": [
      "parameter force2D must be set to True to enable shape2D extraction\n",
      "GLCM is symmetrical, therefore Sum Average = 2 * Joint Average, only 1 needs to be calculated\n"
     ]
    },
    {
     "name": "stdout",
     "output_type": "stream",
     "text": [
      "VS-MC-RC-100 1993\n"
     ]
    },
    {
     "name": "stderr",
     "output_type": "stream",
     "text": [
      "parameter force2D must be set to True to enable shape2D extraction\n",
      "GLCM is symmetrical, therefore Sum Average = 2 * Joint Average, only 1 needs to be calculated\n"
     ]
    },
    {
     "name": "stdout",
     "output_type": "stream",
     "text": [
      "VS-MC-RC-101 1991\n"
     ]
    },
    {
     "name": "stderr",
     "output_type": "stream",
     "text": [
      "parameter force2D must be set to True to enable shape2D extraction\n",
      "GLCM is symmetrical, therefore Sum Average = 2 * Joint Average, only 1 needs to be calculated\n"
     ]
    },
    {
     "name": "stdout",
     "output_type": "stream",
     "text": [
      "VS-MC-RC-102 1998\n"
     ]
    },
    {
     "name": "stderr",
     "output_type": "stream",
     "text": [
      "parameter force2D must be set to True to enable shape2D extraction\n",
      "GLCM is symmetrical, therefore Sum Average = 2 * Joint Average, only 1 needs to be calculated\n"
     ]
    }
   ],
   "source": [
    "from radiomics import featureextractor\n",
    "\n",
    "features_dict = {}\n",
    "x = []\n",
    "\n",
    "for i in range(len(weight_folders)):\n",
    "# for i in range(6):\n",
    "    segmentation_path = seg_paths[i]\n",
    "    segmentation_image = sitk.ReadImage(segmentation_path)\n",
    "    segmentation = sitk.GetArrayFromImage(segmentation_image)\n",
    "\n",
    "    reader = sitk.ImageSeriesReader()\n",
    "    dicom_names = reader.GetGDCMSeriesFileNames(weight_folders[i])\n",
    "    reader.SetFileNames(dicom_names)\n",
    "    image = reader.Execute()\n",
    "\n",
    "    patient_id = extract_patient_name(weight_folders[i])\n",
    "    if patient_id is None:\n",
    "        print(f\"Warning: Could not extract patient ID from {weight_folders[i]}. Skipping.\")\n",
    "        continue\n",
    "    \n",
    "    patient_year = extract_patient_year(weight_folders[i])\n",
    "    if patient_year is None:\n",
    "        print(f\"Warning: Could not extract patient year from {weight_folders[i]}. Skipping.\")\n",
    "        continue\n",
    "\n",
    "    try:\n",
    "        patient_year = int(patient_year[-4:])\n",
    "    except ValueError:\n",
    "        print(f\"Warning: Invalid patient year format: {patient_year}. Skipping.\")\n",
    "        continue\n",
    "    print(patient_id,patient_year)\n",
    "    segmentation_resampled = resample_segmentation_to_image(segmentation_image, image)\n",
    "    segmentation_resampled_array = sitk.GetArrayFromImage(segmentation_resampled)\n",
    "    \n",
    "    if np.sum(segmentation_resampled_array) == 0:\n",
    "        print(f\"Warning: The resampled segmentation mask for {segmentation_path} is empty (no segmented regions found).\")\n",
    "        continue\n",
    "\n",
    "    extractor = featureextractor.RadiomicsFeatureExtractor()\n",
    "    extractor.enableAllFeatures()\n",
    "\n",
    "    features = extractor.execute(image, segmentation_resampled)\n",
    "    \n",
    "    x.append(f\"{patient_id}_{patient_year}\")\n",
    "\n",
    "    # Store features in a list to handle repeated patient IDs\n",
    "    key = f\"{patient_id}_{patient_year}\"\n",
    "    if key in features_dict:\n",
    "        suffix = 1\n",
    "        while f\"{key}_{suffix}\" in features_dict:\n",
    "            suffix += 1\n",
    "        key = f\"{key}_{suffix}\"\n",
    "\n",
    "    if key not in features_dict:\n",
    "        features_dict[key] = []\n",
    "    features_dict[key].append(features)"
   ]
  },
  {
   "cell_type": "code",
   "execution_count": 85,
   "id": "6d07843e",
   "metadata": {},
   "outputs": [
    {
     "data": {
      "text/plain": [
       "['VS-SEG-003_1993',\n",
       " 'VS-SEG-003_1995',\n",
       " 'VS-SEG-003_1997',\n",
       " 'VS-SEG-010_1993',\n",
       " 'VS-SEG-010_1996',\n",
       " 'VS-SEG-010_1999',\n",
       " 'VS-SEG-013_1991',\n",
       " 'VS-SEG-013_1995',\n",
       " 'VS-SEG-013_1999',\n",
       " 'VS-SEG-021_1996',\n",
       " 'VS-SEG-021_1999',\n",
       " 'VS-SEG-025_1992',\n",
       " 'VS-SEG-025_1996',\n",
       " 'VS-SEG-025_1999',\n",
       " 'VS-SEG-028_1990',\n",
       " 'VS-SEG-028_1996',\n",
       " 'VS-SEG-028_2000',\n",
       " 'VS-SEG-030_1993',\n",
       " 'VS-SEG-030_1993',\n",
       " 'VS-SEG-030_1994',\n",
       " 'VS-SEG-031_1989',\n",
       " 'VS-SEG-031_1996',\n",
       " 'VS-SEG-031_2000',\n",
       " 'VS-SEG-032_1994',\n",
       " 'VS-SEG-032_1996',\n",
       " 'VS-SEG-032_2000',\n",
       " 'VS-SEG-034_1996',\n",
       " 'VS-SEG-034_1999',\n",
       " 'VS-SEG-034_2000',\n",
       " 'VS-SEG-041_1996',\n",
       " 'VS-SEG-041_1999',\n",
       " 'VS-SEG-042_1994',\n",
       " 'VS-SEG-042_1997',\n",
       " 'VS-SEG-042_1999',\n",
       " 'VS-SEG-044_1992',\n",
       " 'VS-SEG-044_1994',\n",
       " 'VS-SEG-044_1995',\n",
       " 'VS-SEG-045_1990',\n",
       " 'VS-SEG-045_1995',\n",
       " 'VS-SEG-045_2000',\n",
       " 'VS-SEG-049_1995',\n",
       " 'VS-SEG-049_1997',\n",
       " 'VS-SEG-058_1994',\n",
       " 'VS-SEG-058_1998',\n",
       " 'VS-SEG-058_2001',\n",
       " 'VS-SEG-059_1994',\n",
       " 'VS-SEG-059_1997',\n",
       " 'VS-SEG-059_2000',\n",
       " 'VS-SEG-060_1994',\n",
       " 'VS-SEG-060_1995',\n",
       " 'VS-SEG-060_2000',\n",
       " 'VS-SEG-061_1998',\n",
       " 'VS-SEG-070_1997',\n",
       " 'VS-SEG-076_2001',\n",
       " 'VS-SEG-077_1996',\n",
       " 'VS-SEG-077_1999',\n",
       " 'VS-SEG-082_1997',\n",
       " 'VS-SEG-082_2000',\n",
       " 'VS-SEG-092_1993',\n",
       " 'VS-SEG-092_1996',\n",
       " 'VS-SEG-092_2000',\n",
       " 'VS-SEG-095_1993',\n",
       " 'VS-SEG-095_1996',\n",
       " 'VS-SEG-095_2000',\n",
       " 'VS-SEG-098_1995',\n",
       " 'VS-SEG-098_1998',\n",
       " 'VS-SEG-098_2000',\n",
       " 'VS-SEG-100_1998',\n",
       " 'VS-SEG-100_2000',\n",
       " 'VS-SEG-104_1995',\n",
       " 'VS-SEG-104_1997',\n",
       " 'VS-SEG-104_2000',\n",
       " 'VS-SEG-107_1997',\n",
       " 'VS-SEG-111_1997',\n",
       " 'VS-SEG-112_1997',\n",
       " 'VS-SEG-116_1995',\n",
       " 'VS-SEG-116_1996',\n",
       " 'VS-SEG-116_1996',\n",
       " 'VS-SEG-117_1996',\n",
       " 'VS-SEG-121_1990',\n",
       " 'VS-SEG-121_1996',\n",
       " 'VS-SEG-121_1997',\n",
       " 'VS-SEG-122_1999',\n",
       " 'VS-SEG-126_1996',\n",
       " 'VS-SEG-132_1991',\n",
       " 'VS-SEG-132_1996',\n",
       " 'VS-SEG-132_2000',\n",
       " 'VS-SEG-133_1996',\n",
       " 'VS-SEG-133_1996',\n",
       " 'VS-SEG-133_1997',\n",
       " 'VS-SEG-135_1995',\n",
       " 'VS-SEG-135_1997',\n",
       " 'VS-SEG-135_2001',\n",
       " 'VS-SEG-154_1994',\n",
       " 'VS-SEG-154_1997',\n",
       " 'VS-SEG-154_2001',\n",
       " 'VS-SEG-164_1995',\n",
       " 'VS-SEG-164_2000',\n",
       " 'VS-SEG-172_1997',\n",
       " 'VS-SEG-172_1998',\n",
       " 'VS-SEG-172_1998',\n",
       " 'VS-SEG-178_1994',\n",
       " 'VS-SEG-178_1998',\n",
       " 'VS-SEG-178_2001',\n",
       " 'VS-SEG-188_1997',\n",
       " 'VS-SEG-188_1997',\n",
       " 'VS-SEG-195_2000',\n",
       " 'VS-SEG-197_1995',\n",
       " 'VS-SEG-197_1996',\n",
       " 'VS-SEG-197_1998',\n",
       " 'VS-SEG-199_1997',\n",
       " 'VS-SEG-199_1998',\n",
       " 'VS-SEG-218_1991',\n",
       " 'VS-SEG-218_1992',\n",
       " 'VS-SEG-218_1995',\n",
       " 'VS-SEG-221_1996',\n",
       " 'VS-SEG-221_1997',\n",
       " 'VS-SEG-221_1998',\n",
       " 'VS-MC-RC-001_1988',\n",
       " 'VS-MC-RC-001_1989',\n",
       " 'VS-MC-RC-001_1990',\n",
       " 'VS-MC-RC-002_1987',\n",
       " 'VS-MC-RC-002_1988',\n",
       " 'VS-MC-RC-002_1989',\n",
       " 'VS-MC-RC-004_1994',\n",
       " 'VS-MC-RC-004_1995',\n",
       " 'VS-MC-RC-004_1996',\n",
       " 'VS-MC-RC-005_1988',\n",
       " 'VS-MC-RC-005_1991',\n",
       " 'VS-MC-RC-006_1991',\n",
       " 'VS-MC-RC-006_1992',\n",
       " 'VS-MC-RC-006_1993',\n",
       " 'VS-MC-RC-007_1994',\n",
       " 'VS-MC-RC-007_1997',\n",
       " 'VS-MC-RC-009_1993',\n",
       " 'VS-MC-RC-009_1995',\n",
       " 'VS-MC-RC-009_1996',\n",
       " 'VS-MC-RC-010_1993',\n",
       " 'VS-MC-RC-010_1998',\n",
       " 'VS-MC-RC-010_1999',\n",
       " 'VS-MC-RC-011_1996',\n",
       " 'VS-MC-RC-012_1995',\n",
       " 'VS-MC-RC-012_1995',\n",
       " 'VS-MC-RC-013_1987',\n",
       " 'VS-MC-RC-013_1990',\n",
       " 'VS-MC-RC-013_1996',\n",
       " 'VS-MC-RC-015_1989',\n",
       " 'VS-MC-RC-015_1990',\n",
       " 'VS-MC-RC-015_1992',\n",
       " 'VS-MC-RC-016_1991',\n",
       " 'VS-MC-RC-016_1995',\n",
       " 'VS-MC-RC-019_1995',\n",
       " 'VS-MC-RC-019_1998',\n",
       " 'VS-MC-RC-020_1997',\n",
       " 'VS-MC-RC-021_1991',\n",
       " 'VS-MC-RC-022_1993',\n",
       " 'VS-MC-RC-022_1996',\n",
       " 'VS-MC-RC-022_1999',\n",
       " 'VS-MC-RC-024_1994',\n",
       " 'VS-MC-RC-024_1995',\n",
       " 'VS-MC-RC-024_1995',\n",
       " 'VS-MC-RC-025_1991',\n",
       " 'VS-MC-RC-025_1994',\n",
       " 'VS-MC-RC-025_1996',\n",
       " 'VS-MC-RC-026_1995',\n",
       " 'VS-MC-RC-026_1997',\n",
       " 'VS-MC-RC-027_1993',\n",
       " 'VS-MC-RC-027_2000',\n",
       " 'VS-MC-RC-028_1992',\n",
       " 'VS-MC-RC-028_1995',\n",
       " 'VS-MC-RC-028_1999',\n",
       " 'VS-MC-RC-029_1993',\n",
       " 'VS-MC-RC-030_1993',\n",
       " 'VS-MC-RC-030_1995',\n",
       " 'VS-MC-RC-030_1997',\n",
       " 'VS-MC-RC-031_1987',\n",
       " 'VS-MC-RC-031_1990',\n",
       " 'VS-MC-RC-031_1995',\n",
       " 'VS-MC-RC-033_1996',\n",
       " 'VS-MC-RC-035_1987',\n",
       " 'VS-MC-RC-035_1990',\n",
       " 'VS-MC-RC-035_1997',\n",
       " 'VS-MC-RC-036_1995',\n",
       " 'VS-MC-RC-036_1999',\n",
       " 'VS-MC-RC-037_1995',\n",
       " 'VS-MC-RC-037_1995',\n",
       " 'VS-MC-RC-037_1996',\n",
       " 'VS-MC-RC-038_1994',\n",
       " 'VS-MC-RC-038_1995',\n",
       " 'VS-MC-RC-038_1998',\n",
       " 'VS-MC-RC-040_1996',\n",
       " 'VS-MC-RC-040_1997',\n",
       " 'VS-MC-RC-040_1998',\n",
       " 'VS-MC-RC-041_1990',\n",
       " 'VS-MC-RC-041_1995',\n",
       " 'VS-MC-RC-041_1999',\n",
       " 'VS-MC-RC-043_1993',\n",
       " 'VS-MC-RC-044_1996',\n",
       " 'VS-MC-RC-044_1997',\n",
       " 'VS-MC-RC-045_1997',\n",
       " 'VS-MC-RC-045_1997',\n",
       " 'VS-MC-RC-045_1998',\n",
       " 'VS-MC-RC-046_1995',\n",
       " 'VS-MC-RC-046_1998',\n",
       " 'VS-MC-RC-048_1995',\n",
       " 'VS-MC-RC-049_1996',\n",
       " 'VS-MC-RC-049_1997',\n",
       " 'VS-MC-RC-049_1998',\n",
       " 'VS-MC-RC-052_1997',\n",
       " 'VS-MC-RC-052_1997',\n",
       " 'VS-MC-RC-052_1998',\n",
       " 'VS-MC-RC-056_1995',\n",
       " 'VS-MC-RC-057_1989',\n",
       " 'VS-MC-RC-057_1993',\n",
       " 'VS-MC-RC-057_1994',\n",
       " 'VS-MC-RC-058_1988',\n",
       " 'VS-MC-RC-058_1989',\n",
       " 'VS-MC-RC-059_1989',\n",
       " 'VS-MC-RC-059_1992',\n",
       " 'VS-MC-RC-059_1997',\n",
       " 'VS-MC-RC-060_1996',\n",
       " 'VS-MC-RC-060_1999',\n",
       " 'VS-MC-RC-062_1993',\n",
       " 'VS-MC-RC-062_1996',\n",
       " 'VS-MC-RC-062_1997',\n",
       " 'VS-MC-RC-063_1992',\n",
       " 'VS-MC-RC-063_1996',\n",
       " 'VS-MC-RC-063_1999',\n",
       " 'VS-MC-RC-065_1996',\n",
       " 'VS-MC-RC-065_1996',\n",
       " 'VS-MC-RC-065_1997',\n",
       " 'VS-MC-RC-067_1992',\n",
       " 'VS-MC-RC-067_1996',\n",
       " 'VS-MC-RC-070_1992',\n",
       " 'VS-MC-RC-070_1995',\n",
       " 'VS-MC-RC-070_1999',\n",
       " 'VS-MC-RC-071_1987',\n",
       " 'VS-MC-RC-071_1989',\n",
       " 'VS-MC-RC-071_1993',\n",
       " 'VS-MC-RC-072_1995',\n",
       " 'VS-MC-RC-073_1996',\n",
       " 'VS-MC-RC-073_1998',\n",
       " 'VS-MC-RC-073_1998',\n",
       " 'VS-MC-RC-074_1992',\n",
       " 'VS-MC-RC-074_1996',\n",
       " 'VS-MC-RC-076_1990',\n",
       " 'VS-MC-RC-076_1992',\n",
       " 'VS-MC-RC-076_1994',\n",
       " 'VS-MC-RC-077_1993',\n",
       " 'VS-MC-RC-077_1995',\n",
       " 'VS-MC-RC-077_1998',\n",
       " 'VS-MC-RC-079_1990',\n",
       " 'VS-MC-RC-079_1990',\n",
       " 'VS-MC-RC-080_1995',\n",
       " 'VS-MC-RC-080_1999',\n",
       " 'VS-MC-RC-081_1996',\n",
       " 'VS-MC-RC-081_1997',\n",
       " 'VS-MC-RC-081_1997',\n",
       " 'VS-MC-RC-082_1988',\n",
       " 'VS-MC-RC-082_1993',\n",
       " 'VS-MC-RC-082_1998',\n",
       " 'VS-MC-RC-083_1992',\n",
       " 'VS-MC-RC-083_1993',\n",
       " 'VS-MC-RC-083_1994',\n",
       " 'VS-MC-RC-084_1994',\n",
       " 'VS-MC-RC-084_1996',\n",
       " 'VS-MC-RC-084_1999',\n",
       " 'VS-MC-RC-085_1991',\n",
       " 'VS-MC-RC-086_1992',\n",
       " 'VS-MC-RC-086_1994',\n",
       " 'VS-MC-RC-086_1998',\n",
       " 'VS-MC-RC-087_1995',\n",
       " 'VS-MC-RC-087_1996',\n",
       " 'VS-MC-RC-087_1997',\n",
       " 'VS-MC-RC-088_1986',\n",
       " 'VS-MC-RC-088_1992',\n",
       " 'VS-MC-RC-088_2000',\n",
       " 'VS-MC-RC-093_1996',\n",
       " 'VS-MC-RC-093_1997',\n",
       " 'VS-MC-RC-093_1998',\n",
       " 'VS-MC-RC-094_1991',\n",
       " 'VS-MC-RC-094_1992',\n",
       " 'VS-MC-RC-094_1998',\n",
       " 'VS-MC-RC-095_1992',\n",
       " 'VS-MC-RC-095_1995',\n",
       " 'VS-MC-RC-095_1999',\n",
       " 'VS-MC-RC-096_1996',\n",
       " 'VS-MC-RC-096_1999',\n",
       " 'VS-MC-RC-097_1991',\n",
       " 'VS-MC-RC-097_1993',\n",
       " 'VS-MC-RC-097_1999',\n",
       " 'VS-MC-RC-098_1991',\n",
       " 'VS-MC-RC-098_1994',\n",
       " 'VS-MC-RC-098_1996',\n",
       " 'VS-MC-RC-099_1995',\n",
       " 'VS-MC-RC-099_1997',\n",
       " 'VS-MC-RC-099_1998',\n",
       " 'VS-MC-RC-100_1992',\n",
       " 'VS-MC-RC-100_1993',\n",
       " 'VS-MC-RC-101_1991',\n",
       " 'VS-MC-RC-102_1998']"
      ]
     },
     "execution_count": 85,
     "metadata": {},
     "output_type": "execute_result"
    }
   ],
   "source": [
    "x"
   ]
  },
  {
   "cell_type": "code",
   "execution_count": 86,
   "id": "c21ef895",
   "metadata": {},
   "outputs": [
    {
     "data": {
      "text/plain": [
       "301"
      ]
     },
     "execution_count": 86,
     "metadata": {},
     "output_type": "execute_result"
    }
   ],
   "source": [
    "voxel_volume_feature = {}\n",
    "for key, feature_list in features_dict.items():\n",
    "    for feature in feature_list:\n",
    "        value = feature.get('original_shape_MeshVolume', None)\n",
    "        voxel_volume_feature[key] = value.item() if isinstance(value, np.ndarray) else value\n",
    "len(voxel_volume_feature)\n"
   ]
  },
  {
   "cell_type": "code",
   "execution_count": 87,
   "id": "db007193",
   "metadata": {},
   "outputs": [
    {
     "data": {
      "text/plain": [
       "{'VS-SEG-003_1993': 880.5233845949246,\n",
       " 'VS-SEG-003_1995': 3145.3133775388014,\n",
       " 'VS-SEG-003_1997': 2698.6396784584667,\n",
       " 'VS-SEG-010_1993': 5117.444550127759,\n",
       " 'VS-SEG-010_1996': 1629.0708055005846,\n",
       " 'VS-SEG-010_1999': 802.4242824982265,\n",
       " 'VS-SEG-013_1991': 73.84254329813322,\n",
       " 'VS-SEG-013_1995': 333.16630394251973,\n",
       " 'VS-SEG-013_1999': 529.7363281249998,\n",
       " 'VS-SEG-021_1996': 2631.554796723139,\n",
       " 'VS-SEG-021_1999': 2748.2222423354974,\n",
       " 'VS-SEG-025_1992': 111.02028334221357,\n",
       " 'VS-SEG-025_1996': 743.2763803142133,\n",
       " 'VS-SEG-025_1999': 1613.2947487205859,\n",
       " 'VS-SEG-028_1990': 255.67897188929012,\n",
       " 'VS-SEG-028_1996': 464.7092111456221,\n",
       " 'VS-SEG-028_2000': 489.45320423087975,\n",
       " 'VS-SEG-030_1993': 2494.5436845548415,\n",
       " 'VS-SEG-030_1993_1': 2677.548811157017,\n",
       " 'VS-SEG-030_1994': 3828.012351525383,\n",
       " 'VS-SEG-031_1989': 108.55041105746047,\n",
       " 'VS-SEG-031_1996': 273.45443334715253,\n",
       " 'VS-SEG-031_2000': 189.69610958735495,\n",
       " 'VS-SEG-032_1994': 3263.522442803967,\n",
       " 'VS-SEG-032_1996': 1868.5376306558076,\n",
       " 'VS-SEG-032_2000': 1389.4607978478455,\n",
       " 'VS-SEG-034_1996': 428.6816481957954,\n",
       " 'VS-SEG-034_1999': 111.09212239583377,\n",
       " 'VS-SEG-034_2000': 97.73383590632965,\n",
       " 'VS-SEG-041_1996': 190.0585971065535,\n",
       " 'VS-SEG-041_1999': 198.6816329925182,\n",
       " 'VS-SEG-042_1994': 228.10754132543147,\n",
       " 'VS-SEG-042_1997': 168.2196594748854,\n",
       " 'VS-SEG-042_1999': 85.99479166666676,\n",
       " 'VS-SEG-044_1992': 479.40851015436215,\n",
       " 'VS-SEG-044_1994': 802.3348827707649,\n",
       " 'VS-SEG-044_1995': 1270.2433617632075,\n",
       " 'VS-SEG-045_1990': 7008.09015287033,\n",
       " 'VS-SEG-045_1995': 2290.899395942688,\n",
       " 'VS-SEG-045_2000': 854.304214306277,\n",
       " 'VS-SEG-049_1995': 2070.71922790904,\n",
       " 'VS-SEG-049_1997': 867.8533204017596,\n",
       " 'VS-SEG-058_1994': 299.9674523865297,\n",
       " 'VS-SEG-058_1998': 1144.2492848867619,\n",
       " 'VS-SEG-058_2001': 936.0197065021666,\n",
       " 'VS-SEG-059_1994': 2107.696802485047,\n",
       " 'VS-SEG-059_1997': 342.55371093749915,\n",
       " 'VS-SEG-059_2000': 190.69288713696304,\n",
       " 'VS-SEG-060_1994': 59.82862620715218,\n",
       " 'VS-SEG-060_1995': 263.9780044555664,\n",
       " 'VS-SEG-060_2000': 126.61621317361858,\n",
       " 'VS-SEG-061_1998': 247.12652082342007,\n",
       " 'VS-SEG-070_1997': 1184.6672066718436,\n",
       " 'VS-SEG-076_2001': 2424.5363178432144,\n",
       " 'VS-SEG-077_1996': 273.0680212731244,\n",
       " 'VS-SEG-077_1999': 228.40480879937445,\n",
       " 'VS-SEG-082_1997': 5699.287210027852,\n",
       " 'VS-SEG-082_2000': 4911.261289797255,\n",
       " 'VS-SEG-092_1993': 16441.010527695667,\n",
       " 'VS-SEG-092_1996': 1217.1727180480852,\n",
       " 'VS-SEG-092_2000': 659.2239694218757,\n",
       " 'VS-SEG-095_1993': 217.38102849983696,\n",
       " 'VS-SEG-095_1996': 1337.971043586731,\n",
       " 'VS-SEG-095_2000': 2938.071340950751,\n",
       " 'VS-SEG-098_1995': 1156.8308760058173,\n",
       " 'VS-SEG-098_1998': 2062.796345116313,\n",
       " 'VS-SEG-098_2000': 1108.6572686641123,\n",
       " 'VS-SEG-100_1998': 1624.6533490048994,\n",
       " 'VS-SEG-100_2000': 1489.7626061929657,\n",
       " 'VS-SEG-104_1995': 3716.363668441716,\n",
       " 'VS-SEG-104_1997': 2919.6821636448144,\n",
       " 'VS-SEG-104_2000': 4350.752030917516,\n",
       " 'VS-SEG-107_1997': 5180.103543648906,\n",
       " 'VS-SEG-111_1997': 155.59000968933105,\n",
       " 'VS-SEG-112_1997': 151.88899040222168,\n",
       " 'VS-SEG-116_1995': 225.23345947265543,\n",
       " 'VS-SEG-116_1996': 491.7789713541694,\n",
       " 'VS-SEG-116_1996_1': 764.8100092856549,\n",
       " 'VS-SEG-117_1996': 1052.0357608795166,\n",
       " 'VS-SEG-121_1990': 305.523399654284,\n",
       " 'VS-SEG-121_1996': 1357.2778560016761,\n",
       " 'VS-SEG-121_1997': 1154.5508016401473,\n",
       " 'VS-SEG-122_1999': 2359.9207424559722,\n",
       " 'VS-SEG-126_1996': 4857.955813407898,\n",
       " 'VS-SEG-132_1991': 105.26459756127348,\n",
       " 'VS-SEG-132_1996': 319.3664307123965,\n",
       " 'VS-SEG-132_2000': 357.836938450291,\n",
       " 'VS-SEG-133_1996': 1164.638671875,\n",
       " 'VS-SEG-133_1996_1': 1088.5522653182836,\n",
       " 'VS-SEG-133_1997': 1216.8876647949203,\n",
       " 'VS-SEG-135_1995': 5117.901363909875,\n",
       " 'VS-SEG-135_1997': 1027.3798227310203,\n",
       " 'VS-SEG-135_2001': 1117.106119791675,\n",
       " 'VS-SEG-154_1994': 2669.277102308764,\n",
       " 'VS-SEG-154_1997': 2062.887167930603,\n",
       " 'VS-SEG-154_2001': 1894.3196614583342,\n",
       " 'VS-SEG-164_1995': 991.551633570788,\n",
       " 'VS-SEG-164_2000': 1798.842678169596,\n",
       " 'VS-SEG-172_1997': 1784.7025316037218,\n",
       " 'VS-SEG-172_1998': 2877.5952390393795,\n",
       " 'VS-SEG-172_1998_1': 3479.7821044921875,\n",
       " 'VS-SEG-178_1994': 256.4558821774503,\n",
       " 'VS-SEG-178_1998': 837.8918409347534,\n",
       " 'VS-SEG-178_2001': 728.2774092029932,\n",
       " 'VS-SEG-188_1997': 2265.8392681381542,\n",
       " 'VS-SEG-188_1997_1': 3604.9610137939453,\n",
       " 'VS-SEG-195_2000': 166.5404922015006,\n",
       " 'VS-SEG-197_1995': 1087.6464843750111,\n",
       " 'VS-SEG-197_1996': 1156.596678383582,\n",
       " 'VS-SEG-197_1998': 2338.1084203720093,\n",
       " 'VS-SEG-199_1997': 2995.0684122698913,\n",
       " 'VS-SEG-199_1998': 4097.08092212677,\n",
       " 'VS-SEG-218_1991': 6935.691291998734,\n",
       " 'VS-SEG-218_1992': 7268.56895942495,\n",
       " 'VS-SEG-218_1995': 8805.436028002916,\n",
       " 'VS-SEG-221_1996': 169.31448326580502,\n",
       " 'VS-SEG-221_1997': 424.9438415159703,\n",
       " 'VS-SEG-221_1998': 771.0842370986938,\n",
       " 'VS-MC-RC-001_1988': 193.15507189544647,\n",
       " 'VS-MC-RC-001_1989': 176.64875831219558,\n",
       " 'VS-MC-RC-001_1990': 142.32413169786534,\n",
       " 'VS-MC-RC-002_1987': 240.96432650108216,\n",
       " 'VS-MC-RC-002_1988': 722.544553314893,\n",
       " 'VS-MC-RC-002_1989': 1309.2009489227883,\n",
       " 'VS-MC-RC-004_1994': 13871.85872395832,\n",
       " 'VS-MC-RC-004_1995': 497.4531762393506,\n",
       " 'VS-MC-RC-004_1996': 480.14555695408444,\n",
       " 'VS-MC-RC-005_1988': 1411.3425402735766,\n",
       " 'VS-MC-RC-005_1991': 3667.4959580011546,\n",
       " 'VS-MC-RC-006_1991': 1255.555233708174,\n",
       " 'VS-MC-RC-006_1992': 1312.4194567718976,\n",
       " 'VS-MC-RC-006_1993': 1460.9389789927907,\n",
       " 'VS-MC-RC-007_1994': 88.78015588830372,\n",
       " 'VS-MC-RC-007_1997': 65.35507356850682,\n",
       " 'VS-MC-RC-009_1993': 1477.6011150386412,\n",
       " 'VS-MC-RC-009_1995': 8457.152777905218,\n",
       " 'VS-MC-RC-009_1996': 27169.135050112305,\n",
       " 'VS-MC-RC-010_1993': 10200.411159115942,\n",
       " 'VS-MC-RC-010_1998': 80.60088197938968,\n",
       " 'VS-MC-RC-010_1999': 163.44961320764997,\n",
       " 'VS-MC-RC-011_1996': 9.431270178877126,\n",
       " 'VS-MC-RC-012_1995': 14726.379495585357,\n",
       " 'VS-MC-RC-012_1995_1': 11946.920327381935,\n",
       " 'VS-MC-RC-013_1987': 47.89159145173962,\n",
       " 'VS-MC-RC-013_1990': 41.13559461180508,\n",
       " 'VS-MC-RC-013_1996': 34.3156610402018,\n",
       " 'VS-MC-RC-015_1989': 321.03934586080254,\n",
       " 'VS-MC-RC-015_1990': 311.7139859682232,\n",
       " 'VS-MC-RC-015_1992': 419.1439267759019,\n",
       " 'VS-MC-RC-016_1991': 816.1287843268005,\n",
       " 'VS-MC-RC-016_1995': 28.528188197468694,\n",
       " 'VS-MC-RC-019_1995': 25.141811592060325,\n",
       " 'VS-MC-RC-019_1998': 12.218535571731175,\n",
       " 'VS-MC-RC-020_1997': 525.7613169478062,\n",
       " 'VS-MC-RC-021_1991': 1934.1796874999955,\n",
       " 'VS-MC-RC-022_1993': 4104.811743757559,\n",
       " 'VS-MC-RC-022_1996': 648.8750000000018,\n",
       " 'VS-MC-RC-022_1999': 207.44519184083333,\n",
       " 'VS-MC-RC-024_1994': 27044.000107385593,\n",
       " 'VS-MC-RC-024_1995': 1182.0825404075724,\n",
       " 'VS-MC-RC-024_1995_1': 953.7816203022638,\n",
       " 'VS-MC-RC-025_1991': 329.5409146455191,\n",
       " 'VS-MC-RC-025_1994': 2061.4791992755254,\n",
       " 'VS-MC-RC-025_1996': 3588.0585725396663,\n",
       " 'VS-MC-RC-026_1995': 772.3851544453283,\n",
       " 'VS-MC-RC-026_1997': 845.2576808467334,\n",
       " 'VS-MC-RC-027_1993': 899.1835736887682,\n",
       " 'VS-MC-RC-027_2000': 1016.5265213034023,\n",
       " 'VS-MC-RC-028_1992': 14719.47143554679,\n",
       " 'VS-MC-RC-028_1995': 2917.875844368706,\n",
       " 'VS-MC-RC-028_1999': 7143.923270462325,\n",
       " 'VS-MC-RC-029_1993': 269.07252172659423,\n",
       " 'VS-MC-RC-030_1993': 1222.8731705910848,\n",
       " 'VS-MC-RC-030_1995': 982.8193675006413,\n",
       " 'VS-MC-RC-030_1997': 1103.238932291665,\n",
       " 'VS-MC-RC-031_1987': 107.05839192689017,\n",
       " 'VS-MC-RC-031_1990': 100.04070909124982,\n",
       " 'VS-MC-RC-031_1995': 111.07422071163982,\n",
       " 'VS-MC-RC-033_1996': 1382.8563160805782,\n",
       " 'VS-MC-RC-035_1987': 3669.882778650714,\n",
       " 'VS-MC-RC-035_1990': 3334.490211110535,\n",
       " 'VS-MC-RC-035_1997': 2098.9993954246,\n",
       " 'VS-MC-RC-036_1995': 1485.8726665505621,\n",
       " 'VS-MC-RC-036_1999': 1406.5726433534835,\n",
       " 'VS-MC-RC-037_1995': 6104.36738108971,\n",
       " 'VS-MC-RC-037_1995_1': 5651.080729166638,\n",
       " 'VS-MC-RC-037_1996': 3935.5811241923934,\n",
       " 'VS-MC-RC-038_1994': 413.20170699016853,\n",
       " 'VS-MC-RC-038_1995': 251.4817787735365,\n",
       " 'VS-MC-RC-038_1998': 2965.2887234928166,\n",
       " 'VS-MC-RC-040_1996': 1240.0439672124633,\n",
       " 'VS-MC-RC-040_1997': 1138.9216097777992,\n",
       " 'VS-MC-RC-040_1998': 865.3627528396249,\n",
       " 'VS-MC-RC-041_1990': 63.24777495439107,\n",
       " 'VS-MC-RC-041_1995': 91.0955429062192,\n",
       " 'VS-MC-RC-041_1999': 68.97460937500026,\n",
       " 'VS-MC-RC-043_1993': 213.78199259440103,\n",
       " 'VS-MC-RC-044_1996': 476.96008179852305,\n",
       " 'VS-MC-RC-044_1997': 381.20833333333303,\n",
       " 'VS-MC-RC-045_1997': 1619.3894520290303,\n",
       " 'VS-MC-RC-045_1997_1': 2181.5075213409655,\n",
       " 'VS-MC-RC-045_1998': 1587.2884689883283,\n",
       " 'VS-MC-RC-046_1995': 15499.447240518899,\n",
       " 'VS-MC-RC-046_1998': 14586.708734829326,\n",
       " 'VS-MC-RC-048_1995': 16337.117666565791,\n",
       " 'VS-MC-RC-049_1996': 316.6926506143458,\n",
       " 'VS-MC-RC-049_1997': 520.7361923539912,\n",
       " 'VS-MC-RC-049_1998': 2130.483436063099,\n",
       " 'VS-MC-RC-052_1997': 649.66985529118,\n",
       " 'VS-MC-RC-052_1997_1': 768.1065135673521,\n",
       " 'VS-MC-RC-052_1998': 748.0513945945928,\n",
       " 'VS-MC-RC-056_1995': 3749.877995912572,\n",
       " 'VS-MC-RC-057_1989': 289.1578942663955,\n",
       " 'VS-MC-RC-057_1993': 638.6802470623161,\n",
       " 'VS-MC-RC-057_1994': 565.2026467005259,\n",
       " 'VS-MC-RC-058_1988': 29.09179758638727,\n",
       " 'VS-MC-RC-058_1989': 55.524518265409675,\n",
       " 'VS-MC-RC-059_1989': 76.43909985148672,\n",
       " 'VS-MC-RC-059_1992': 88.66555766041978,\n",
       " 'VS-MC-RC-059_1997': 83.86744676188381,\n",
       " 'VS-MC-RC-060_1996': 12558.079006769543,\n",
       " 'VS-MC-RC-060_1999': 10263.007868219089,\n",
       " 'VS-MC-RC-062_1993': 354.7181506638012,\n",
       " 'VS-MC-RC-062_1996': 460.08636355271915,\n",
       " 'VS-MC-RC-062_1997': 405.9084180925991,\n",
       " 'VS-MC-RC-063_1992': 7721.0581220577105,\n",
       " 'VS-MC-RC-063_1996': 3806.768056282608,\n",
       " 'VS-MC-RC-063_1999': 1722.193855614173,\n",
       " 'VS-MC-RC-065_1996': 213.0621920896384,\n",
       " 'VS-MC-RC-065_1996_1': 372.71484374999636,\n",
       " 'VS-MC-RC-065_1997': 333.72227159998334,\n",
       " 'VS-MC-RC-067_1992': 1280.3679944511052,\n",
       " 'VS-MC-RC-067_1996': 4031.744845223151,\n",
       " 'VS-MC-RC-070_1992': 269.204578347308,\n",
       " 'VS-MC-RC-070_1995': 334.2186716458543,\n",
       " 'VS-MC-RC-070_1999': 322.59176505772064,\n",
       " 'VS-MC-RC-071_1987': 478.1635977786893,\n",
       " 'VS-MC-RC-071_1989': 538.8567247163093,\n",
       " 'VS-MC-RC-071_1993': 545.6857453617584,\n",
       " 'VS-MC-RC-072_1995': 80.02197149996458,\n",
       " 'VS-MC-RC-073_1996': 179.6804778970919,\n",
       " 'VS-MC-RC-073_1998': 681.6796874999977,\n",
       " 'VS-MC-RC-073_1998_1': 581.306596235782,\n",
       " 'VS-MC-RC-074_1992': 586.9374419844196,\n",
       " 'VS-MC-RC-074_1996': 411.2875140348579,\n",
       " 'VS-MC-RC-076_1990': 577.6726242870479,\n",
       " 'VS-MC-RC-076_1992': 689.7509608924674,\n",
       " 'VS-MC-RC-076_1994': 39.71435617012852,\n",
       " 'VS-MC-RC-077_1993': 436.35457325999215,\n",
       " 'VS-MC-RC-077_1995': 369.31397136607643,\n",
       " 'VS-MC-RC-077_1998': 226.33342889923924,\n",
       " 'VS-MC-RC-079_1990': 12470.434869608564,\n",
       " 'VS-MC-RC-079_1990_1': 11939.834109573545,\n",
       " 'VS-MC-RC-080_1995': 82.27783348432956,\n",
       " 'VS-MC-RC-080_1999': 138.66455323015091,\n",
       " 'VS-MC-RC-081_1996': 383.2944547706661,\n",
       " 'VS-MC-RC-081_1997': 290.1735075559985,\n",
       " 'VS-MC-RC-081_1997_1': 507.58301677674643,\n",
       " 'VS-MC-RC-082_1988': 245.1555021998951,\n",
       " 'VS-MC-RC-082_1993': 289.36841551004704,\n",
       " 'VS-MC-RC-082_1998': 2232.3980569839478,\n",
       " 'VS-MC-RC-083_1992': 688.9002886643207,\n",
       " 'VS-MC-RC-083_1993': 2237.8162282510525,\n",
       " 'VS-MC-RC-083_1994': 3887.7583116051924,\n",
       " 'VS-MC-RC-084_1994': 578.5906314936042,\n",
       " 'VS-MC-RC-084_1996': 520.2270599687803,\n",
       " 'VS-MC-RC-084_1999': 1130.2918878685598,\n",
       " 'VS-MC-RC-085_1991': 2801.000976562496,\n",
       " 'VS-MC-RC-086_1992': 84.80065302890617,\n",
       " 'VS-MC-RC-086_1994': 191.5168431315938,\n",
       " 'VS-MC-RC-086_1998': 241.8743938004944,\n",
       " 'VS-MC-RC-087_1995': 95.14569844999774,\n",
       " 'VS-MC-RC-087_1996': 173.4786220101487,\n",
       " 'VS-MC-RC-087_1997': 177.03257744395674,\n",
       " 'VS-MC-RC-088_1986': 995.724261241055,\n",
       " 'VS-MC-RC-088_1992': 3782.0248616038357,\n",
       " 'VS-MC-RC-088_2000': 151.63732617914656,\n",
       " 'VS-MC-RC-093_1996': 297.7124023437503,\n",
       " 'VS-MC-RC-093_1997': 199.4872647143259,\n",
       " 'VS-MC-RC-093_1998': 211.45154009151466,\n",
       " 'VS-MC-RC-094_1991': 3520.606873638181,\n",
       " 'VS-MC-RC-094_1992': 4485.23933702482,\n",
       " 'VS-MC-RC-094_1998': 1687.6999715168624,\n",
       " 'VS-MC-RC-095_1992': 7959.115321632646,\n",
       " 'VS-MC-RC-095_1995': 13690.465982148608,\n",
       " 'VS-MC-RC-095_1999': 1123.500996404248,\n",
       " 'VS-MC-RC-096_1996': 930.9326171875041,\n",
       " 'VS-MC-RC-096_1999': 704.6833285124217,\n",
       " 'VS-MC-RC-097_1991': 4706.46844017507,\n",
       " 'VS-MC-RC-097_1993': 17544.95892512526,\n",
       " 'VS-MC-RC-097_1999': 4344.710286458326,\n",
       " 'VS-MC-RC-098_1991': 193.44203469803858,\n",
       " 'VS-MC-RC-098_1994': 229.25253880039568,\n",
       " 'VS-MC-RC-098_1996': 187.60986659455878,\n",
       " 'VS-MC-RC-099_1995': 157.8650162063968,\n",
       " 'VS-MC-RC-099_1997': 331.630865231806,\n",
       " 'VS-MC-RC-099_1998': 575.9921550750732,\n",
       " 'VS-MC-RC-100_1992': 411.5016676442576,\n",
       " 'VS-MC-RC-100_1993': 1433.9075784346085,\n",
       " 'VS-MC-RC-101_1991': 4541.953411433673,\n",
       " 'VS-MC-RC-102_1998': 386.8718036124938}"
      ]
     },
     "execution_count": 87,
     "metadata": {},
     "output_type": "execute_result"
    }
   ],
   "source": [
    "voxel_volume_feature"
   ]
  },
  {
   "cell_type": "code",
   "execution_count": 88,
   "id": "b98bf613",
   "metadata": {},
   "outputs": [
    {
     "data": {
      "text/plain": [
       "(14726.379495585357, 11946.920327381935)"
      ]
     },
     "execution_count": 88,
     "metadata": {},
     "output_type": "execute_result"
    }
   ],
   "source": [
    "voxel_volume_feature['VS-MC-RC-012_1995'],voxel_volume_feature['VS-MC-RC-012_1995_1'] "
   ]
  },
  {
   "cell_type": "code",
   "execution_count": 89,
   "id": "f490dc97",
   "metadata": {},
   "outputs": [],
   "source": [
    "import pandas as pd\n",
    "import numpy as np\n",
    "\n",
    "data = []\n",
    "for key, value in voxel_volume_feature.items():\n",
    "    parts = key.split('_')\n",
    "\n",
    "    if len(parts) > 2:\n",
    "        patient_id = parts[0]\n",
    "        year = parts[1] + \"_\" + parts[2]  # Create year_1 format\n",
    "    else:\n",
    "        patient_id, year = parts[0], parts[1]\n",
    "\n",
    "    data.append((patient_id, year, value))\n",
    "\n",
    "\n",
    "df = pd.DataFrame(data, columns=['Patient_ID', 'Year', 'Volume'])\n",
    "\n",
    "# Pivot the DataFrame to create a table with Patient_ID as the index, Year as columns, and Volume as the values\n",
    "volume_table = df.pivot(index='Patient_ID', columns='Year', values='Volume')\n",
    "\n",
    "# Replace missing values with \"N/A\"\n",
    "volume_table = volume_table.fillna(\"NaN\")"
   ]
  },
  {
   "cell_type": "code",
   "execution_count": 90,
   "id": "475d9fdf",
   "metadata": {},
   "outputs": [
    {
     "data": {
      "text/html": [
       "<div>\n",
       "<style scoped>\n",
       "    .dataframe tbody tr th:only-of-type {\n",
       "        vertical-align: middle;\n",
       "    }\n",
       "\n",
       "    .dataframe tbody tr th {\n",
       "        vertical-align: top;\n",
       "    }\n",
       "\n",
       "    .dataframe thead th {\n",
       "        text-align: right;\n",
       "    }\n",
       "</style>\n",
       "<table border=\"1\" class=\"dataframe\">\n",
       "  <thead>\n",
       "    <tr style=\"text-align: right;\">\n",
       "      <th>Year</th>\n",
       "      <th>1986</th>\n",
       "      <th>1987</th>\n",
       "      <th>1988</th>\n",
       "      <th>1989</th>\n",
       "      <th>1990</th>\n",
       "      <th>1990_1</th>\n",
       "      <th>1991</th>\n",
       "      <th>1992</th>\n",
       "      <th>1993</th>\n",
       "      <th>1993_1</th>\n",
       "      <th>...</th>\n",
       "      <th>1995_1</th>\n",
       "      <th>1996</th>\n",
       "      <th>1996_1</th>\n",
       "      <th>1997</th>\n",
       "      <th>1997_1</th>\n",
       "      <th>1998</th>\n",
       "      <th>1998_1</th>\n",
       "      <th>1999</th>\n",
       "      <th>2000</th>\n",
       "      <th>2001</th>\n",
       "    </tr>\n",
       "    <tr>\n",
       "      <th>Patient_ID</th>\n",
       "      <th></th>\n",
       "      <th></th>\n",
       "      <th></th>\n",
       "      <th></th>\n",
       "      <th></th>\n",
       "      <th></th>\n",
       "      <th></th>\n",
       "      <th></th>\n",
       "      <th></th>\n",
       "      <th></th>\n",
       "      <th></th>\n",
       "      <th></th>\n",
       "      <th></th>\n",
       "      <th></th>\n",
       "      <th></th>\n",
       "      <th></th>\n",
       "      <th></th>\n",
       "      <th></th>\n",
       "      <th></th>\n",
       "      <th></th>\n",
       "      <th></th>\n",
       "    </tr>\n",
       "  </thead>\n",
       "  <tbody>\n",
       "    <tr>\n",
       "      <th>VS-MC-RC-001</th>\n",
       "      <td>NaN</td>\n",
       "      <td>NaN</td>\n",
       "      <td>193.155072</td>\n",
       "      <td>176.648758</td>\n",
       "      <td>142.324132</td>\n",
       "      <td>NaN</td>\n",
       "      <td>NaN</td>\n",
       "      <td>NaN</td>\n",
       "      <td>NaN</td>\n",
       "      <td>NaN</td>\n",
       "      <td>...</td>\n",
       "      <td>NaN</td>\n",
       "      <td>NaN</td>\n",
       "      <td>NaN</td>\n",
       "      <td>NaN</td>\n",
       "      <td>NaN</td>\n",
       "      <td>NaN</td>\n",
       "      <td>NaN</td>\n",
       "      <td>NaN</td>\n",
       "      <td>NaN</td>\n",
       "      <td>NaN</td>\n",
       "    </tr>\n",
       "    <tr>\n",
       "      <th>VS-MC-RC-002</th>\n",
       "      <td>NaN</td>\n",
       "      <td>240.964327</td>\n",
       "      <td>722.544553</td>\n",
       "      <td>1309.200949</td>\n",
       "      <td>NaN</td>\n",
       "      <td>NaN</td>\n",
       "      <td>NaN</td>\n",
       "      <td>NaN</td>\n",
       "      <td>NaN</td>\n",
       "      <td>NaN</td>\n",
       "      <td>...</td>\n",
       "      <td>NaN</td>\n",
       "      <td>NaN</td>\n",
       "      <td>NaN</td>\n",
       "      <td>NaN</td>\n",
       "      <td>NaN</td>\n",
       "      <td>NaN</td>\n",
       "      <td>NaN</td>\n",
       "      <td>NaN</td>\n",
       "      <td>NaN</td>\n",
       "      <td>NaN</td>\n",
       "    </tr>\n",
       "    <tr>\n",
       "      <th>VS-MC-RC-004</th>\n",
       "      <td>NaN</td>\n",
       "      <td>NaN</td>\n",
       "      <td>NaN</td>\n",
       "      <td>NaN</td>\n",
       "      <td>NaN</td>\n",
       "      <td>NaN</td>\n",
       "      <td>NaN</td>\n",
       "      <td>NaN</td>\n",
       "      <td>NaN</td>\n",
       "      <td>NaN</td>\n",
       "      <td>...</td>\n",
       "      <td>NaN</td>\n",
       "      <td>480.145557</td>\n",
       "      <td>NaN</td>\n",
       "      <td>NaN</td>\n",
       "      <td>NaN</td>\n",
       "      <td>NaN</td>\n",
       "      <td>NaN</td>\n",
       "      <td>NaN</td>\n",
       "      <td>NaN</td>\n",
       "      <td>NaN</td>\n",
       "    </tr>\n",
       "    <tr>\n",
       "      <th>VS-MC-RC-005</th>\n",
       "      <td>NaN</td>\n",
       "      <td>NaN</td>\n",
       "      <td>1411.34254</td>\n",
       "      <td>NaN</td>\n",
       "      <td>NaN</td>\n",
       "      <td>NaN</td>\n",
       "      <td>3667.495958</td>\n",
       "      <td>NaN</td>\n",
       "      <td>NaN</td>\n",
       "      <td>NaN</td>\n",
       "      <td>...</td>\n",
       "      <td>NaN</td>\n",
       "      <td>NaN</td>\n",
       "      <td>NaN</td>\n",
       "      <td>NaN</td>\n",
       "      <td>NaN</td>\n",
       "      <td>NaN</td>\n",
       "      <td>NaN</td>\n",
       "      <td>NaN</td>\n",
       "      <td>NaN</td>\n",
       "      <td>NaN</td>\n",
       "    </tr>\n",
       "    <tr>\n",
       "      <th>VS-MC-RC-006</th>\n",
       "      <td>NaN</td>\n",
       "      <td>NaN</td>\n",
       "      <td>NaN</td>\n",
       "      <td>NaN</td>\n",
       "      <td>NaN</td>\n",
       "      <td>NaN</td>\n",
       "      <td>1255.555234</td>\n",
       "      <td>1312.419457</td>\n",
       "      <td>1460.938979</td>\n",
       "      <td>NaN</td>\n",
       "      <td>...</td>\n",
       "      <td>NaN</td>\n",
       "      <td>NaN</td>\n",
       "      <td>NaN</td>\n",
       "      <td>NaN</td>\n",
       "      <td>NaN</td>\n",
       "      <td>NaN</td>\n",
       "      <td>NaN</td>\n",
       "      <td>NaN</td>\n",
       "      <td>NaN</td>\n",
       "      <td>NaN</td>\n",
       "    </tr>\n",
       "    <tr>\n",
       "      <th>...</th>\n",
       "      <td>...</td>\n",
       "      <td>...</td>\n",
       "      <td>...</td>\n",
       "      <td>...</td>\n",
       "      <td>...</td>\n",
       "      <td>...</td>\n",
       "      <td>...</td>\n",
       "      <td>...</td>\n",
       "      <td>...</td>\n",
       "      <td>...</td>\n",
       "      <td>...</td>\n",
       "      <td>...</td>\n",
       "      <td>...</td>\n",
       "      <td>...</td>\n",
       "      <td>...</td>\n",
       "      <td>...</td>\n",
       "      <td>...</td>\n",
       "      <td>...</td>\n",
       "      <td>...</td>\n",
       "      <td>...</td>\n",
       "      <td>...</td>\n",
       "    </tr>\n",
       "    <tr>\n",
       "      <th>VS-SEG-195</th>\n",
       "      <td>NaN</td>\n",
       "      <td>NaN</td>\n",
       "      <td>NaN</td>\n",
       "      <td>NaN</td>\n",
       "      <td>NaN</td>\n",
       "      <td>NaN</td>\n",
       "      <td>NaN</td>\n",
       "      <td>NaN</td>\n",
       "      <td>NaN</td>\n",
       "      <td>NaN</td>\n",
       "      <td>...</td>\n",
       "      <td>NaN</td>\n",
       "      <td>NaN</td>\n",
       "      <td>NaN</td>\n",
       "      <td>NaN</td>\n",
       "      <td>NaN</td>\n",
       "      <td>NaN</td>\n",
       "      <td>NaN</td>\n",
       "      <td>NaN</td>\n",
       "      <td>166.540492</td>\n",
       "      <td>NaN</td>\n",
       "    </tr>\n",
       "    <tr>\n",
       "      <th>VS-SEG-197</th>\n",
       "      <td>NaN</td>\n",
       "      <td>NaN</td>\n",
       "      <td>NaN</td>\n",
       "      <td>NaN</td>\n",
       "      <td>NaN</td>\n",
       "      <td>NaN</td>\n",
       "      <td>NaN</td>\n",
       "      <td>NaN</td>\n",
       "      <td>NaN</td>\n",
       "      <td>NaN</td>\n",
       "      <td>...</td>\n",
       "      <td>NaN</td>\n",
       "      <td>1156.596678</td>\n",
       "      <td>NaN</td>\n",
       "      <td>NaN</td>\n",
       "      <td>NaN</td>\n",
       "      <td>2338.10842</td>\n",
       "      <td>NaN</td>\n",
       "      <td>NaN</td>\n",
       "      <td>NaN</td>\n",
       "      <td>NaN</td>\n",
       "    </tr>\n",
       "    <tr>\n",
       "      <th>VS-SEG-199</th>\n",
       "      <td>NaN</td>\n",
       "      <td>NaN</td>\n",
       "      <td>NaN</td>\n",
       "      <td>NaN</td>\n",
       "      <td>NaN</td>\n",
       "      <td>NaN</td>\n",
       "      <td>NaN</td>\n",
       "      <td>NaN</td>\n",
       "      <td>NaN</td>\n",
       "      <td>NaN</td>\n",
       "      <td>...</td>\n",
       "      <td>NaN</td>\n",
       "      <td>NaN</td>\n",
       "      <td>NaN</td>\n",
       "      <td>2995.068412</td>\n",
       "      <td>NaN</td>\n",
       "      <td>4097.080922</td>\n",
       "      <td>NaN</td>\n",
       "      <td>NaN</td>\n",
       "      <td>NaN</td>\n",
       "      <td>NaN</td>\n",
       "    </tr>\n",
       "    <tr>\n",
       "      <th>VS-SEG-218</th>\n",
       "      <td>NaN</td>\n",
       "      <td>NaN</td>\n",
       "      <td>NaN</td>\n",
       "      <td>NaN</td>\n",
       "      <td>NaN</td>\n",
       "      <td>NaN</td>\n",
       "      <td>6935.691292</td>\n",
       "      <td>7268.568959</td>\n",
       "      <td>NaN</td>\n",
       "      <td>NaN</td>\n",
       "      <td>...</td>\n",
       "      <td>NaN</td>\n",
       "      <td>NaN</td>\n",
       "      <td>NaN</td>\n",
       "      <td>NaN</td>\n",
       "      <td>NaN</td>\n",
       "      <td>NaN</td>\n",
       "      <td>NaN</td>\n",
       "      <td>NaN</td>\n",
       "      <td>NaN</td>\n",
       "      <td>NaN</td>\n",
       "    </tr>\n",
       "    <tr>\n",
       "      <th>VS-SEG-221</th>\n",
       "      <td>NaN</td>\n",
       "      <td>NaN</td>\n",
       "      <td>NaN</td>\n",
       "      <td>NaN</td>\n",
       "      <td>NaN</td>\n",
       "      <td>NaN</td>\n",
       "      <td>NaN</td>\n",
       "      <td>NaN</td>\n",
       "      <td>NaN</td>\n",
       "      <td>NaN</td>\n",
       "      <td>...</td>\n",
       "      <td>NaN</td>\n",
       "      <td>169.314483</td>\n",
       "      <td>NaN</td>\n",
       "      <td>424.943842</td>\n",
       "      <td>NaN</td>\n",
       "      <td>771.084237</td>\n",
       "      <td>NaN</td>\n",
       "      <td>NaN</td>\n",
       "      <td>NaN</td>\n",
       "      <td>NaN</td>\n",
       "    </tr>\n",
       "  </tbody>\n",
       "</table>\n",
       "<p>124 rows × 22 columns</p>\n",
       "</div>"
      ],
      "text/plain": [
       "Year         1986        1987        1988         1989        1990 1990_1  \\\n",
       "Patient_ID                                                                  \n",
       "VS-MC-RC-001  NaN         NaN  193.155072   176.648758  142.324132    NaN   \n",
       "VS-MC-RC-002  NaN  240.964327  722.544553  1309.200949         NaN    NaN   \n",
       "VS-MC-RC-004  NaN         NaN         NaN          NaN         NaN    NaN   \n",
       "VS-MC-RC-005  NaN         NaN  1411.34254          NaN         NaN    NaN   \n",
       "VS-MC-RC-006  NaN         NaN         NaN          NaN         NaN    NaN   \n",
       "...           ...         ...         ...          ...         ...    ...   \n",
       "VS-SEG-195    NaN         NaN         NaN          NaN         NaN    NaN   \n",
       "VS-SEG-197    NaN         NaN         NaN          NaN         NaN    NaN   \n",
       "VS-SEG-199    NaN         NaN         NaN          NaN         NaN    NaN   \n",
       "VS-SEG-218    NaN         NaN         NaN          NaN         NaN    NaN   \n",
       "VS-SEG-221    NaN         NaN         NaN          NaN         NaN    NaN   \n",
       "\n",
       "Year                 1991         1992         1993 1993_1  ... 1995_1  \\\n",
       "Patient_ID                                                  ...          \n",
       "VS-MC-RC-001          NaN          NaN          NaN    NaN  ...    NaN   \n",
       "VS-MC-RC-002          NaN          NaN          NaN    NaN  ...    NaN   \n",
       "VS-MC-RC-004          NaN          NaN          NaN    NaN  ...    NaN   \n",
       "VS-MC-RC-005  3667.495958          NaN          NaN    NaN  ...    NaN   \n",
       "VS-MC-RC-006  1255.555234  1312.419457  1460.938979    NaN  ...    NaN   \n",
       "...                   ...          ...          ...    ...  ...    ...   \n",
       "VS-SEG-195            NaN          NaN          NaN    NaN  ...    NaN   \n",
       "VS-SEG-197            NaN          NaN          NaN    NaN  ...    NaN   \n",
       "VS-SEG-199            NaN          NaN          NaN    NaN  ...    NaN   \n",
       "VS-SEG-218    6935.691292  7268.568959          NaN    NaN  ...    NaN   \n",
       "VS-SEG-221            NaN          NaN          NaN    NaN  ...    NaN   \n",
       "\n",
       "Year                 1996 1996_1         1997 1997_1         1998 1998_1 1999  \\\n",
       "Patient_ID                                                                      \n",
       "VS-MC-RC-001          NaN    NaN          NaN    NaN          NaN    NaN  NaN   \n",
       "VS-MC-RC-002          NaN    NaN          NaN    NaN          NaN    NaN  NaN   \n",
       "VS-MC-RC-004   480.145557    NaN          NaN    NaN          NaN    NaN  NaN   \n",
       "VS-MC-RC-005          NaN    NaN          NaN    NaN          NaN    NaN  NaN   \n",
       "VS-MC-RC-006          NaN    NaN          NaN    NaN          NaN    NaN  NaN   \n",
       "...                   ...    ...          ...    ...          ...    ...  ...   \n",
       "VS-SEG-195            NaN    NaN          NaN    NaN          NaN    NaN  NaN   \n",
       "VS-SEG-197    1156.596678    NaN          NaN    NaN   2338.10842    NaN  NaN   \n",
       "VS-SEG-199            NaN    NaN  2995.068412    NaN  4097.080922    NaN  NaN   \n",
       "VS-SEG-218            NaN    NaN          NaN    NaN          NaN    NaN  NaN   \n",
       "VS-SEG-221     169.314483    NaN   424.943842    NaN   771.084237    NaN  NaN   \n",
       "\n",
       "Year                2000 2001  \n",
       "Patient_ID                     \n",
       "VS-MC-RC-001         NaN  NaN  \n",
       "VS-MC-RC-002         NaN  NaN  \n",
       "VS-MC-RC-004         NaN  NaN  \n",
       "VS-MC-RC-005         NaN  NaN  \n",
       "VS-MC-RC-006         NaN  NaN  \n",
       "...                  ...  ...  \n",
       "VS-SEG-195    166.540492  NaN  \n",
       "VS-SEG-197           NaN  NaN  \n",
       "VS-SEG-199           NaN  NaN  \n",
       "VS-SEG-218           NaN  NaN  \n",
       "VS-SEG-221           NaN  NaN  \n",
       "\n",
       "[124 rows x 22 columns]"
      ]
     },
     "execution_count": 90,
     "metadata": {},
     "output_type": "execute_result"
    }
   ],
   "source": [
    "volume_table"
   ]
  },
  {
   "cell_type": "code",
   "execution_count": null,
   "id": "cd3cc4dd",
   "metadata": {},
   "outputs": [],
   "source": [
    "# dest_path = r'C:\\Users\\Acer\\Desktop\\3dVS\\RFcsv\\volume_data1.csv'\n",
    "# volume_table.to_csv(dest_path)"
   ]
  },
  {
   "cell_type": "code",
   "execution_count": 92,
   "id": "f4ae9ee5",
   "metadata": {},
   "outputs": [],
   "source": [
    "import pandas as pd\n",
    "import numpy as np\n",
    "\n",
    "volume_diff_column = []\n",
    "\n",
    "\n",
    "for idx, row in volume_table.iterrows():\n",
    "\n",
    "    numeric_values = pd.to_numeric(row.dropna(), errors='coerce').dropna().values\n",
    "    if len(numeric_values) > 1:\n",
    "        first_numeric = int(numeric_values[0])\n",
    "        last_numeric = int(numeric_values[-1])\n",
    "        volume_diff = last_numeric - first_numeric\n",
    "    else:\n",
    "        volume_diff = np.nan\n",
    "\n",
    "\n",
    "    volume_diff_column.append(volume_diff)\n",
    "\n",
    "# Add the calculated 'volume_diff' as a new column\n",
    "volume_table['volume_diff'] = volume_diff_column\n",
    "\n",
    "# Create a new column based on whether the volume_diff is positive or negative\n",
    "volume_table['change'] = volume_table['volume_diff'].apply(lambda x: 'increased' if x > 0 else 'not increased')\n"
   ]
  },
  {
   "cell_type": "code",
   "execution_count": null,
   "id": "abd3efd0",
   "metadata": {},
   "outputs": [],
   "source": [
    "# dest_path = r'C:\\Users\\Acer\\Desktop\\3dVS\\RFcsv\\volume_data2.csv'\n",
    "# volume_table.to_csv(dest_path)"
   ]
  },
  {
   "cell_type": "code",
   "execution_count": null,
   "id": "e9617a6f",
   "metadata": {},
   "outputs": [
    {
     "data": {
      "text/plain": [
       "107"
      ]
     },
     "execution_count": 1,
     "metadata": {},
     "output_type": "execute_result"
    }
   ],
   "source": [
    "feature_names= ['original_shape_Elongation', 'original_shape_Flatness', 'original_shape_LeastAxisLength', 'original_shape_MajorAxisLength', 'original_shape_Maximum2DDiameterColumn', 'original_shape_Maximum2DDiameterRow', 'original_shape_Maximum2DDiameterSlice', 'original_shape_Maximum3DDiameter', 'original_shape_MeshVolume', 'original_shape_MinorAxisLength', 'original_shape_Sphericity', 'original_shape_SurfaceArea', 'original_shape_SurfaceVolumeRatio', 'original_shape_VoxelVolume', 'original_firstorder_10Percentile', 'original_firstorder_90Percentile', 'original_firstorder_Energy', 'original_firstorder_Entropy', 'original_firstorder_InterquartileRange', 'original_firstorder_Kurtosis', 'original_firstorder_Maximum', 'original_firstorder_MeanAbsoluteDeviation', 'original_firstorder_Mean', 'original_firstorder_Median', 'original_firstorder_Minimum', 'original_firstorder_Range', 'original_firstorder_RobustMeanAbsoluteDeviation', 'original_firstorder_RootMeanSquared', 'original_firstorder_Skewness', 'original_firstorder_TotalEnergy', 'original_firstorder_Uniformity', 'original_firstorder_Variance', 'original_glcm_Autocorrelation', 'original_glcm_ClusterProminence', 'original_glcm_ClusterShade', 'original_glcm_ClusterTendency', 'original_glcm_Contrast', 'original_glcm_Correlation', 'original_glcm_DifferenceAverage', 'original_glcm_DifferenceEntropy', 'original_glcm_DifferenceVariance', 'original_glcm_Id', 'original_glcm_Idm', 'original_glcm_Idmn', 'original_glcm_Idn', 'original_glcm_Imc1', 'original_glcm_Imc2', 'original_glcm_InverseVariance', 'original_glcm_JointAverage', 'original_glcm_JointEnergy', 'original_glcm_JointEntropy', 'original_glcm_MCC', 'original_glcm_MaximumProbability', 'original_glcm_SumAverage', 'original_glcm_SumEntropy', 'original_glcm_SumSquares', 'original_gldm_DependenceEntropy', 'original_gldm_DependenceNonUniformity', 'original_gldm_DependenceNonUniformityNormalized', 'original_gldm_DependenceVariance', 'original_gldm_GrayLevelNonUniformity', 'original_gldm_GrayLevelVariance', 'original_gldm_HighGrayLevelEmphasis', 'original_gldm_LargeDependenceEmphasis', 'original_gldm_LargeDependenceHighGrayLevelEmphasis', 'original_gldm_LargeDependenceLowGrayLevelEmphasis', 'original_gldm_LowGrayLevelEmphasis', 'original_gldm_SmallDependenceEmphasis', 'original_gldm_SmallDependenceHighGrayLevelEmphasis', 'original_gldm_SmallDependenceLowGrayLevelEmphasis', 'original_glrlm_GrayLevelNonUniformity', 'original_glrlm_GrayLevelNonUniformityNormalized', 'original_glrlm_GrayLevelVariance', 'original_glrlm_HighGrayLevelRunEmphasis', 'original_glrlm_LongRunEmphasis', 'original_glrlm_LongRunHighGrayLevelEmphasis', 'original_glrlm_LongRunLowGrayLevelEmphasis', 'original_glrlm_LowGrayLevelRunEmphasis', 'original_glrlm_RunEntropy', 'original_glrlm_RunLengthNonUniformity', 'original_glrlm_RunLengthNonUniformityNormalized', 'original_glrlm_RunPercentage', 'original_glrlm_RunVariance', 'original_glrlm_ShortRunEmphasis', 'original_glrlm_ShortRunHighGrayLevelEmphasis', 'original_glrlm_ShortRunLowGrayLevelEmphasis', 'original_glszm_GrayLevelNonUniformity', 'original_glszm_GrayLevelNonUniformityNormalized', 'original_glszm_GrayLevelVariance', 'original_glszm_HighGrayLevelZoneEmphasis', 'original_glszm_LargeAreaEmphasis', 'original_glszm_LargeAreaHighGrayLevelEmphasis', 'original_glszm_LargeAreaLowGrayLevelEmphasis', 'original_glszm_LowGrayLevelZoneEmphasis', 'original_glszm_SizeZoneNonUniformity', 'original_glszm_SizeZoneNonUniformityNormalized', 'original_glszm_SmallAreaEmphasis', 'original_glszm_SmallAreaHighGrayLevelEmphasis', 'original_glszm_SmallAreaLowGrayLevelEmphasis', 'original_glszm_ZoneEntropy', 'original_glszm_ZonePercentage', 'original_glszm_ZoneVariance', 'original_ngtdm_Busyness', 'original_ngtdm_Coarseness', 'original_ngtdm_Complexity', 'original_ngtdm_Contrast', 'original_ngtdm_Strength']"
   ]
  },
  {
   "cell_type": "code",
   "execution_count": null,
   "id": "ee8e5cde",
   "metadata": {},
   "outputs": [
    {
     "data": {
      "text/plain": [
       "['original_shape_Elongation',\n",
       " 'original_shape_Flatness',\n",
       " 'original_shape_LeastAxisLength',\n",
       " 'original_shape_MajorAxisLength',\n",
       " 'original_shape_Maximum2DDiameterColumn',\n",
       " 'original_shape_Maximum2DDiameterRow',\n",
       " 'original_shape_Maximum2DDiameterSlice',\n",
       " 'original_shape_Maximum3DDiameter',\n",
       " 'original_shape_MeshVolume',\n",
       " 'original_shape_MinorAxisLength',\n",
       " 'original_shape_Sphericity',\n",
       " 'original_shape_SurfaceArea',\n",
       " 'original_shape_SurfaceVolumeRatio',\n",
       " 'original_shape_VoxelVolume',\n",
       " 'original_firstorder_10Percentile',\n",
       " 'original_firstorder_90Percentile',\n",
       " 'original_firstorder_Energy',\n",
       " 'original_firstorder_Entropy',\n",
       " 'original_firstorder_InterquartileRange',\n",
       " 'original_firstorder_Kurtosis',\n",
       " 'original_firstorder_Maximum',\n",
       " 'original_firstorder_MeanAbsoluteDeviation',\n",
       " 'original_firstorder_Mean',\n",
       " 'original_firstorder_Median',\n",
       " 'original_firstorder_Minimum',\n",
       " 'original_firstorder_Range',\n",
       " 'original_firstorder_RobustMeanAbsoluteDeviation',\n",
       " 'original_firstorder_RootMeanSquared',\n",
       " 'original_firstorder_Skewness',\n",
       " 'original_firstorder_TotalEnergy',\n",
       " 'original_firstorder_Uniformity',\n",
       " 'original_firstorder_Variance',\n",
       " 'original_glcm_Autocorrelation',\n",
       " 'original_glcm_ClusterProminence',\n",
       " 'original_glcm_ClusterShade',\n",
       " 'original_glcm_ClusterTendency',\n",
       " 'original_glcm_Contrast',\n",
       " 'original_glcm_Correlation',\n",
       " 'original_glcm_DifferenceAverage',\n",
       " 'original_glcm_DifferenceEntropy',\n",
       " 'original_glcm_DifferenceVariance',\n",
       " 'original_glcm_Id',\n",
       " 'original_glcm_Idm',\n",
       " 'original_glcm_Idmn',\n",
       " 'original_glcm_Idn',\n",
       " 'original_glcm_Imc1',\n",
       " 'original_glcm_Imc2',\n",
       " 'original_glcm_InverseVariance',\n",
       " 'original_glcm_JointAverage',\n",
       " 'original_glcm_JointEnergy',\n",
       " 'original_glcm_JointEntropy',\n",
       " 'original_glcm_MCC',\n",
       " 'original_glcm_MaximumProbability',\n",
       " 'original_glcm_SumAverage',\n",
       " 'original_glcm_SumEntropy',\n",
       " 'original_glcm_SumSquares',\n",
       " 'original_gldm_DependenceEntropy',\n",
       " 'original_gldm_DependenceNonUniformity',\n",
       " 'original_gldm_DependenceNonUniformityNormalized',\n",
       " 'original_gldm_DependenceVariance',\n",
       " 'original_gldm_GrayLevelNonUniformity',\n",
       " 'original_gldm_GrayLevelVariance',\n",
       " 'original_gldm_HighGrayLevelEmphasis',\n",
       " 'original_gldm_LargeDependenceEmphasis',\n",
       " 'original_gldm_LargeDependenceHighGrayLevelEmphasis',\n",
       " 'original_gldm_LargeDependenceLowGrayLevelEmphasis',\n",
       " 'original_gldm_LowGrayLevelEmphasis',\n",
       " 'original_gldm_SmallDependenceEmphasis',\n",
       " 'original_gldm_SmallDependenceHighGrayLevelEmphasis',\n",
       " 'original_gldm_SmallDependenceLowGrayLevelEmphasis',\n",
       " 'original_glrlm_GrayLevelNonUniformity',\n",
       " 'original_glrlm_GrayLevelNonUniformityNormalized',\n",
       " 'original_glrlm_GrayLevelVariance',\n",
       " 'original_glrlm_HighGrayLevelRunEmphasis',\n",
       " 'original_glrlm_LongRunEmphasis',\n",
       " 'original_glrlm_LongRunHighGrayLevelEmphasis',\n",
       " 'original_glrlm_LongRunLowGrayLevelEmphasis',\n",
       " 'original_glrlm_LowGrayLevelRunEmphasis',\n",
       " 'original_glrlm_RunEntropy',\n",
       " 'original_glrlm_RunLengthNonUniformity',\n",
       " 'original_glrlm_RunLengthNonUniformityNormalized',\n",
       " 'original_glrlm_RunPercentage',\n",
       " 'original_glrlm_RunVariance',\n",
       " 'original_glrlm_ShortRunEmphasis',\n",
       " 'original_glrlm_ShortRunHighGrayLevelEmphasis',\n",
       " 'original_glrlm_ShortRunLowGrayLevelEmphasis',\n",
       " 'original_glszm_GrayLevelNonUniformity',\n",
       " 'original_glszm_GrayLevelNonUniformityNormalized',\n",
       " 'original_glszm_GrayLevelVariance',\n",
       " 'original_glszm_HighGrayLevelZoneEmphasis',\n",
       " 'original_glszm_LargeAreaEmphasis',\n",
       " 'original_glszm_LargeAreaHighGrayLevelEmphasis',\n",
       " 'original_glszm_LargeAreaLowGrayLevelEmphasis',\n",
       " 'original_glszm_LowGrayLevelZoneEmphasis',\n",
       " 'original_glszm_SizeZoneNonUniformity',\n",
       " 'original_glszm_SizeZoneNonUniformityNormalized',\n",
       " 'original_glszm_SmallAreaEmphasis',\n",
       " 'original_glszm_SmallAreaHighGrayLevelEmphasis',\n",
       " 'original_glszm_SmallAreaLowGrayLevelEmphasis',\n",
       " 'original_glszm_ZoneEntropy',\n",
       " 'original_glszm_ZonePercentage',\n",
       " 'original_glszm_ZoneVariance',\n",
       " 'original_ngtdm_Busyness',\n",
       " 'original_ngtdm_Coarseness',\n",
       " 'original_ngtdm_Complexity',\n",
       " 'original_ngtdm_Contrast',\n",
       " 'original_ngtdm_Strength']"
      ]
     },
     "execution_count": 2,
     "metadata": {},
     "output_type": "execute_result"
    }
   ],
   "source": [
    "feature_names"
   ]
  },
  {
   "cell_type": "code",
   "execution_count": 95,
   "id": "8e1bc165",
   "metadata": {},
   "outputs": [
    {
     "name": "stderr",
     "output_type": "stream",
     "text": [
      "C:\\Users\\Acer\\AppData\\Local\\Temp\\ipykernel_2900\\3373166795.py:2: PerformanceWarning: DataFrame is highly fragmented.  This is usually the result of calling `frame.insert` many times, which has poor performance.  Consider joining all columns at once using pd.concat(axis=1) instead. To get a de-fragmented frame, use `newframe = frame.copy()`\n",
      "  volume_table[feature] = float('nan')\n",
      "C:\\Users\\Acer\\AppData\\Local\\Temp\\ipykernel_2900\\3373166795.py:2: PerformanceWarning: DataFrame is highly fragmented.  This is usually the result of calling `frame.insert` many times, which has poor performance.  Consider joining all columns at once using pd.concat(axis=1) instead. To get a de-fragmented frame, use `newframe = frame.copy()`\n",
      "  volume_table[feature] = float('nan')\n",
      "C:\\Users\\Acer\\AppData\\Local\\Temp\\ipykernel_2900\\3373166795.py:2: PerformanceWarning: DataFrame is highly fragmented.  This is usually the result of calling `frame.insert` many times, which has poor performance.  Consider joining all columns at once using pd.concat(axis=1) instead. To get a de-fragmented frame, use `newframe = frame.copy()`\n",
      "  volume_table[feature] = float('nan')\n",
      "C:\\Users\\Acer\\AppData\\Local\\Temp\\ipykernel_2900\\3373166795.py:2: PerformanceWarning: DataFrame is highly fragmented.  This is usually the result of calling `frame.insert` many times, which has poor performance.  Consider joining all columns at once using pd.concat(axis=1) instead. To get a de-fragmented frame, use `newframe = frame.copy()`\n",
      "  volume_table[feature] = float('nan')\n",
      "C:\\Users\\Acer\\AppData\\Local\\Temp\\ipykernel_2900\\3373166795.py:2: PerformanceWarning: DataFrame is highly fragmented.  This is usually the result of calling `frame.insert` many times, which has poor performance.  Consider joining all columns at once using pd.concat(axis=1) instead. To get a de-fragmented frame, use `newframe = frame.copy()`\n",
      "  volume_table[feature] = float('nan')\n",
      "C:\\Users\\Acer\\AppData\\Local\\Temp\\ipykernel_2900\\3373166795.py:2: PerformanceWarning: DataFrame is highly fragmented.  This is usually the result of calling `frame.insert` many times, which has poor performance.  Consider joining all columns at once using pd.concat(axis=1) instead. To get a de-fragmented frame, use `newframe = frame.copy()`\n",
      "  volume_table[feature] = float('nan')\n",
      "C:\\Users\\Acer\\AppData\\Local\\Temp\\ipykernel_2900\\3373166795.py:2: PerformanceWarning: DataFrame is highly fragmented.  This is usually the result of calling `frame.insert` many times, which has poor performance.  Consider joining all columns at once using pd.concat(axis=1) instead. To get a de-fragmented frame, use `newframe = frame.copy()`\n",
      "  volume_table[feature] = float('nan')\n",
      "C:\\Users\\Acer\\AppData\\Local\\Temp\\ipykernel_2900\\3373166795.py:2: PerformanceWarning: DataFrame is highly fragmented.  This is usually the result of calling `frame.insert` many times, which has poor performance.  Consider joining all columns at once using pd.concat(axis=1) instead. To get a de-fragmented frame, use `newframe = frame.copy()`\n",
      "  volume_table[feature] = float('nan')\n",
      "C:\\Users\\Acer\\AppData\\Local\\Temp\\ipykernel_2900\\3373166795.py:2: PerformanceWarning: DataFrame is highly fragmented.  This is usually the result of calling `frame.insert` many times, which has poor performance.  Consider joining all columns at once using pd.concat(axis=1) instead. To get a de-fragmented frame, use `newframe = frame.copy()`\n",
      "  volume_table[feature] = float('nan')\n",
      "C:\\Users\\Acer\\AppData\\Local\\Temp\\ipykernel_2900\\3373166795.py:2: PerformanceWarning: DataFrame is highly fragmented.  This is usually the result of calling `frame.insert` many times, which has poor performance.  Consider joining all columns at once using pd.concat(axis=1) instead. To get a de-fragmented frame, use `newframe = frame.copy()`\n",
      "  volume_table[feature] = float('nan')\n",
      "C:\\Users\\Acer\\AppData\\Local\\Temp\\ipykernel_2900\\3373166795.py:2: PerformanceWarning: DataFrame is highly fragmented.  This is usually the result of calling `frame.insert` many times, which has poor performance.  Consider joining all columns at once using pd.concat(axis=1) instead. To get a de-fragmented frame, use `newframe = frame.copy()`\n",
      "  volume_table[feature] = float('nan')\n",
      "C:\\Users\\Acer\\AppData\\Local\\Temp\\ipykernel_2900\\3373166795.py:2: PerformanceWarning: DataFrame is highly fragmented.  This is usually the result of calling `frame.insert` many times, which has poor performance.  Consider joining all columns at once using pd.concat(axis=1) instead. To get a de-fragmented frame, use `newframe = frame.copy()`\n",
      "  volume_table[feature] = float('nan')\n",
      "C:\\Users\\Acer\\AppData\\Local\\Temp\\ipykernel_2900\\3373166795.py:2: PerformanceWarning: DataFrame is highly fragmented.  This is usually the result of calling `frame.insert` many times, which has poor performance.  Consider joining all columns at once using pd.concat(axis=1) instead. To get a de-fragmented frame, use `newframe = frame.copy()`\n",
      "  volume_table[feature] = float('nan')\n",
      "C:\\Users\\Acer\\AppData\\Local\\Temp\\ipykernel_2900\\3373166795.py:2: PerformanceWarning: DataFrame is highly fragmented.  This is usually the result of calling `frame.insert` many times, which has poor performance.  Consider joining all columns at once using pd.concat(axis=1) instead. To get a de-fragmented frame, use `newframe = frame.copy()`\n",
      "  volume_table[feature] = float('nan')\n",
      "C:\\Users\\Acer\\AppData\\Local\\Temp\\ipykernel_2900\\3373166795.py:2: PerformanceWarning: DataFrame is highly fragmented.  This is usually the result of calling `frame.insert` many times, which has poor performance.  Consider joining all columns at once using pd.concat(axis=1) instead. To get a de-fragmented frame, use `newframe = frame.copy()`\n",
      "  volume_table[feature] = float('nan')\n",
      "C:\\Users\\Acer\\AppData\\Local\\Temp\\ipykernel_2900\\3373166795.py:2: PerformanceWarning: DataFrame is highly fragmented.  This is usually the result of calling `frame.insert` many times, which has poor performance.  Consider joining all columns at once using pd.concat(axis=1) instead. To get a de-fragmented frame, use `newframe = frame.copy()`\n",
      "  volume_table[feature] = float('nan')\n",
      "C:\\Users\\Acer\\AppData\\Local\\Temp\\ipykernel_2900\\3373166795.py:2: PerformanceWarning: DataFrame is highly fragmented.  This is usually the result of calling `frame.insert` many times, which has poor performance.  Consider joining all columns at once using pd.concat(axis=1) instead. To get a de-fragmented frame, use `newframe = frame.copy()`\n",
      "  volume_table[feature] = float('nan')\n",
      "C:\\Users\\Acer\\AppData\\Local\\Temp\\ipykernel_2900\\3373166795.py:2: PerformanceWarning: DataFrame is highly fragmented.  This is usually the result of calling `frame.insert` many times, which has poor performance.  Consider joining all columns at once using pd.concat(axis=1) instead. To get a de-fragmented frame, use `newframe = frame.copy()`\n",
      "  volume_table[feature] = float('nan')\n",
      "C:\\Users\\Acer\\AppData\\Local\\Temp\\ipykernel_2900\\3373166795.py:2: PerformanceWarning: DataFrame is highly fragmented.  This is usually the result of calling `frame.insert` many times, which has poor performance.  Consider joining all columns at once using pd.concat(axis=1) instead. To get a de-fragmented frame, use `newframe = frame.copy()`\n",
      "  volume_table[feature] = float('nan')\n",
      "C:\\Users\\Acer\\AppData\\Local\\Temp\\ipykernel_2900\\3373166795.py:2: PerformanceWarning: DataFrame is highly fragmented.  This is usually the result of calling `frame.insert` many times, which has poor performance.  Consider joining all columns at once using pd.concat(axis=1) instead. To get a de-fragmented frame, use `newframe = frame.copy()`\n",
      "  volume_table[feature] = float('nan')\n",
      "C:\\Users\\Acer\\AppData\\Local\\Temp\\ipykernel_2900\\3373166795.py:2: PerformanceWarning: DataFrame is highly fragmented.  This is usually the result of calling `frame.insert` many times, which has poor performance.  Consider joining all columns at once using pd.concat(axis=1) instead. To get a de-fragmented frame, use `newframe = frame.copy()`\n",
      "  volume_table[feature] = float('nan')\n",
      "C:\\Users\\Acer\\AppData\\Local\\Temp\\ipykernel_2900\\3373166795.py:2: PerformanceWarning: DataFrame is highly fragmented.  This is usually the result of calling `frame.insert` many times, which has poor performance.  Consider joining all columns at once using pd.concat(axis=1) instead. To get a de-fragmented frame, use `newframe = frame.copy()`\n",
      "  volume_table[feature] = float('nan')\n",
      "C:\\Users\\Acer\\AppData\\Local\\Temp\\ipykernel_2900\\3373166795.py:2: PerformanceWarning: DataFrame is highly fragmented.  This is usually the result of calling `frame.insert` many times, which has poor performance.  Consider joining all columns at once using pd.concat(axis=1) instead. To get a de-fragmented frame, use `newframe = frame.copy()`\n",
      "  volume_table[feature] = float('nan')\n",
      "C:\\Users\\Acer\\AppData\\Local\\Temp\\ipykernel_2900\\3373166795.py:2: PerformanceWarning: DataFrame is highly fragmented.  This is usually the result of calling `frame.insert` many times, which has poor performance.  Consider joining all columns at once using pd.concat(axis=1) instead. To get a de-fragmented frame, use `newframe = frame.copy()`\n",
      "  volume_table[feature] = float('nan')\n",
      "C:\\Users\\Acer\\AppData\\Local\\Temp\\ipykernel_2900\\3373166795.py:2: PerformanceWarning: DataFrame is highly fragmented.  This is usually the result of calling `frame.insert` many times, which has poor performance.  Consider joining all columns at once using pd.concat(axis=1) instead. To get a de-fragmented frame, use `newframe = frame.copy()`\n",
      "  volume_table[feature] = float('nan')\n",
      "C:\\Users\\Acer\\AppData\\Local\\Temp\\ipykernel_2900\\3373166795.py:2: PerformanceWarning: DataFrame is highly fragmented.  This is usually the result of calling `frame.insert` many times, which has poor performance.  Consider joining all columns at once using pd.concat(axis=1) instead. To get a de-fragmented frame, use `newframe = frame.copy()`\n",
      "  volume_table[feature] = float('nan')\n",
      "C:\\Users\\Acer\\AppData\\Local\\Temp\\ipykernel_2900\\3373166795.py:2: PerformanceWarning: DataFrame is highly fragmented.  This is usually the result of calling `frame.insert` many times, which has poor performance.  Consider joining all columns at once using pd.concat(axis=1) instead. To get a de-fragmented frame, use `newframe = frame.copy()`\n",
      "  volume_table[feature] = float('nan')\n",
      "C:\\Users\\Acer\\AppData\\Local\\Temp\\ipykernel_2900\\3373166795.py:2: PerformanceWarning: DataFrame is highly fragmented.  This is usually the result of calling `frame.insert` many times, which has poor performance.  Consider joining all columns at once using pd.concat(axis=1) instead. To get a de-fragmented frame, use `newframe = frame.copy()`\n",
      "  volume_table[feature] = float('nan')\n",
      "C:\\Users\\Acer\\AppData\\Local\\Temp\\ipykernel_2900\\3373166795.py:2: PerformanceWarning: DataFrame is highly fragmented.  This is usually the result of calling `frame.insert` many times, which has poor performance.  Consider joining all columns at once using pd.concat(axis=1) instead. To get a de-fragmented frame, use `newframe = frame.copy()`\n",
      "  volume_table[feature] = float('nan')\n",
      "C:\\Users\\Acer\\AppData\\Local\\Temp\\ipykernel_2900\\3373166795.py:2: PerformanceWarning: DataFrame is highly fragmented.  This is usually the result of calling `frame.insert` many times, which has poor performance.  Consider joining all columns at once using pd.concat(axis=1) instead. To get a de-fragmented frame, use `newframe = frame.copy()`\n",
      "  volume_table[feature] = float('nan')\n",
      "C:\\Users\\Acer\\AppData\\Local\\Temp\\ipykernel_2900\\3373166795.py:2: PerformanceWarning: DataFrame is highly fragmented.  This is usually the result of calling `frame.insert` many times, which has poor performance.  Consider joining all columns at once using pd.concat(axis=1) instead. To get a de-fragmented frame, use `newframe = frame.copy()`\n",
      "  volume_table[feature] = float('nan')\n"
     ]
    }
   ],
   "source": [
    "for feature in feature_names:\n",
    "    volume_table[feature] = float('nan')"
   ]
  },
  {
   "cell_type": "code",
   "execution_count": 96,
   "id": "ddff2ee7",
   "metadata": {},
   "outputs": [],
   "source": [
    "for idx, row in volume_table.iterrows():\n",
    "    numeric_values = pd.to_numeric(row.dropna(), errors='coerce').dropna()\n",
    "    if numeric_values.empty:\n",
    "        continue\n",
    "\n",
    "    year = min(numeric_values.index.tolist())  # earliest available year\n",
    "    dict_key = f\"{idx}_{year}\"\n",
    "\n",
    "    # Check if the key exists in features_dict\n",
    "    if dict_key in features_dict:\n",
    "        feature_values = features_dict[dict_key][0]\n",
    "        for feature in feature_names:\n",
    "            volume_table.at[idx, feature] = feature_values[feature]\n",
    "    else:\n",
    "        print(f\"Warning: {dict_key} not found in features_dict.\")"
   ]
  },
  {
   "cell_type": "code",
   "execution_count": 97,
   "id": "ac04e36c",
   "metadata": {},
   "outputs": [
    {
     "data": {
      "text/html": [
       "<div>\n",
       "<style scoped>\n",
       "    .dataframe tbody tr th:only-of-type {\n",
       "        vertical-align: middle;\n",
       "    }\n",
       "\n",
       "    .dataframe tbody tr th {\n",
       "        vertical-align: top;\n",
       "    }\n",
       "\n",
       "    .dataframe thead th {\n",
       "        text-align: right;\n",
       "    }\n",
       "</style>\n",
       "<table border=\"1\" class=\"dataframe\">\n",
       "  <thead>\n",
       "    <tr style=\"text-align: right;\">\n",
       "      <th>Year</th>\n",
       "      <th>1986</th>\n",
       "      <th>1987</th>\n",
       "      <th>1988</th>\n",
       "      <th>1989</th>\n",
       "      <th>1990</th>\n",
       "      <th>1990_1</th>\n",
       "      <th>1991</th>\n",
       "      <th>1992</th>\n",
       "      <th>1993</th>\n",
       "      <th>1993_1</th>\n",
       "      <th>...</th>\n",
       "      <th>original_glszm_SmallAreaHighGrayLevelEmphasis</th>\n",
       "      <th>original_glszm_SmallAreaLowGrayLevelEmphasis</th>\n",
       "      <th>original_glszm_ZoneEntropy</th>\n",
       "      <th>original_glszm_ZonePercentage</th>\n",
       "      <th>original_glszm_ZoneVariance</th>\n",
       "      <th>original_ngtdm_Busyness</th>\n",
       "      <th>original_ngtdm_Coarseness</th>\n",
       "      <th>original_ngtdm_Complexity</th>\n",
       "      <th>original_ngtdm_Contrast</th>\n",
       "      <th>original_ngtdm_Strength</th>\n",
       "    </tr>\n",
       "    <tr>\n",
       "      <th>Patient_ID</th>\n",
       "      <th></th>\n",
       "      <th></th>\n",
       "      <th></th>\n",
       "      <th></th>\n",
       "      <th></th>\n",
       "      <th></th>\n",
       "      <th></th>\n",
       "      <th></th>\n",
       "      <th></th>\n",
       "      <th></th>\n",
       "      <th></th>\n",
       "      <th></th>\n",
       "      <th></th>\n",
       "      <th></th>\n",
       "      <th></th>\n",
       "      <th></th>\n",
       "      <th></th>\n",
       "      <th></th>\n",
       "      <th></th>\n",
       "      <th></th>\n",
       "      <th></th>\n",
       "    </tr>\n",
       "  </thead>\n",
       "  <tbody>\n",
       "    <tr>\n",
       "      <th>VS-MC-RC-001</th>\n",
       "      <td>NaN</td>\n",
       "      <td>NaN</td>\n",
       "      <td>193.155072</td>\n",
       "      <td>176.648758</td>\n",
       "      <td>142.324132</td>\n",
       "      <td>NaN</td>\n",
       "      <td>NaN</td>\n",
       "      <td>NaN</td>\n",
       "      <td>NaN</td>\n",
       "      <td>NaN</td>\n",
       "      <td>...</td>\n",
       "      <td>10.695441</td>\n",
       "      <td>0.076159</td>\n",
       "      <td>4.020056</td>\n",
       "      <td>0.045500</td>\n",
       "      <td>8.521760e+03</td>\n",
       "      <td>14.322749</td>\n",
       "      <td>0.005272</td>\n",
       "      <td>16.255589</td>\n",
       "      <td>0.019169</td>\n",
       "      <td>0.263056</td>\n",
       "    </tr>\n",
       "    <tr>\n",
       "      <th>VS-MC-RC-002</th>\n",
       "      <td>NaN</td>\n",
       "      <td>240.964327</td>\n",
       "      <td>722.544553</td>\n",
       "      <td>1309.200949</td>\n",
       "      <td>NaN</td>\n",
       "      <td>NaN</td>\n",
       "      <td>NaN</td>\n",
       "      <td>NaN</td>\n",
       "      <td>NaN</td>\n",
       "      <td>NaN</td>\n",
       "      <td>...</td>\n",
       "      <td>480.178708</td>\n",
       "      <td>0.004672</td>\n",
       "      <td>6.442091</td>\n",
       "      <td>0.612416</td>\n",
       "      <td>1.898097e+00</td>\n",
       "      <td>0.149696</td>\n",
       "      <td>0.005885</td>\n",
       "      <td>6488.583068</td>\n",
       "      <td>0.304126</td>\n",
       "      <td>7.944378</td>\n",
       "    </tr>\n",
       "    <tr>\n",
       "      <th>VS-MC-RC-004</th>\n",
       "      <td>NaN</td>\n",
       "      <td>NaN</td>\n",
       "      <td>NaN</td>\n",
       "      <td>NaN</td>\n",
       "      <td>NaN</td>\n",
       "      <td>NaN</td>\n",
       "      <td>NaN</td>\n",
       "      <td>NaN</td>\n",
       "      <td>NaN</td>\n",
       "      <td>NaN</td>\n",
       "      <td>...</td>\n",
       "      <td>32.093094</td>\n",
       "      <td>0.029082</td>\n",
       "      <td>7.190271</td>\n",
       "      <td>0.010443</td>\n",
       "      <td>3.126897e+06</td>\n",
       "      <td>61.614317</td>\n",
       "      <td>0.000073</td>\n",
       "      <td>62.767139</td>\n",
       "      <td>0.027590</td>\n",
       "      <td>0.011189</td>\n",
       "    </tr>\n",
       "    <tr>\n",
       "      <th>VS-MC-RC-005</th>\n",
       "      <td>NaN</td>\n",
       "      <td>NaN</td>\n",
       "      <td>1411.34254</td>\n",
       "      <td>NaN</td>\n",
       "      <td>NaN</td>\n",
       "      <td>NaN</td>\n",
       "      <td>3667.495958</td>\n",
       "      <td>NaN</td>\n",
       "      <td>NaN</td>\n",
       "      <td>NaN</td>\n",
       "      <td>...</td>\n",
       "      <td>1403.268164</td>\n",
       "      <td>0.000975</td>\n",
       "      <td>7.284012</td>\n",
       "      <td>0.535631</td>\n",
       "      <td>4.696216e+00</td>\n",
       "      <td>0.178940</td>\n",
       "      <td>0.000656</td>\n",
       "      <td>57029.297654</td>\n",
       "      <td>0.081517</td>\n",
       "      <td>12.098159</td>\n",
       "    </tr>\n",
       "    <tr>\n",
       "      <th>VS-MC-RC-006</th>\n",
       "      <td>NaN</td>\n",
       "      <td>NaN</td>\n",
       "      <td>NaN</td>\n",
       "      <td>NaN</td>\n",
       "      <td>NaN</td>\n",
       "      <td>NaN</td>\n",
       "      <td>1255.555234</td>\n",
       "      <td>1312.419457</td>\n",
       "      <td>1460.938979</td>\n",
       "      <td>NaN</td>\n",
       "      <td>...</td>\n",
       "      <td>35.924964</td>\n",
       "      <td>0.077624</td>\n",
       "      <td>5.696608</td>\n",
       "      <td>0.077204</td>\n",
       "      <td>1.368253e+04</td>\n",
       "      <td>7.544970</td>\n",
       "      <td>0.000963</td>\n",
       "      <td>164.020212</td>\n",
       "      <td>0.028489</td>\n",
       "      <td>0.178225</td>\n",
       "    </tr>\n",
       "    <tr>\n",
       "      <th>...</th>\n",
       "      <td>...</td>\n",
       "      <td>...</td>\n",
       "      <td>...</td>\n",
       "      <td>...</td>\n",
       "      <td>...</td>\n",
       "      <td>...</td>\n",
       "      <td>...</td>\n",
       "      <td>...</td>\n",
       "      <td>...</td>\n",
       "      <td>...</td>\n",
       "      <td>...</td>\n",
       "      <td>...</td>\n",
       "      <td>...</td>\n",
       "      <td>...</td>\n",
       "      <td>...</td>\n",
       "      <td>...</td>\n",
       "      <td>...</td>\n",
       "      <td>...</td>\n",
       "      <td>...</td>\n",
       "      <td>...</td>\n",
       "      <td>...</td>\n",
       "    </tr>\n",
       "    <tr>\n",
       "      <th>VS-SEG-195</th>\n",
       "      <td>NaN</td>\n",
       "      <td>NaN</td>\n",
       "      <td>NaN</td>\n",
       "      <td>NaN</td>\n",
       "      <td>NaN</td>\n",
       "      <td>NaN</td>\n",
       "      <td>NaN</td>\n",
       "      <td>NaN</td>\n",
       "      <td>NaN</td>\n",
       "      <td>NaN</td>\n",
       "      <td>...</td>\n",
       "      <td>2591.392859</td>\n",
       "      <td>0.001952</td>\n",
       "      <td>6.126663</td>\n",
       "      <td>0.862069</td>\n",
       "      <td>2.944000e-01</td>\n",
       "      <td>0.013151</td>\n",
       "      <td>0.023994</td>\n",
       "      <td>27866.168951</td>\n",
       "      <td>2.382383</td>\n",
       "      <td>50.594926</td>\n",
       "    </tr>\n",
       "    <tr>\n",
       "      <th>VS-SEG-197</th>\n",
       "      <td>NaN</td>\n",
       "      <td>NaN</td>\n",
       "      <td>NaN</td>\n",
       "      <td>NaN</td>\n",
       "      <td>NaN</td>\n",
       "      <td>NaN</td>\n",
       "      <td>NaN</td>\n",
       "      <td>NaN</td>\n",
       "      <td>NaN</td>\n",
       "      <td>NaN</td>\n",
       "      <td>...</td>\n",
       "      <td>112.478485</td>\n",
       "      <td>0.010389</td>\n",
       "      <td>6.023579</td>\n",
       "      <td>0.258682</td>\n",
       "      <td>3.014484e+02</td>\n",
       "      <td>0.474109</td>\n",
       "      <td>0.004280</td>\n",
       "      <td>536.160015</td>\n",
       "      <td>0.123540</td>\n",
       "      <td>0.938516</td>\n",
       "    </tr>\n",
       "    <tr>\n",
       "      <th>VS-SEG-199</th>\n",
       "      <td>NaN</td>\n",
       "      <td>NaN</td>\n",
       "      <td>NaN</td>\n",
       "      <td>NaN</td>\n",
       "      <td>NaN</td>\n",
       "      <td>NaN</td>\n",
       "      <td>NaN</td>\n",
       "      <td>NaN</td>\n",
       "      <td>NaN</td>\n",
       "      <td>NaN</td>\n",
       "      <td>...</td>\n",
       "      <td>17.464088</td>\n",
       "      <td>0.078385</td>\n",
       "      <td>5.835668</td>\n",
       "      <td>0.034917</td>\n",
       "      <td>2.251998e+05</td>\n",
       "      <td>88.305997</td>\n",
       "      <td>0.000146</td>\n",
       "      <td>179.378541</td>\n",
       "      <td>0.017395</td>\n",
       "      <td>0.053233</td>\n",
       "    </tr>\n",
       "    <tr>\n",
       "      <th>VS-SEG-218</th>\n",
       "      <td>NaN</td>\n",
       "      <td>NaN</td>\n",
       "      <td>NaN</td>\n",
       "      <td>NaN</td>\n",
       "      <td>NaN</td>\n",
       "      <td>NaN</td>\n",
       "      <td>6935.691292</td>\n",
       "      <td>7268.568959</td>\n",
       "      <td>NaN</td>\n",
       "      <td>NaN</td>\n",
       "      <td>...</td>\n",
       "      <td>8.792796</td>\n",
       "      <td>0.116266</td>\n",
       "      <td>5.595278</td>\n",
       "      <td>0.010308</td>\n",
       "      <td>1.779108e+06</td>\n",
       "      <td>223.780822</td>\n",
       "      <td>0.000149</td>\n",
       "      <td>25.357783</td>\n",
       "      <td>0.011757</td>\n",
       "      <td>0.014437</td>\n",
       "    </tr>\n",
       "    <tr>\n",
       "      <th>VS-SEG-221</th>\n",
       "      <td>NaN</td>\n",
       "      <td>NaN</td>\n",
       "      <td>NaN</td>\n",
       "      <td>NaN</td>\n",
       "      <td>NaN</td>\n",
       "      <td>NaN</td>\n",
       "      <td>NaN</td>\n",
       "      <td>NaN</td>\n",
       "      <td>NaN</td>\n",
       "      <td>NaN</td>\n",
       "      <td>...</td>\n",
       "      <td>1.786097</td>\n",
       "      <td>0.091113</td>\n",
       "      <td>3.044913</td>\n",
       "      <td>0.003207</td>\n",
       "      <td>1.984924e+06</td>\n",
       "      <td>14.180609</td>\n",
       "      <td>0.017875</td>\n",
       "      <td>0.067586</td>\n",
       "      <td>0.000080</td>\n",
       "      <td>0.081291</td>\n",
       "    </tr>\n",
       "  </tbody>\n",
       "</table>\n",
       "<p>124 rows × 131 columns</p>\n",
       "</div>"
      ],
      "text/plain": [
       "Year         1986        1987        1988         1989        1990 1990_1  \\\n",
       "Patient_ID                                                                  \n",
       "VS-MC-RC-001  NaN         NaN  193.155072   176.648758  142.324132    NaN   \n",
       "VS-MC-RC-002  NaN  240.964327  722.544553  1309.200949         NaN    NaN   \n",
       "VS-MC-RC-004  NaN         NaN         NaN          NaN         NaN    NaN   \n",
       "VS-MC-RC-005  NaN         NaN  1411.34254          NaN         NaN    NaN   \n",
       "VS-MC-RC-006  NaN         NaN         NaN          NaN         NaN    NaN   \n",
       "...           ...         ...         ...          ...         ...    ...   \n",
       "VS-SEG-195    NaN         NaN         NaN          NaN         NaN    NaN   \n",
       "VS-SEG-197    NaN         NaN         NaN          NaN         NaN    NaN   \n",
       "VS-SEG-199    NaN         NaN         NaN          NaN         NaN    NaN   \n",
       "VS-SEG-218    NaN         NaN         NaN          NaN         NaN    NaN   \n",
       "VS-SEG-221    NaN         NaN         NaN          NaN         NaN    NaN   \n",
       "\n",
       "Year                 1991         1992         1993 1993_1  ...  \\\n",
       "Patient_ID                                                  ...   \n",
       "VS-MC-RC-001          NaN          NaN          NaN    NaN  ...   \n",
       "VS-MC-RC-002          NaN          NaN          NaN    NaN  ...   \n",
       "VS-MC-RC-004          NaN          NaN          NaN    NaN  ...   \n",
       "VS-MC-RC-005  3667.495958          NaN          NaN    NaN  ...   \n",
       "VS-MC-RC-006  1255.555234  1312.419457  1460.938979    NaN  ...   \n",
       "...                   ...          ...          ...    ...  ...   \n",
       "VS-SEG-195            NaN          NaN          NaN    NaN  ...   \n",
       "VS-SEG-197            NaN          NaN          NaN    NaN  ...   \n",
       "VS-SEG-199            NaN          NaN          NaN    NaN  ...   \n",
       "VS-SEG-218    6935.691292  7268.568959          NaN    NaN  ...   \n",
       "VS-SEG-221            NaN          NaN          NaN    NaN  ...   \n",
       "\n",
       "Year         original_glszm_SmallAreaHighGrayLevelEmphasis  \\\n",
       "Patient_ID                                                   \n",
       "VS-MC-RC-001                                     10.695441   \n",
       "VS-MC-RC-002                                    480.178708   \n",
       "VS-MC-RC-004                                     32.093094   \n",
       "VS-MC-RC-005                                   1403.268164   \n",
       "VS-MC-RC-006                                     35.924964   \n",
       "...                                                    ...   \n",
       "VS-SEG-195                                     2591.392859   \n",
       "VS-SEG-197                                      112.478485   \n",
       "VS-SEG-199                                       17.464088   \n",
       "VS-SEG-218                                        8.792796   \n",
       "VS-SEG-221                                        1.786097   \n",
       "\n",
       "Year         original_glszm_SmallAreaLowGrayLevelEmphasis  \\\n",
       "Patient_ID                                                  \n",
       "VS-MC-RC-001                                     0.076159   \n",
       "VS-MC-RC-002                                     0.004672   \n",
       "VS-MC-RC-004                                     0.029082   \n",
       "VS-MC-RC-005                                     0.000975   \n",
       "VS-MC-RC-006                                     0.077624   \n",
       "...                                                   ...   \n",
       "VS-SEG-195                                       0.001952   \n",
       "VS-SEG-197                                       0.010389   \n",
       "VS-SEG-199                                       0.078385   \n",
       "VS-SEG-218                                       0.116266   \n",
       "VS-SEG-221                                       0.091113   \n",
       "\n",
       "Year         original_glszm_ZoneEntropy original_glszm_ZonePercentage  \\\n",
       "Patient_ID                                                              \n",
       "VS-MC-RC-001                   4.020056                      0.045500   \n",
       "VS-MC-RC-002                   6.442091                      0.612416   \n",
       "VS-MC-RC-004                   7.190271                      0.010443   \n",
       "VS-MC-RC-005                   7.284012                      0.535631   \n",
       "VS-MC-RC-006                   5.696608                      0.077204   \n",
       "...                                 ...                           ...   \n",
       "VS-SEG-195                     6.126663                      0.862069   \n",
       "VS-SEG-197                     6.023579                      0.258682   \n",
       "VS-SEG-199                     5.835668                      0.034917   \n",
       "VS-SEG-218                     5.595278                      0.010308   \n",
       "VS-SEG-221                     3.044913                      0.003207   \n",
       "\n",
       "Year         original_glszm_ZoneVariance original_ngtdm_Busyness  \\\n",
       "Patient_ID                                                         \n",
       "VS-MC-RC-001                8.521760e+03               14.322749   \n",
       "VS-MC-RC-002                1.898097e+00                0.149696   \n",
       "VS-MC-RC-004                3.126897e+06               61.614317   \n",
       "VS-MC-RC-005                4.696216e+00                0.178940   \n",
       "VS-MC-RC-006                1.368253e+04                7.544970   \n",
       "...                                  ...                     ...   \n",
       "VS-SEG-195                  2.944000e-01                0.013151   \n",
       "VS-SEG-197                  3.014484e+02                0.474109   \n",
       "VS-SEG-199                  2.251998e+05               88.305997   \n",
       "VS-SEG-218                  1.779108e+06              223.780822   \n",
       "VS-SEG-221                  1.984924e+06               14.180609   \n",
       "\n",
       "Year         original_ngtdm_Coarseness original_ngtdm_Complexity  \\\n",
       "Patient_ID                                                         \n",
       "VS-MC-RC-001                  0.005272                 16.255589   \n",
       "VS-MC-RC-002                  0.005885               6488.583068   \n",
       "VS-MC-RC-004                  0.000073                 62.767139   \n",
       "VS-MC-RC-005                  0.000656              57029.297654   \n",
       "VS-MC-RC-006                  0.000963                164.020212   \n",
       "...                                ...                       ...   \n",
       "VS-SEG-195                    0.023994              27866.168951   \n",
       "VS-SEG-197                    0.004280                536.160015   \n",
       "VS-SEG-199                    0.000146                179.378541   \n",
       "VS-SEG-218                    0.000149                 25.357783   \n",
       "VS-SEG-221                    0.017875                  0.067586   \n",
       "\n",
       "Year         original_ngtdm_Contrast original_ngtdm_Strength  \n",
       "Patient_ID                                                    \n",
       "VS-MC-RC-001                0.019169                0.263056  \n",
       "VS-MC-RC-002                0.304126                7.944378  \n",
       "VS-MC-RC-004                0.027590                0.011189  \n",
       "VS-MC-RC-005                0.081517               12.098159  \n",
       "VS-MC-RC-006                0.028489                0.178225  \n",
       "...                              ...                     ...  \n",
       "VS-SEG-195                  2.382383               50.594926  \n",
       "VS-SEG-197                  0.123540                0.938516  \n",
       "VS-SEG-199                  0.017395                0.053233  \n",
       "VS-SEG-218                  0.011757                0.014437  \n",
       "VS-SEG-221                  0.000080                0.081291  \n",
       "\n",
       "[124 rows x 131 columns]"
      ]
     },
     "execution_count": 97,
     "metadata": {},
     "output_type": "execute_result"
    }
   ],
   "source": [
    "volume_table"
   ]
  },
  {
   "cell_type": "code",
   "execution_count": 1,
   "id": "72154025",
   "metadata": {},
   "outputs": [],
   "source": [
    "# dest_path = r'C:\\Users\\Acer\\Desktop\\3dVS\\RFcsv\\volume_data3.csv'\n",
    "# volume_table.to_csv(dest_path)"
   ]
  },
  {
   "cell_type": "code",
   "execution_count": 99,
   "id": "536c347c",
   "metadata": {},
   "outputs": [],
   "source": [
    "cols_to_drop = [col for col in volume_table.columns if str(col).strip().startswith(tuple(\"0123456789\"))]\n",
    "# cols_to_drop"
   ]
  },
  {
   "cell_type": "code",
   "execution_count": 100,
   "id": "e59453b2",
   "metadata": {},
   "outputs": [],
   "source": [
    "volume_table = volume_table.drop(columns=cols_to_drop)"
   ]
  },
  {
   "cell_type": "code",
   "execution_count": 101,
   "id": "c6f8d293",
   "metadata": {},
   "outputs": [
    {
     "data": {
      "text/html": [
       "<div>\n",
       "<style scoped>\n",
       "    .dataframe tbody tr th:only-of-type {\n",
       "        vertical-align: middle;\n",
       "    }\n",
       "\n",
       "    .dataframe tbody tr th {\n",
       "        vertical-align: top;\n",
       "    }\n",
       "\n",
       "    .dataframe thead th {\n",
       "        text-align: right;\n",
       "    }\n",
       "</style>\n",
       "<table border=\"1\" class=\"dataframe\">\n",
       "  <thead>\n",
       "    <tr style=\"text-align: right;\">\n",
       "      <th>Year</th>\n",
       "      <th>volume_diff</th>\n",
       "      <th>change</th>\n",
       "      <th>original_shape_Elongation</th>\n",
       "      <th>original_shape_Flatness</th>\n",
       "      <th>original_shape_LeastAxisLength</th>\n",
       "      <th>original_shape_MajorAxisLength</th>\n",
       "      <th>original_shape_Maximum2DDiameterColumn</th>\n",
       "      <th>original_shape_Maximum2DDiameterRow</th>\n",
       "      <th>original_shape_Maximum2DDiameterSlice</th>\n",
       "      <th>original_shape_Maximum3DDiameter</th>\n",
       "      <th>...</th>\n",
       "      <th>original_glszm_SmallAreaHighGrayLevelEmphasis</th>\n",
       "      <th>original_glszm_SmallAreaLowGrayLevelEmphasis</th>\n",
       "      <th>original_glszm_ZoneEntropy</th>\n",
       "      <th>original_glszm_ZonePercentage</th>\n",
       "      <th>original_glszm_ZoneVariance</th>\n",
       "      <th>original_ngtdm_Busyness</th>\n",
       "      <th>original_ngtdm_Coarseness</th>\n",
       "      <th>original_ngtdm_Complexity</th>\n",
       "      <th>original_ngtdm_Contrast</th>\n",
       "      <th>original_ngtdm_Strength</th>\n",
       "    </tr>\n",
       "    <tr>\n",
       "      <th>Patient_ID</th>\n",
       "      <th></th>\n",
       "      <th></th>\n",
       "      <th></th>\n",
       "      <th></th>\n",
       "      <th></th>\n",
       "      <th></th>\n",
       "      <th></th>\n",
       "      <th></th>\n",
       "      <th></th>\n",
       "      <th></th>\n",
       "      <th></th>\n",
       "      <th></th>\n",
       "      <th></th>\n",
       "      <th></th>\n",
       "      <th></th>\n",
       "      <th></th>\n",
       "      <th></th>\n",
       "      <th></th>\n",
       "      <th></th>\n",
       "      <th></th>\n",
       "      <th></th>\n",
       "    </tr>\n",
       "  </thead>\n",
       "  <tbody>\n",
       "    <tr>\n",
       "      <th>VS-MC-RC-001</th>\n",
       "      <td>-51.0</td>\n",
       "      <td>not increased</td>\n",
       "      <td>0.574892</td>\n",
       "      <td>0.420573</td>\n",
       "      <td>4.667643</td>\n",
       "      <td>11.098302</td>\n",
       "      <td>7.692140</td>\n",
       "      <td>10.667506</td>\n",
       "      <td>9.907894</td>\n",
       "      <td>11.824483</td>\n",
       "      <td>...</td>\n",
       "      <td>10.695441</td>\n",
       "      <td>0.076159</td>\n",
       "      <td>4.020056</td>\n",
       "      <td>0.045500</td>\n",
       "      <td>8.521760e+03</td>\n",
       "      <td>14.322749</td>\n",
       "      <td>0.005272</td>\n",
       "      <td>16.255589</td>\n",
       "      <td>0.019169</td>\n",
       "      <td>0.263056</td>\n",
       "    </tr>\n",
       "    <tr>\n",
       "      <th>VS-MC-RC-002</th>\n",
       "      <td>1069.0</td>\n",
       "      <td>increased</td>\n",
       "      <td>0.574886</td>\n",
       "      <td>0.383779</td>\n",
       "      <td>4.624665</td>\n",
       "      <td>12.050322</td>\n",
       "      <td>14.526802</td>\n",
       "      <td>8.669793</td>\n",
       "      <td>12.282286</td>\n",
       "      <td>14.842891</td>\n",
       "      <td>...</td>\n",
       "      <td>480.178708</td>\n",
       "      <td>0.004672</td>\n",
       "      <td>6.442091</td>\n",
       "      <td>0.612416</td>\n",
       "      <td>1.898097e+00</td>\n",
       "      <td>0.149696</td>\n",
       "      <td>0.005885</td>\n",
       "      <td>6488.583068</td>\n",
       "      <td>0.304126</td>\n",
       "      <td>7.944378</td>\n",
       "    </tr>\n",
       "    <tr>\n",
       "      <th>VS-MC-RC-004</th>\n",
       "      <td>-13391.0</td>\n",
       "      <td>not increased</td>\n",
       "      <td>0.767449</td>\n",
       "      <td>0.750977</td>\n",
       "      <td>24.363244</td>\n",
       "      <td>32.442076</td>\n",
       "      <td>37.514031</td>\n",
       "      <td>33.636311</td>\n",
       "      <td>35.544042</td>\n",
       "      <td>38.487053</td>\n",
       "      <td>...</td>\n",
       "      <td>32.093094</td>\n",
       "      <td>0.029082</td>\n",
       "      <td>7.190271</td>\n",
       "      <td>0.010443</td>\n",
       "      <td>3.126897e+06</td>\n",
       "      <td>61.614317</td>\n",
       "      <td>0.000073</td>\n",
       "      <td>62.767139</td>\n",
       "      <td>0.027590</td>\n",
       "      <td>0.011189</td>\n",
       "    </tr>\n",
       "    <tr>\n",
       "      <th>VS-MC-RC-005</th>\n",
       "      <td>2256.0</td>\n",
       "      <td>increased</td>\n",
       "      <td>0.785051</td>\n",
       "      <td>0.676358</td>\n",
       "      <td>10.682136</td>\n",
       "      <td>15.793601</td>\n",
       "      <td>19.495446</td>\n",
       "      <td>15.119270</td>\n",
       "      <td>20.937774</td>\n",
       "      <td>21.244994</td>\n",
       "      <td>...</td>\n",
       "      <td>1403.268164</td>\n",
       "      <td>0.000975</td>\n",
       "      <td>7.284012</td>\n",
       "      <td>0.535631</td>\n",
       "      <td>4.696216e+00</td>\n",
       "      <td>0.178940</td>\n",
       "      <td>0.000656</td>\n",
       "      <td>57029.297654</td>\n",
       "      <td>0.081517</td>\n",
       "      <td>12.098159</td>\n",
       "    </tr>\n",
       "    <tr>\n",
       "      <th>VS-MC-RC-006</th>\n",
       "      <td>205.0</td>\n",
       "      <td>increased</td>\n",
       "      <td>0.560217</td>\n",
       "      <td>0.390187</td>\n",
       "      <td>8.214488</td>\n",
       "      <td>21.052694</td>\n",
       "      <td>23.263138</td>\n",
       "      <td>14.840822</td>\n",
       "      <td>24.317952</td>\n",
       "      <td>24.568533</td>\n",
       "      <td>...</td>\n",
       "      <td>35.924964</td>\n",
       "      <td>0.077624</td>\n",
       "      <td>5.696608</td>\n",
       "      <td>0.077204</td>\n",
       "      <td>1.368253e+04</td>\n",
       "      <td>7.544970</td>\n",
       "      <td>0.000963</td>\n",
       "      <td>164.020212</td>\n",
       "      <td>0.028489</td>\n",
       "      <td>0.178225</td>\n",
       "    </tr>\n",
       "    <tr>\n",
       "      <th>...</th>\n",
       "      <td>...</td>\n",
       "      <td>...</td>\n",
       "      <td>...</td>\n",
       "      <td>...</td>\n",
       "      <td>...</td>\n",
       "      <td>...</td>\n",
       "      <td>...</td>\n",
       "      <td>...</td>\n",
       "      <td>...</td>\n",
       "      <td>...</td>\n",
       "      <td>...</td>\n",
       "      <td>...</td>\n",
       "      <td>...</td>\n",
       "      <td>...</td>\n",
       "      <td>...</td>\n",
       "      <td>...</td>\n",
       "      <td>...</td>\n",
       "      <td>...</td>\n",
       "      <td>...</td>\n",
       "      <td>...</td>\n",
       "      <td>...</td>\n",
       "    </tr>\n",
       "    <tr>\n",
       "      <th>VS-SEG-195</th>\n",
       "      <td>NaN</td>\n",
       "      <td>not increased</td>\n",
       "      <td>0.473118</td>\n",
       "      <td>0.406433</td>\n",
       "      <td>4.480535</td>\n",
       "      <td>11.024049</td>\n",
       "      <td>11.574484</td>\n",
       "      <td>6.088697</td>\n",
       "      <td>10.146551</td>\n",
       "      <td>11.833204</td>\n",
       "      <td>...</td>\n",
       "      <td>2591.392859</td>\n",
       "      <td>0.001952</td>\n",
       "      <td>6.126663</td>\n",
       "      <td>0.862069</td>\n",
       "      <td>2.944000e-01</td>\n",
       "      <td>0.013151</td>\n",
       "      <td>0.023994</td>\n",
       "      <td>27866.168951</td>\n",
       "      <td>2.382383</td>\n",
       "      <td>50.594926</td>\n",
       "    </tr>\n",
       "    <tr>\n",
       "      <th>VS-SEG-197</th>\n",
       "      <td>1251.0</td>\n",
       "      <td>increased</td>\n",
       "      <td>0.763451</td>\n",
       "      <td>0.612028</td>\n",
       "      <td>9.262721</td>\n",
       "      <td>15.134468</td>\n",
       "      <td>17.845172</td>\n",
       "      <td>13.550974</td>\n",
       "      <td>17.346565</td>\n",
       "      <td>19.078826</td>\n",
       "      <td>...</td>\n",
       "      <td>112.478485</td>\n",
       "      <td>0.010389</td>\n",
       "      <td>6.023579</td>\n",
       "      <td>0.258682</td>\n",
       "      <td>3.014484e+02</td>\n",
       "      <td>0.474109</td>\n",
       "      <td>0.004280</td>\n",
       "      <td>536.160015</td>\n",
       "      <td>0.123540</td>\n",
       "      <td>0.938516</td>\n",
       "    </tr>\n",
       "    <tr>\n",
       "      <th>VS-SEG-199</th>\n",
       "      <td>1102.0</td>\n",
       "      <td>increased</td>\n",
       "      <td>0.880602</td>\n",
       "      <td>0.623155</td>\n",
       "      <td>12.667649</td>\n",
       "      <td>20.328248</td>\n",
       "      <td>25.398081</td>\n",
       "      <td>20.264196</td>\n",
       "      <td>27.537262</td>\n",
       "      <td>30.923181</td>\n",
       "      <td>...</td>\n",
       "      <td>17.464088</td>\n",
       "      <td>0.078385</td>\n",
       "      <td>5.835668</td>\n",
       "      <td>0.034917</td>\n",
       "      <td>2.251998e+05</td>\n",
       "      <td>88.305997</td>\n",
       "      <td>0.000146</td>\n",
       "      <td>179.378541</td>\n",
       "      <td>0.017395</td>\n",
       "      <td>0.053233</td>\n",
       "    </tr>\n",
       "    <tr>\n",
       "      <th>VS-SEG-218</th>\n",
       "      <td>1870.0</td>\n",
       "      <td>increased</td>\n",
       "      <td>0.942108</td>\n",
       "      <td>0.737152</td>\n",
       "      <td>17.979514</td>\n",
       "      <td>24.390526</td>\n",
       "      <td>27.617950</td>\n",
       "      <td>27.083334</td>\n",
       "      <td>30.665712</td>\n",
       "      <td>31.787093</td>\n",
       "      <td>...</td>\n",
       "      <td>8.792796</td>\n",
       "      <td>0.116266</td>\n",
       "      <td>5.595278</td>\n",
       "      <td>0.010308</td>\n",
       "      <td>1.779108e+06</td>\n",
       "      <td>223.780822</td>\n",
       "      <td>0.000149</td>\n",
       "      <td>25.357783</td>\n",
       "      <td>0.011757</td>\n",
       "      <td>0.014437</td>\n",
       "    </tr>\n",
       "    <tr>\n",
       "      <th>VS-SEG-221</th>\n",
       "      <td>602.0</td>\n",
       "      <td>increased</td>\n",
       "      <td>0.501302</td>\n",
       "      <td>0.390490</td>\n",
       "      <td>4.273146</td>\n",
       "      <td>10.943041</td>\n",
       "      <td>12.085704</td>\n",
       "      <td>7.672553</td>\n",
       "      <td>11.757459</td>\n",
       "      <td>12.477062</td>\n",
       "      <td>...</td>\n",
       "      <td>1.786097</td>\n",
       "      <td>0.091113</td>\n",
       "      <td>3.044913</td>\n",
       "      <td>0.003207</td>\n",
       "      <td>1.984924e+06</td>\n",
       "      <td>14.180609</td>\n",
       "      <td>0.017875</td>\n",
       "      <td>0.067586</td>\n",
       "      <td>0.000080</td>\n",
       "      <td>0.081291</td>\n",
       "    </tr>\n",
       "  </tbody>\n",
       "</table>\n",
       "<p>124 rows × 109 columns</p>\n",
       "</div>"
      ],
      "text/plain": [
       "Year          volume_diff         change  original_shape_Elongation  \\\n",
       "Patient_ID                                                            \n",
       "VS-MC-RC-001        -51.0  not increased                   0.574892   \n",
       "VS-MC-RC-002       1069.0      increased                   0.574886   \n",
       "VS-MC-RC-004     -13391.0  not increased                   0.767449   \n",
       "VS-MC-RC-005       2256.0      increased                   0.785051   \n",
       "VS-MC-RC-006        205.0      increased                   0.560217   \n",
       "...                   ...            ...                        ...   \n",
       "VS-SEG-195            NaN  not increased                   0.473118   \n",
       "VS-SEG-197         1251.0      increased                   0.763451   \n",
       "VS-SEG-199         1102.0      increased                   0.880602   \n",
       "VS-SEG-218         1870.0      increased                   0.942108   \n",
       "VS-SEG-221          602.0      increased                   0.501302   \n",
       "\n",
       "Year          original_shape_Flatness  original_shape_LeastAxisLength  \\\n",
       "Patient_ID                                                              \n",
       "VS-MC-RC-001                 0.420573                        4.667643   \n",
       "VS-MC-RC-002                 0.383779                        4.624665   \n",
       "VS-MC-RC-004                 0.750977                       24.363244   \n",
       "VS-MC-RC-005                 0.676358                       10.682136   \n",
       "VS-MC-RC-006                 0.390187                        8.214488   \n",
       "...                               ...                             ...   \n",
       "VS-SEG-195                   0.406433                        4.480535   \n",
       "VS-SEG-197                   0.612028                        9.262721   \n",
       "VS-SEG-199                   0.623155                       12.667649   \n",
       "VS-SEG-218                   0.737152                       17.979514   \n",
       "VS-SEG-221                   0.390490                        4.273146   \n",
       "\n",
       "Year          original_shape_MajorAxisLength  \\\n",
       "Patient_ID                                     \n",
       "VS-MC-RC-001                       11.098302   \n",
       "VS-MC-RC-002                       12.050322   \n",
       "VS-MC-RC-004                       32.442076   \n",
       "VS-MC-RC-005                       15.793601   \n",
       "VS-MC-RC-006                       21.052694   \n",
       "...                                      ...   \n",
       "VS-SEG-195                         11.024049   \n",
       "VS-SEG-197                         15.134468   \n",
       "VS-SEG-199                         20.328248   \n",
       "VS-SEG-218                         24.390526   \n",
       "VS-SEG-221                         10.943041   \n",
       "\n",
       "Year          original_shape_Maximum2DDiameterColumn  \\\n",
       "Patient_ID                                             \n",
       "VS-MC-RC-001                                7.692140   \n",
       "VS-MC-RC-002                               14.526802   \n",
       "VS-MC-RC-004                               37.514031   \n",
       "VS-MC-RC-005                               19.495446   \n",
       "VS-MC-RC-006                               23.263138   \n",
       "...                                              ...   \n",
       "VS-SEG-195                                 11.574484   \n",
       "VS-SEG-197                                 17.845172   \n",
       "VS-SEG-199                                 25.398081   \n",
       "VS-SEG-218                                 27.617950   \n",
       "VS-SEG-221                                 12.085704   \n",
       "\n",
       "Year          original_shape_Maximum2DDiameterRow  \\\n",
       "Patient_ID                                          \n",
       "VS-MC-RC-001                            10.667506   \n",
       "VS-MC-RC-002                             8.669793   \n",
       "VS-MC-RC-004                            33.636311   \n",
       "VS-MC-RC-005                            15.119270   \n",
       "VS-MC-RC-006                            14.840822   \n",
       "...                                           ...   \n",
       "VS-SEG-195                               6.088697   \n",
       "VS-SEG-197                              13.550974   \n",
       "VS-SEG-199                              20.264196   \n",
       "VS-SEG-218                              27.083334   \n",
       "VS-SEG-221                               7.672553   \n",
       "\n",
       "Year          original_shape_Maximum2DDiameterSlice  \\\n",
       "Patient_ID                                            \n",
       "VS-MC-RC-001                               9.907894   \n",
       "VS-MC-RC-002                              12.282286   \n",
       "VS-MC-RC-004                              35.544042   \n",
       "VS-MC-RC-005                              20.937774   \n",
       "VS-MC-RC-006                              24.317952   \n",
       "...                                             ...   \n",
       "VS-SEG-195                                10.146551   \n",
       "VS-SEG-197                                17.346565   \n",
       "VS-SEG-199                                27.537262   \n",
       "VS-SEG-218                                30.665712   \n",
       "VS-SEG-221                                11.757459   \n",
       "\n",
       "Year          original_shape_Maximum3DDiameter  ...  \\\n",
       "Patient_ID                                      ...   \n",
       "VS-MC-RC-001                         11.824483  ...   \n",
       "VS-MC-RC-002                         14.842891  ...   \n",
       "VS-MC-RC-004                         38.487053  ...   \n",
       "VS-MC-RC-005                         21.244994  ...   \n",
       "VS-MC-RC-006                         24.568533  ...   \n",
       "...                                        ...  ...   \n",
       "VS-SEG-195                           11.833204  ...   \n",
       "VS-SEG-197                           19.078826  ...   \n",
       "VS-SEG-199                           30.923181  ...   \n",
       "VS-SEG-218                           31.787093  ...   \n",
       "VS-SEG-221                           12.477062  ...   \n",
       "\n",
       "Year          original_glszm_SmallAreaHighGrayLevelEmphasis  \\\n",
       "Patient_ID                                                    \n",
       "VS-MC-RC-001                                      10.695441   \n",
       "VS-MC-RC-002                                     480.178708   \n",
       "VS-MC-RC-004                                      32.093094   \n",
       "VS-MC-RC-005                                    1403.268164   \n",
       "VS-MC-RC-006                                      35.924964   \n",
       "...                                                     ...   \n",
       "VS-SEG-195                                      2591.392859   \n",
       "VS-SEG-197                                       112.478485   \n",
       "VS-SEG-199                                        17.464088   \n",
       "VS-SEG-218                                         8.792796   \n",
       "VS-SEG-221                                         1.786097   \n",
       "\n",
       "Year          original_glszm_SmallAreaLowGrayLevelEmphasis  \\\n",
       "Patient_ID                                                   \n",
       "VS-MC-RC-001                                      0.076159   \n",
       "VS-MC-RC-002                                      0.004672   \n",
       "VS-MC-RC-004                                      0.029082   \n",
       "VS-MC-RC-005                                      0.000975   \n",
       "VS-MC-RC-006                                      0.077624   \n",
       "...                                                    ...   \n",
       "VS-SEG-195                                        0.001952   \n",
       "VS-SEG-197                                        0.010389   \n",
       "VS-SEG-199                                        0.078385   \n",
       "VS-SEG-218                                        0.116266   \n",
       "VS-SEG-221                                        0.091113   \n",
       "\n",
       "Year          original_glszm_ZoneEntropy  original_glszm_ZonePercentage  \\\n",
       "Patient_ID                                                                \n",
       "VS-MC-RC-001                    4.020056                       0.045500   \n",
       "VS-MC-RC-002                    6.442091                       0.612416   \n",
       "VS-MC-RC-004                    7.190271                       0.010443   \n",
       "VS-MC-RC-005                    7.284012                       0.535631   \n",
       "VS-MC-RC-006                    5.696608                       0.077204   \n",
       "...                                  ...                            ...   \n",
       "VS-SEG-195                      6.126663                       0.862069   \n",
       "VS-SEG-197                      6.023579                       0.258682   \n",
       "VS-SEG-199                      5.835668                       0.034917   \n",
       "VS-SEG-218                      5.595278                       0.010308   \n",
       "VS-SEG-221                      3.044913                       0.003207   \n",
       "\n",
       "Year          original_glszm_ZoneVariance  original_ngtdm_Busyness  \\\n",
       "Patient_ID                                                           \n",
       "VS-MC-RC-001                 8.521760e+03                14.322749   \n",
       "VS-MC-RC-002                 1.898097e+00                 0.149696   \n",
       "VS-MC-RC-004                 3.126897e+06                61.614317   \n",
       "VS-MC-RC-005                 4.696216e+00                 0.178940   \n",
       "VS-MC-RC-006                 1.368253e+04                 7.544970   \n",
       "...                                   ...                      ...   \n",
       "VS-SEG-195                   2.944000e-01                 0.013151   \n",
       "VS-SEG-197                   3.014484e+02                 0.474109   \n",
       "VS-SEG-199                   2.251998e+05                88.305997   \n",
       "VS-SEG-218                   1.779108e+06               223.780822   \n",
       "VS-SEG-221                   1.984924e+06                14.180609   \n",
       "\n",
       "Year          original_ngtdm_Coarseness  original_ngtdm_Complexity  \\\n",
       "Patient_ID                                                           \n",
       "VS-MC-RC-001                   0.005272                  16.255589   \n",
       "VS-MC-RC-002                   0.005885                6488.583068   \n",
       "VS-MC-RC-004                   0.000073                  62.767139   \n",
       "VS-MC-RC-005                   0.000656               57029.297654   \n",
       "VS-MC-RC-006                   0.000963                 164.020212   \n",
       "...                                 ...                        ...   \n",
       "VS-SEG-195                     0.023994               27866.168951   \n",
       "VS-SEG-197                     0.004280                 536.160015   \n",
       "VS-SEG-199                     0.000146                 179.378541   \n",
       "VS-SEG-218                     0.000149                  25.357783   \n",
       "VS-SEG-221                     0.017875                   0.067586   \n",
       "\n",
       "Year          original_ngtdm_Contrast  original_ngtdm_Strength  \n",
       "Patient_ID                                                      \n",
       "VS-MC-RC-001                 0.019169                 0.263056  \n",
       "VS-MC-RC-002                 0.304126                 7.944378  \n",
       "VS-MC-RC-004                 0.027590                 0.011189  \n",
       "VS-MC-RC-005                 0.081517                12.098159  \n",
       "VS-MC-RC-006                 0.028489                 0.178225  \n",
       "...                               ...                      ...  \n",
       "VS-SEG-195                   2.382383                50.594926  \n",
       "VS-SEG-197                   0.123540                 0.938516  \n",
       "VS-SEG-199                   0.017395                 0.053233  \n",
       "VS-SEG-218                   0.011757                 0.014437  \n",
       "VS-SEG-221                   0.000080                 0.081291  \n",
       "\n",
       "[124 rows x 109 columns]"
      ]
     },
     "execution_count": 101,
     "metadata": {},
     "output_type": "execute_result"
    }
   ],
   "source": [
    "volume_table"
   ]
  },
  {
   "cell_type": "code",
   "execution_count": null,
   "id": "d74547d5",
   "metadata": {},
   "outputs": [],
   "source": [
    "# dest_path = r'C:\\Users\\Acer\\Desktop\\3dVS\\RFcsv\\volume_data4.csv'\n",
    "# volume_table.to_csv(dest_path)"
   ]
  },
  {
   "cell_type": "code",
   "execution_count": 103,
   "id": "c3250b54",
   "metadata": {},
   "outputs": [
    {
     "data": {
      "text/plain": [
       "array(['increased', 'not increased'], dtype=object)"
      ]
     },
     "execution_count": 103,
     "metadata": {},
     "output_type": "execute_result"
    }
   ],
   "source": [
    "import numpy as np\n",
    "np.unique(volume_table['change'])"
   ]
  },
  {
   "cell_type": "code",
   "execution_count": 104,
   "id": "7e1af64c",
   "metadata": {},
   "outputs": [],
   "source": [
    "volume_table['change'] = volume_table['change'].map({\n",
    "    'increased': 1,\n",
    "    'not increased': 0\n",
    "})"
   ]
  },
  {
   "cell_type": "code",
   "execution_count": 105,
   "id": "8f98b1b9",
   "metadata": {},
   "outputs": [
    {
     "data": {
      "text/html": [
       "<div>\n",
       "<style scoped>\n",
       "    .dataframe tbody tr th:only-of-type {\n",
       "        vertical-align: middle;\n",
       "    }\n",
       "\n",
       "    .dataframe tbody tr th {\n",
       "        vertical-align: top;\n",
       "    }\n",
       "\n",
       "    .dataframe thead th {\n",
       "        text-align: right;\n",
       "    }\n",
       "</style>\n",
       "<table border=\"1\" class=\"dataframe\">\n",
       "  <thead>\n",
       "    <tr style=\"text-align: right;\">\n",
       "      <th>Year</th>\n",
       "      <th>volume_diff</th>\n",
       "      <th>change</th>\n",
       "      <th>original_shape_Elongation</th>\n",
       "      <th>original_shape_Flatness</th>\n",
       "      <th>original_shape_LeastAxisLength</th>\n",
       "      <th>original_shape_MajorAxisLength</th>\n",
       "      <th>original_shape_Maximum2DDiameterColumn</th>\n",
       "      <th>original_shape_Maximum2DDiameterRow</th>\n",
       "      <th>original_shape_Maximum2DDiameterSlice</th>\n",
       "      <th>original_shape_Maximum3DDiameter</th>\n",
       "      <th>...</th>\n",
       "      <th>original_glszm_SmallAreaHighGrayLevelEmphasis</th>\n",
       "      <th>original_glszm_SmallAreaLowGrayLevelEmphasis</th>\n",
       "      <th>original_glszm_ZoneEntropy</th>\n",
       "      <th>original_glszm_ZonePercentage</th>\n",
       "      <th>original_glszm_ZoneVariance</th>\n",
       "      <th>original_ngtdm_Busyness</th>\n",
       "      <th>original_ngtdm_Coarseness</th>\n",
       "      <th>original_ngtdm_Complexity</th>\n",
       "      <th>original_ngtdm_Contrast</th>\n",
       "      <th>original_ngtdm_Strength</th>\n",
       "    </tr>\n",
       "    <tr>\n",
       "      <th>Patient_ID</th>\n",
       "      <th></th>\n",
       "      <th></th>\n",
       "      <th></th>\n",
       "      <th></th>\n",
       "      <th></th>\n",
       "      <th></th>\n",
       "      <th></th>\n",
       "      <th></th>\n",
       "      <th></th>\n",
       "      <th></th>\n",
       "      <th></th>\n",
       "      <th></th>\n",
       "      <th></th>\n",
       "      <th></th>\n",
       "      <th></th>\n",
       "      <th></th>\n",
       "      <th></th>\n",
       "      <th></th>\n",
       "      <th></th>\n",
       "      <th></th>\n",
       "      <th></th>\n",
       "    </tr>\n",
       "  </thead>\n",
       "  <tbody>\n",
       "    <tr>\n",
       "      <th>VS-MC-RC-001</th>\n",
       "      <td>-51.0</td>\n",
       "      <td>0</td>\n",
       "      <td>0.574892</td>\n",
       "      <td>0.420573</td>\n",
       "      <td>4.667643</td>\n",
       "      <td>11.098302</td>\n",
       "      <td>7.692140</td>\n",
       "      <td>10.667506</td>\n",
       "      <td>9.907894</td>\n",
       "      <td>11.824483</td>\n",
       "      <td>...</td>\n",
       "      <td>10.695441</td>\n",
       "      <td>0.076159</td>\n",
       "      <td>4.020056</td>\n",
       "      <td>0.045500</td>\n",
       "      <td>8.521760e+03</td>\n",
       "      <td>14.322749</td>\n",
       "      <td>0.005272</td>\n",
       "      <td>16.255589</td>\n",
       "      <td>0.019169</td>\n",
       "      <td>0.263056</td>\n",
       "    </tr>\n",
       "    <tr>\n",
       "      <th>VS-MC-RC-002</th>\n",
       "      <td>1069.0</td>\n",
       "      <td>1</td>\n",
       "      <td>0.574886</td>\n",
       "      <td>0.383779</td>\n",
       "      <td>4.624665</td>\n",
       "      <td>12.050322</td>\n",
       "      <td>14.526802</td>\n",
       "      <td>8.669793</td>\n",
       "      <td>12.282286</td>\n",
       "      <td>14.842891</td>\n",
       "      <td>...</td>\n",
       "      <td>480.178708</td>\n",
       "      <td>0.004672</td>\n",
       "      <td>6.442091</td>\n",
       "      <td>0.612416</td>\n",
       "      <td>1.898097e+00</td>\n",
       "      <td>0.149696</td>\n",
       "      <td>0.005885</td>\n",
       "      <td>6488.583068</td>\n",
       "      <td>0.304126</td>\n",
       "      <td>7.944378</td>\n",
       "    </tr>\n",
       "    <tr>\n",
       "      <th>VS-MC-RC-004</th>\n",
       "      <td>-13391.0</td>\n",
       "      <td>0</td>\n",
       "      <td>0.767449</td>\n",
       "      <td>0.750977</td>\n",
       "      <td>24.363244</td>\n",
       "      <td>32.442076</td>\n",
       "      <td>37.514031</td>\n",
       "      <td>33.636311</td>\n",
       "      <td>35.544042</td>\n",
       "      <td>38.487053</td>\n",
       "      <td>...</td>\n",
       "      <td>32.093094</td>\n",
       "      <td>0.029082</td>\n",
       "      <td>7.190271</td>\n",
       "      <td>0.010443</td>\n",
       "      <td>3.126897e+06</td>\n",
       "      <td>61.614317</td>\n",
       "      <td>0.000073</td>\n",
       "      <td>62.767139</td>\n",
       "      <td>0.027590</td>\n",
       "      <td>0.011189</td>\n",
       "    </tr>\n",
       "    <tr>\n",
       "      <th>VS-MC-RC-005</th>\n",
       "      <td>2256.0</td>\n",
       "      <td>1</td>\n",
       "      <td>0.785051</td>\n",
       "      <td>0.676358</td>\n",
       "      <td>10.682136</td>\n",
       "      <td>15.793601</td>\n",
       "      <td>19.495446</td>\n",
       "      <td>15.119270</td>\n",
       "      <td>20.937774</td>\n",
       "      <td>21.244994</td>\n",
       "      <td>...</td>\n",
       "      <td>1403.268164</td>\n",
       "      <td>0.000975</td>\n",
       "      <td>7.284012</td>\n",
       "      <td>0.535631</td>\n",
       "      <td>4.696216e+00</td>\n",
       "      <td>0.178940</td>\n",
       "      <td>0.000656</td>\n",
       "      <td>57029.297654</td>\n",
       "      <td>0.081517</td>\n",
       "      <td>12.098159</td>\n",
       "    </tr>\n",
       "    <tr>\n",
       "      <th>VS-MC-RC-006</th>\n",
       "      <td>205.0</td>\n",
       "      <td>1</td>\n",
       "      <td>0.560217</td>\n",
       "      <td>0.390187</td>\n",
       "      <td>8.214488</td>\n",
       "      <td>21.052694</td>\n",
       "      <td>23.263138</td>\n",
       "      <td>14.840822</td>\n",
       "      <td>24.317952</td>\n",
       "      <td>24.568533</td>\n",
       "      <td>...</td>\n",
       "      <td>35.924964</td>\n",
       "      <td>0.077624</td>\n",
       "      <td>5.696608</td>\n",
       "      <td>0.077204</td>\n",
       "      <td>1.368253e+04</td>\n",
       "      <td>7.544970</td>\n",
       "      <td>0.000963</td>\n",
       "      <td>164.020212</td>\n",
       "      <td>0.028489</td>\n",
       "      <td>0.178225</td>\n",
       "    </tr>\n",
       "    <tr>\n",
       "      <th>...</th>\n",
       "      <td>...</td>\n",
       "      <td>...</td>\n",
       "      <td>...</td>\n",
       "      <td>...</td>\n",
       "      <td>...</td>\n",
       "      <td>...</td>\n",
       "      <td>...</td>\n",
       "      <td>...</td>\n",
       "      <td>...</td>\n",
       "      <td>...</td>\n",
       "      <td>...</td>\n",
       "      <td>...</td>\n",
       "      <td>...</td>\n",
       "      <td>...</td>\n",
       "      <td>...</td>\n",
       "      <td>...</td>\n",
       "      <td>...</td>\n",
       "      <td>...</td>\n",
       "      <td>...</td>\n",
       "      <td>...</td>\n",
       "      <td>...</td>\n",
       "    </tr>\n",
       "    <tr>\n",
       "      <th>VS-SEG-195</th>\n",
       "      <td>NaN</td>\n",
       "      <td>0</td>\n",
       "      <td>0.473118</td>\n",
       "      <td>0.406433</td>\n",
       "      <td>4.480535</td>\n",
       "      <td>11.024049</td>\n",
       "      <td>11.574484</td>\n",
       "      <td>6.088697</td>\n",
       "      <td>10.146551</td>\n",
       "      <td>11.833204</td>\n",
       "      <td>...</td>\n",
       "      <td>2591.392859</td>\n",
       "      <td>0.001952</td>\n",
       "      <td>6.126663</td>\n",
       "      <td>0.862069</td>\n",
       "      <td>2.944000e-01</td>\n",
       "      <td>0.013151</td>\n",
       "      <td>0.023994</td>\n",
       "      <td>27866.168951</td>\n",
       "      <td>2.382383</td>\n",
       "      <td>50.594926</td>\n",
       "    </tr>\n",
       "    <tr>\n",
       "      <th>VS-SEG-197</th>\n",
       "      <td>1251.0</td>\n",
       "      <td>1</td>\n",
       "      <td>0.763451</td>\n",
       "      <td>0.612028</td>\n",
       "      <td>9.262721</td>\n",
       "      <td>15.134468</td>\n",
       "      <td>17.845172</td>\n",
       "      <td>13.550974</td>\n",
       "      <td>17.346565</td>\n",
       "      <td>19.078826</td>\n",
       "      <td>...</td>\n",
       "      <td>112.478485</td>\n",
       "      <td>0.010389</td>\n",
       "      <td>6.023579</td>\n",
       "      <td>0.258682</td>\n",
       "      <td>3.014484e+02</td>\n",
       "      <td>0.474109</td>\n",
       "      <td>0.004280</td>\n",
       "      <td>536.160015</td>\n",
       "      <td>0.123540</td>\n",
       "      <td>0.938516</td>\n",
       "    </tr>\n",
       "    <tr>\n",
       "      <th>VS-SEG-199</th>\n",
       "      <td>1102.0</td>\n",
       "      <td>1</td>\n",
       "      <td>0.880602</td>\n",
       "      <td>0.623155</td>\n",
       "      <td>12.667649</td>\n",
       "      <td>20.328248</td>\n",
       "      <td>25.398081</td>\n",
       "      <td>20.264196</td>\n",
       "      <td>27.537262</td>\n",
       "      <td>30.923181</td>\n",
       "      <td>...</td>\n",
       "      <td>17.464088</td>\n",
       "      <td>0.078385</td>\n",
       "      <td>5.835668</td>\n",
       "      <td>0.034917</td>\n",
       "      <td>2.251998e+05</td>\n",
       "      <td>88.305997</td>\n",
       "      <td>0.000146</td>\n",
       "      <td>179.378541</td>\n",
       "      <td>0.017395</td>\n",
       "      <td>0.053233</td>\n",
       "    </tr>\n",
       "    <tr>\n",
       "      <th>VS-SEG-218</th>\n",
       "      <td>1870.0</td>\n",
       "      <td>1</td>\n",
       "      <td>0.942108</td>\n",
       "      <td>0.737152</td>\n",
       "      <td>17.979514</td>\n",
       "      <td>24.390526</td>\n",
       "      <td>27.617950</td>\n",
       "      <td>27.083334</td>\n",
       "      <td>30.665712</td>\n",
       "      <td>31.787093</td>\n",
       "      <td>...</td>\n",
       "      <td>8.792796</td>\n",
       "      <td>0.116266</td>\n",
       "      <td>5.595278</td>\n",
       "      <td>0.010308</td>\n",
       "      <td>1.779108e+06</td>\n",
       "      <td>223.780822</td>\n",
       "      <td>0.000149</td>\n",
       "      <td>25.357783</td>\n",
       "      <td>0.011757</td>\n",
       "      <td>0.014437</td>\n",
       "    </tr>\n",
       "    <tr>\n",
       "      <th>VS-SEG-221</th>\n",
       "      <td>602.0</td>\n",
       "      <td>1</td>\n",
       "      <td>0.501302</td>\n",
       "      <td>0.390490</td>\n",
       "      <td>4.273146</td>\n",
       "      <td>10.943041</td>\n",
       "      <td>12.085704</td>\n",
       "      <td>7.672553</td>\n",
       "      <td>11.757459</td>\n",
       "      <td>12.477062</td>\n",
       "      <td>...</td>\n",
       "      <td>1.786097</td>\n",
       "      <td>0.091113</td>\n",
       "      <td>3.044913</td>\n",
       "      <td>0.003207</td>\n",
       "      <td>1.984924e+06</td>\n",
       "      <td>14.180609</td>\n",
       "      <td>0.017875</td>\n",
       "      <td>0.067586</td>\n",
       "      <td>0.000080</td>\n",
       "      <td>0.081291</td>\n",
       "    </tr>\n",
       "  </tbody>\n",
       "</table>\n",
       "<p>124 rows × 109 columns</p>\n",
       "</div>"
      ],
      "text/plain": [
       "Year          volume_diff  change  original_shape_Elongation  \\\n",
       "Patient_ID                                                     \n",
       "VS-MC-RC-001        -51.0       0                   0.574892   \n",
       "VS-MC-RC-002       1069.0       1                   0.574886   \n",
       "VS-MC-RC-004     -13391.0       0                   0.767449   \n",
       "VS-MC-RC-005       2256.0       1                   0.785051   \n",
       "VS-MC-RC-006        205.0       1                   0.560217   \n",
       "...                   ...     ...                        ...   \n",
       "VS-SEG-195            NaN       0                   0.473118   \n",
       "VS-SEG-197         1251.0       1                   0.763451   \n",
       "VS-SEG-199         1102.0       1                   0.880602   \n",
       "VS-SEG-218         1870.0       1                   0.942108   \n",
       "VS-SEG-221          602.0       1                   0.501302   \n",
       "\n",
       "Year          original_shape_Flatness  original_shape_LeastAxisLength  \\\n",
       "Patient_ID                                                              \n",
       "VS-MC-RC-001                 0.420573                        4.667643   \n",
       "VS-MC-RC-002                 0.383779                        4.624665   \n",
       "VS-MC-RC-004                 0.750977                       24.363244   \n",
       "VS-MC-RC-005                 0.676358                       10.682136   \n",
       "VS-MC-RC-006                 0.390187                        8.214488   \n",
       "...                               ...                             ...   \n",
       "VS-SEG-195                   0.406433                        4.480535   \n",
       "VS-SEG-197                   0.612028                        9.262721   \n",
       "VS-SEG-199                   0.623155                       12.667649   \n",
       "VS-SEG-218                   0.737152                       17.979514   \n",
       "VS-SEG-221                   0.390490                        4.273146   \n",
       "\n",
       "Year          original_shape_MajorAxisLength  \\\n",
       "Patient_ID                                     \n",
       "VS-MC-RC-001                       11.098302   \n",
       "VS-MC-RC-002                       12.050322   \n",
       "VS-MC-RC-004                       32.442076   \n",
       "VS-MC-RC-005                       15.793601   \n",
       "VS-MC-RC-006                       21.052694   \n",
       "...                                      ...   \n",
       "VS-SEG-195                         11.024049   \n",
       "VS-SEG-197                         15.134468   \n",
       "VS-SEG-199                         20.328248   \n",
       "VS-SEG-218                         24.390526   \n",
       "VS-SEG-221                         10.943041   \n",
       "\n",
       "Year          original_shape_Maximum2DDiameterColumn  \\\n",
       "Patient_ID                                             \n",
       "VS-MC-RC-001                                7.692140   \n",
       "VS-MC-RC-002                               14.526802   \n",
       "VS-MC-RC-004                               37.514031   \n",
       "VS-MC-RC-005                               19.495446   \n",
       "VS-MC-RC-006                               23.263138   \n",
       "...                                              ...   \n",
       "VS-SEG-195                                 11.574484   \n",
       "VS-SEG-197                                 17.845172   \n",
       "VS-SEG-199                                 25.398081   \n",
       "VS-SEG-218                                 27.617950   \n",
       "VS-SEG-221                                 12.085704   \n",
       "\n",
       "Year          original_shape_Maximum2DDiameterRow  \\\n",
       "Patient_ID                                          \n",
       "VS-MC-RC-001                            10.667506   \n",
       "VS-MC-RC-002                             8.669793   \n",
       "VS-MC-RC-004                            33.636311   \n",
       "VS-MC-RC-005                            15.119270   \n",
       "VS-MC-RC-006                            14.840822   \n",
       "...                                           ...   \n",
       "VS-SEG-195                               6.088697   \n",
       "VS-SEG-197                              13.550974   \n",
       "VS-SEG-199                              20.264196   \n",
       "VS-SEG-218                              27.083334   \n",
       "VS-SEG-221                               7.672553   \n",
       "\n",
       "Year          original_shape_Maximum2DDiameterSlice  \\\n",
       "Patient_ID                                            \n",
       "VS-MC-RC-001                               9.907894   \n",
       "VS-MC-RC-002                              12.282286   \n",
       "VS-MC-RC-004                              35.544042   \n",
       "VS-MC-RC-005                              20.937774   \n",
       "VS-MC-RC-006                              24.317952   \n",
       "...                                             ...   \n",
       "VS-SEG-195                                10.146551   \n",
       "VS-SEG-197                                17.346565   \n",
       "VS-SEG-199                                27.537262   \n",
       "VS-SEG-218                                30.665712   \n",
       "VS-SEG-221                                11.757459   \n",
       "\n",
       "Year          original_shape_Maximum3DDiameter  ...  \\\n",
       "Patient_ID                                      ...   \n",
       "VS-MC-RC-001                         11.824483  ...   \n",
       "VS-MC-RC-002                         14.842891  ...   \n",
       "VS-MC-RC-004                         38.487053  ...   \n",
       "VS-MC-RC-005                         21.244994  ...   \n",
       "VS-MC-RC-006                         24.568533  ...   \n",
       "...                                        ...  ...   \n",
       "VS-SEG-195                           11.833204  ...   \n",
       "VS-SEG-197                           19.078826  ...   \n",
       "VS-SEG-199                           30.923181  ...   \n",
       "VS-SEG-218                           31.787093  ...   \n",
       "VS-SEG-221                           12.477062  ...   \n",
       "\n",
       "Year          original_glszm_SmallAreaHighGrayLevelEmphasis  \\\n",
       "Patient_ID                                                    \n",
       "VS-MC-RC-001                                      10.695441   \n",
       "VS-MC-RC-002                                     480.178708   \n",
       "VS-MC-RC-004                                      32.093094   \n",
       "VS-MC-RC-005                                    1403.268164   \n",
       "VS-MC-RC-006                                      35.924964   \n",
       "...                                                     ...   \n",
       "VS-SEG-195                                      2591.392859   \n",
       "VS-SEG-197                                       112.478485   \n",
       "VS-SEG-199                                        17.464088   \n",
       "VS-SEG-218                                         8.792796   \n",
       "VS-SEG-221                                         1.786097   \n",
       "\n",
       "Year          original_glszm_SmallAreaLowGrayLevelEmphasis  \\\n",
       "Patient_ID                                                   \n",
       "VS-MC-RC-001                                      0.076159   \n",
       "VS-MC-RC-002                                      0.004672   \n",
       "VS-MC-RC-004                                      0.029082   \n",
       "VS-MC-RC-005                                      0.000975   \n",
       "VS-MC-RC-006                                      0.077624   \n",
       "...                                                    ...   \n",
       "VS-SEG-195                                        0.001952   \n",
       "VS-SEG-197                                        0.010389   \n",
       "VS-SEG-199                                        0.078385   \n",
       "VS-SEG-218                                        0.116266   \n",
       "VS-SEG-221                                        0.091113   \n",
       "\n",
       "Year          original_glszm_ZoneEntropy  original_glszm_ZonePercentage  \\\n",
       "Patient_ID                                                                \n",
       "VS-MC-RC-001                    4.020056                       0.045500   \n",
       "VS-MC-RC-002                    6.442091                       0.612416   \n",
       "VS-MC-RC-004                    7.190271                       0.010443   \n",
       "VS-MC-RC-005                    7.284012                       0.535631   \n",
       "VS-MC-RC-006                    5.696608                       0.077204   \n",
       "...                                  ...                            ...   \n",
       "VS-SEG-195                      6.126663                       0.862069   \n",
       "VS-SEG-197                      6.023579                       0.258682   \n",
       "VS-SEG-199                      5.835668                       0.034917   \n",
       "VS-SEG-218                      5.595278                       0.010308   \n",
       "VS-SEG-221                      3.044913                       0.003207   \n",
       "\n",
       "Year          original_glszm_ZoneVariance  original_ngtdm_Busyness  \\\n",
       "Patient_ID                                                           \n",
       "VS-MC-RC-001                 8.521760e+03                14.322749   \n",
       "VS-MC-RC-002                 1.898097e+00                 0.149696   \n",
       "VS-MC-RC-004                 3.126897e+06                61.614317   \n",
       "VS-MC-RC-005                 4.696216e+00                 0.178940   \n",
       "VS-MC-RC-006                 1.368253e+04                 7.544970   \n",
       "...                                   ...                      ...   \n",
       "VS-SEG-195                   2.944000e-01                 0.013151   \n",
       "VS-SEG-197                   3.014484e+02                 0.474109   \n",
       "VS-SEG-199                   2.251998e+05                88.305997   \n",
       "VS-SEG-218                   1.779108e+06               223.780822   \n",
       "VS-SEG-221                   1.984924e+06                14.180609   \n",
       "\n",
       "Year          original_ngtdm_Coarseness  original_ngtdm_Complexity  \\\n",
       "Patient_ID                                                           \n",
       "VS-MC-RC-001                   0.005272                  16.255589   \n",
       "VS-MC-RC-002                   0.005885                6488.583068   \n",
       "VS-MC-RC-004                   0.000073                  62.767139   \n",
       "VS-MC-RC-005                   0.000656               57029.297654   \n",
       "VS-MC-RC-006                   0.000963                 164.020212   \n",
       "...                                 ...                        ...   \n",
       "VS-SEG-195                     0.023994               27866.168951   \n",
       "VS-SEG-197                     0.004280                 536.160015   \n",
       "VS-SEG-199                     0.000146                 179.378541   \n",
       "VS-SEG-218                     0.000149                  25.357783   \n",
       "VS-SEG-221                     0.017875                   0.067586   \n",
       "\n",
       "Year          original_ngtdm_Contrast  original_ngtdm_Strength  \n",
       "Patient_ID                                                      \n",
       "VS-MC-RC-001                 0.019169                 0.263056  \n",
       "VS-MC-RC-002                 0.304126                 7.944378  \n",
       "VS-MC-RC-004                 0.027590                 0.011189  \n",
       "VS-MC-RC-005                 0.081517                12.098159  \n",
       "VS-MC-RC-006                 0.028489                 0.178225  \n",
       "...                               ...                      ...  \n",
       "VS-SEG-195                   2.382383                50.594926  \n",
       "VS-SEG-197                   0.123540                 0.938516  \n",
       "VS-SEG-199                   0.017395                 0.053233  \n",
       "VS-SEG-218                   0.011757                 0.014437  \n",
       "VS-SEG-221                   0.000080                 0.081291  \n",
       "\n",
       "[124 rows x 109 columns]"
      ]
     },
     "execution_count": 105,
     "metadata": {},
     "output_type": "execute_result"
    }
   ],
   "source": [
    "volume_table"
   ]
  },
  {
   "cell_type": "code",
   "execution_count": null,
   "id": "9c9634ed",
   "metadata": {},
   "outputs": [],
   "source": [
    "dest_path = r'/home/omen/Documents/Nafisha/VS/VS_refactored_code/RandomForest/CSVs/RFcsv.csv'\n",
    "volume_table.to_csv(dest_path)"
   ]
  },
  {
   "cell_type": "code",
   "execution_count": 5,
   "id": "33cfa27e",
   "metadata": {},
   "outputs": [
    {
     "data": {
      "text/html": [
       "<div>\n",
       "<style scoped>\n",
       "    .dataframe tbody tr th:only-of-type {\n",
       "        vertical-align: middle;\n",
       "    }\n",
       "\n",
       "    .dataframe tbody tr th {\n",
       "        vertical-align: top;\n",
       "    }\n",
       "\n",
       "    .dataframe thead th {\n",
       "        text-align: right;\n",
       "    }\n",
       "</style>\n",
       "<table border=\"1\" class=\"dataframe\">\n",
       "  <thead>\n",
       "    <tr style=\"text-align: right;\">\n",
       "      <th></th>\n",
       "      <th>volume_diff</th>\n",
       "      <th>change</th>\n",
       "      <th>original_shape_Elongation</th>\n",
       "      <th>original_shape_Flatness</th>\n",
       "      <th>original_shape_LeastAxisLength</th>\n",
       "      <th>original_shape_MajorAxisLength</th>\n",
       "      <th>original_shape_Maximum2DDiameterColumn</th>\n",
       "      <th>original_shape_Maximum2DDiameterRow</th>\n",
       "      <th>original_shape_Maximum2DDiameterSlice</th>\n",
       "      <th>original_shape_Maximum3DDiameter</th>\n",
       "      <th>...</th>\n",
       "      <th>original_glszm_SmallAreaHighGrayLevelEmphasis</th>\n",
       "      <th>original_glszm_SmallAreaLowGrayLevelEmphasis</th>\n",
       "      <th>original_glszm_ZoneEntropy</th>\n",
       "      <th>original_glszm_ZonePercentage</th>\n",
       "      <th>original_glszm_ZoneVariance</th>\n",
       "      <th>original_ngtdm_Busyness</th>\n",
       "      <th>original_ngtdm_Coarseness</th>\n",
       "      <th>original_ngtdm_Complexity</th>\n",
       "      <th>original_ngtdm_Contrast</th>\n",
       "      <th>original_ngtdm_Strength</th>\n",
       "    </tr>\n",
       "    <tr>\n",
       "      <th>Patient_ID</th>\n",
       "      <th></th>\n",
       "      <th></th>\n",
       "      <th></th>\n",
       "      <th></th>\n",
       "      <th></th>\n",
       "      <th></th>\n",
       "      <th></th>\n",
       "      <th></th>\n",
       "      <th></th>\n",
       "      <th></th>\n",
       "      <th></th>\n",
       "      <th></th>\n",
       "      <th></th>\n",
       "      <th></th>\n",
       "      <th></th>\n",
       "      <th></th>\n",
       "      <th></th>\n",
       "      <th></th>\n",
       "      <th></th>\n",
       "      <th></th>\n",
       "      <th></th>\n",
       "    </tr>\n",
       "  </thead>\n",
       "  <tbody>\n",
       "    <tr>\n",
       "      <th>VS-MC-RC-001</th>\n",
       "      <td>-51.0</td>\n",
       "      <td>0</td>\n",
       "      <td>0.574892</td>\n",
       "      <td>0.420573</td>\n",
       "      <td>4.667643</td>\n",
       "      <td>11.098302</td>\n",
       "      <td>7.692140</td>\n",
       "      <td>10.667506</td>\n",
       "      <td>9.907894</td>\n",
       "      <td>11.824483</td>\n",
       "      <td>...</td>\n",
       "      <td>10.695441</td>\n",
       "      <td>0.076159</td>\n",
       "      <td>4.020056</td>\n",
       "      <td>0.045500</td>\n",
       "      <td>8.521760e+03</td>\n",
       "      <td>14.322749</td>\n",
       "      <td>0.005272</td>\n",
       "      <td>16.255589</td>\n",
       "      <td>0.019169</td>\n",
       "      <td>0.263056</td>\n",
       "    </tr>\n",
       "    <tr>\n",
       "      <th>VS-MC-RC-002</th>\n",
       "      <td>1069.0</td>\n",
       "      <td>1</td>\n",
       "      <td>0.574886</td>\n",
       "      <td>0.383779</td>\n",
       "      <td>4.624665</td>\n",
       "      <td>12.050322</td>\n",
       "      <td>14.526802</td>\n",
       "      <td>8.669793</td>\n",
       "      <td>12.282286</td>\n",
       "      <td>14.842891</td>\n",
       "      <td>...</td>\n",
       "      <td>480.178708</td>\n",
       "      <td>0.004672</td>\n",
       "      <td>6.442091</td>\n",
       "      <td>0.612416</td>\n",
       "      <td>1.898097e+00</td>\n",
       "      <td>0.149696</td>\n",
       "      <td>0.005885</td>\n",
       "      <td>6488.583068</td>\n",
       "      <td>0.304126</td>\n",
       "      <td>7.944378</td>\n",
       "    </tr>\n",
       "    <tr>\n",
       "      <th>VS-MC-RC-004</th>\n",
       "      <td>-13391.0</td>\n",
       "      <td>0</td>\n",
       "      <td>0.767449</td>\n",
       "      <td>0.750977</td>\n",
       "      <td>24.363244</td>\n",
       "      <td>32.442076</td>\n",
       "      <td>37.514031</td>\n",
       "      <td>33.636311</td>\n",
       "      <td>35.544042</td>\n",
       "      <td>38.487053</td>\n",
       "      <td>...</td>\n",
       "      <td>32.093094</td>\n",
       "      <td>0.029082</td>\n",
       "      <td>7.190271</td>\n",
       "      <td>0.010443</td>\n",
       "      <td>3.126897e+06</td>\n",
       "      <td>61.614317</td>\n",
       "      <td>0.000073</td>\n",
       "      <td>62.767139</td>\n",
       "      <td>0.027590</td>\n",
       "      <td>0.011189</td>\n",
       "    </tr>\n",
       "    <tr>\n",
       "      <th>VS-MC-RC-005</th>\n",
       "      <td>2256.0</td>\n",
       "      <td>1</td>\n",
       "      <td>0.785051</td>\n",
       "      <td>0.676358</td>\n",
       "      <td>10.682136</td>\n",
       "      <td>15.793601</td>\n",
       "      <td>19.495446</td>\n",
       "      <td>15.119270</td>\n",
       "      <td>20.937774</td>\n",
       "      <td>21.244994</td>\n",
       "      <td>...</td>\n",
       "      <td>1403.268164</td>\n",
       "      <td>0.000975</td>\n",
       "      <td>7.284012</td>\n",
       "      <td>0.535631</td>\n",
       "      <td>4.696216e+00</td>\n",
       "      <td>0.178940</td>\n",
       "      <td>0.000656</td>\n",
       "      <td>57029.297654</td>\n",
       "      <td>0.081517</td>\n",
       "      <td>12.098159</td>\n",
       "    </tr>\n",
       "    <tr>\n",
       "      <th>VS-MC-RC-006</th>\n",
       "      <td>205.0</td>\n",
       "      <td>1</td>\n",
       "      <td>0.560217</td>\n",
       "      <td>0.390187</td>\n",
       "      <td>8.214488</td>\n",
       "      <td>21.052694</td>\n",
       "      <td>23.263138</td>\n",
       "      <td>14.840822</td>\n",
       "      <td>24.317952</td>\n",
       "      <td>24.568533</td>\n",
       "      <td>...</td>\n",
       "      <td>35.924964</td>\n",
       "      <td>0.077624</td>\n",
       "      <td>5.696608</td>\n",
       "      <td>0.077204</td>\n",
       "      <td>1.368253e+04</td>\n",
       "      <td>7.544970</td>\n",
       "      <td>0.000963</td>\n",
       "      <td>164.020212</td>\n",
       "      <td>0.028489</td>\n",
       "      <td>0.178225</td>\n",
       "    </tr>\n",
       "    <tr>\n",
       "      <th>...</th>\n",
       "      <td>...</td>\n",
       "      <td>...</td>\n",
       "      <td>...</td>\n",
       "      <td>...</td>\n",
       "      <td>...</td>\n",
       "      <td>...</td>\n",
       "      <td>...</td>\n",
       "      <td>...</td>\n",
       "      <td>...</td>\n",
       "      <td>...</td>\n",
       "      <td>...</td>\n",
       "      <td>...</td>\n",
       "      <td>...</td>\n",
       "      <td>...</td>\n",
       "      <td>...</td>\n",
       "      <td>...</td>\n",
       "      <td>...</td>\n",
       "      <td>...</td>\n",
       "      <td>...</td>\n",
       "      <td>...</td>\n",
       "      <td>...</td>\n",
       "    </tr>\n",
       "    <tr>\n",
       "      <th>VS-SEG-195</th>\n",
       "      <td>NaN</td>\n",
       "      <td>0</td>\n",
       "      <td>0.473118</td>\n",
       "      <td>0.406433</td>\n",
       "      <td>4.480535</td>\n",
       "      <td>11.024049</td>\n",
       "      <td>11.574484</td>\n",
       "      <td>6.088697</td>\n",
       "      <td>10.146551</td>\n",
       "      <td>11.833204</td>\n",
       "      <td>...</td>\n",
       "      <td>2591.392859</td>\n",
       "      <td>0.001952</td>\n",
       "      <td>6.126663</td>\n",
       "      <td>0.862069</td>\n",
       "      <td>2.944000e-01</td>\n",
       "      <td>0.013151</td>\n",
       "      <td>0.023994</td>\n",
       "      <td>27866.168951</td>\n",
       "      <td>2.382383</td>\n",
       "      <td>50.594926</td>\n",
       "    </tr>\n",
       "    <tr>\n",
       "      <th>VS-SEG-197</th>\n",
       "      <td>1251.0</td>\n",
       "      <td>1</td>\n",
       "      <td>0.763451</td>\n",
       "      <td>0.612028</td>\n",
       "      <td>9.262721</td>\n",
       "      <td>15.134468</td>\n",
       "      <td>17.845172</td>\n",
       "      <td>13.550974</td>\n",
       "      <td>17.346565</td>\n",
       "      <td>19.078826</td>\n",
       "      <td>...</td>\n",
       "      <td>112.478485</td>\n",
       "      <td>0.010389</td>\n",
       "      <td>6.023579</td>\n",
       "      <td>0.258682</td>\n",
       "      <td>3.014484e+02</td>\n",
       "      <td>0.474109</td>\n",
       "      <td>0.004280</td>\n",
       "      <td>536.160015</td>\n",
       "      <td>0.123540</td>\n",
       "      <td>0.938516</td>\n",
       "    </tr>\n",
       "    <tr>\n",
       "      <th>VS-SEG-199</th>\n",
       "      <td>1102.0</td>\n",
       "      <td>1</td>\n",
       "      <td>0.880602</td>\n",
       "      <td>0.623155</td>\n",
       "      <td>12.667649</td>\n",
       "      <td>20.328248</td>\n",
       "      <td>25.398081</td>\n",
       "      <td>20.264196</td>\n",
       "      <td>27.537262</td>\n",
       "      <td>30.923181</td>\n",
       "      <td>...</td>\n",
       "      <td>17.464088</td>\n",
       "      <td>0.078385</td>\n",
       "      <td>5.835668</td>\n",
       "      <td>0.034917</td>\n",
       "      <td>2.251998e+05</td>\n",
       "      <td>88.305997</td>\n",
       "      <td>0.000146</td>\n",
       "      <td>179.378541</td>\n",
       "      <td>0.017395</td>\n",
       "      <td>0.053233</td>\n",
       "    </tr>\n",
       "    <tr>\n",
       "      <th>VS-SEG-218</th>\n",
       "      <td>1870.0</td>\n",
       "      <td>1</td>\n",
       "      <td>0.942108</td>\n",
       "      <td>0.737152</td>\n",
       "      <td>17.979514</td>\n",
       "      <td>24.390526</td>\n",
       "      <td>27.617950</td>\n",
       "      <td>27.083334</td>\n",
       "      <td>30.665712</td>\n",
       "      <td>31.787093</td>\n",
       "      <td>...</td>\n",
       "      <td>8.792796</td>\n",
       "      <td>0.116266</td>\n",
       "      <td>5.595278</td>\n",
       "      <td>0.010308</td>\n",
       "      <td>1.779108e+06</td>\n",
       "      <td>223.780822</td>\n",
       "      <td>0.000149</td>\n",
       "      <td>25.357783</td>\n",
       "      <td>0.011757</td>\n",
       "      <td>0.014437</td>\n",
       "    </tr>\n",
       "    <tr>\n",
       "      <th>VS-SEG-221</th>\n",
       "      <td>602.0</td>\n",
       "      <td>1</td>\n",
       "      <td>0.501302</td>\n",
       "      <td>0.390490</td>\n",
       "      <td>4.273146</td>\n",
       "      <td>10.943041</td>\n",
       "      <td>12.085704</td>\n",
       "      <td>7.672553</td>\n",
       "      <td>11.757459</td>\n",
       "      <td>12.477062</td>\n",
       "      <td>...</td>\n",
       "      <td>1.786097</td>\n",
       "      <td>0.091113</td>\n",
       "      <td>3.044913</td>\n",
       "      <td>0.003207</td>\n",
       "      <td>1.984924e+06</td>\n",
       "      <td>14.180609</td>\n",
       "      <td>0.017875</td>\n",
       "      <td>0.067586</td>\n",
       "      <td>0.000080</td>\n",
       "      <td>0.081291</td>\n",
       "    </tr>\n",
       "  </tbody>\n",
       "</table>\n",
       "<p>124 rows × 109 columns</p>\n",
       "</div>"
      ],
      "text/plain": [
       "              volume_diff  change  original_shape_Elongation  \\\n",
       "Patient_ID                                                     \n",
       "VS-MC-RC-001        -51.0       0                   0.574892   \n",
       "VS-MC-RC-002       1069.0       1                   0.574886   \n",
       "VS-MC-RC-004     -13391.0       0                   0.767449   \n",
       "VS-MC-RC-005       2256.0       1                   0.785051   \n",
       "VS-MC-RC-006        205.0       1                   0.560217   \n",
       "...                   ...     ...                        ...   \n",
       "VS-SEG-195            NaN       0                   0.473118   \n",
       "VS-SEG-197         1251.0       1                   0.763451   \n",
       "VS-SEG-199         1102.0       1                   0.880602   \n",
       "VS-SEG-218         1870.0       1                   0.942108   \n",
       "VS-SEG-221          602.0       1                   0.501302   \n",
       "\n",
       "              original_shape_Flatness  original_shape_LeastAxisLength  \\\n",
       "Patient_ID                                                              \n",
       "VS-MC-RC-001                 0.420573                        4.667643   \n",
       "VS-MC-RC-002                 0.383779                        4.624665   \n",
       "VS-MC-RC-004                 0.750977                       24.363244   \n",
       "VS-MC-RC-005                 0.676358                       10.682136   \n",
       "VS-MC-RC-006                 0.390187                        8.214488   \n",
       "...                               ...                             ...   \n",
       "VS-SEG-195                   0.406433                        4.480535   \n",
       "VS-SEG-197                   0.612028                        9.262721   \n",
       "VS-SEG-199                   0.623155                       12.667649   \n",
       "VS-SEG-218                   0.737152                       17.979514   \n",
       "VS-SEG-221                   0.390490                        4.273146   \n",
       "\n",
       "              original_shape_MajorAxisLength  \\\n",
       "Patient_ID                                     \n",
       "VS-MC-RC-001                       11.098302   \n",
       "VS-MC-RC-002                       12.050322   \n",
       "VS-MC-RC-004                       32.442076   \n",
       "VS-MC-RC-005                       15.793601   \n",
       "VS-MC-RC-006                       21.052694   \n",
       "...                                      ...   \n",
       "VS-SEG-195                         11.024049   \n",
       "VS-SEG-197                         15.134468   \n",
       "VS-SEG-199                         20.328248   \n",
       "VS-SEG-218                         24.390526   \n",
       "VS-SEG-221                         10.943041   \n",
       "\n",
       "              original_shape_Maximum2DDiameterColumn  \\\n",
       "Patient_ID                                             \n",
       "VS-MC-RC-001                                7.692140   \n",
       "VS-MC-RC-002                               14.526802   \n",
       "VS-MC-RC-004                               37.514031   \n",
       "VS-MC-RC-005                               19.495446   \n",
       "VS-MC-RC-006                               23.263138   \n",
       "...                                              ...   \n",
       "VS-SEG-195                                 11.574484   \n",
       "VS-SEG-197                                 17.845172   \n",
       "VS-SEG-199                                 25.398081   \n",
       "VS-SEG-218                                 27.617950   \n",
       "VS-SEG-221                                 12.085704   \n",
       "\n",
       "              original_shape_Maximum2DDiameterRow  \\\n",
       "Patient_ID                                          \n",
       "VS-MC-RC-001                            10.667506   \n",
       "VS-MC-RC-002                             8.669793   \n",
       "VS-MC-RC-004                            33.636311   \n",
       "VS-MC-RC-005                            15.119270   \n",
       "VS-MC-RC-006                            14.840822   \n",
       "...                                           ...   \n",
       "VS-SEG-195                               6.088697   \n",
       "VS-SEG-197                              13.550974   \n",
       "VS-SEG-199                              20.264196   \n",
       "VS-SEG-218                              27.083334   \n",
       "VS-SEG-221                               7.672553   \n",
       "\n",
       "              original_shape_Maximum2DDiameterSlice  \\\n",
       "Patient_ID                                            \n",
       "VS-MC-RC-001                               9.907894   \n",
       "VS-MC-RC-002                              12.282286   \n",
       "VS-MC-RC-004                              35.544042   \n",
       "VS-MC-RC-005                              20.937774   \n",
       "VS-MC-RC-006                              24.317952   \n",
       "...                                             ...   \n",
       "VS-SEG-195                                10.146551   \n",
       "VS-SEG-197                                17.346565   \n",
       "VS-SEG-199                                27.537262   \n",
       "VS-SEG-218                                30.665712   \n",
       "VS-SEG-221                                11.757459   \n",
       "\n",
       "              original_shape_Maximum3DDiameter  ...  \\\n",
       "Patient_ID                                      ...   \n",
       "VS-MC-RC-001                         11.824483  ...   \n",
       "VS-MC-RC-002                         14.842891  ...   \n",
       "VS-MC-RC-004                         38.487053  ...   \n",
       "VS-MC-RC-005                         21.244994  ...   \n",
       "VS-MC-RC-006                         24.568533  ...   \n",
       "...                                        ...  ...   \n",
       "VS-SEG-195                           11.833204  ...   \n",
       "VS-SEG-197                           19.078826  ...   \n",
       "VS-SEG-199                           30.923181  ...   \n",
       "VS-SEG-218                           31.787093  ...   \n",
       "VS-SEG-221                           12.477062  ...   \n",
       "\n",
       "              original_glszm_SmallAreaHighGrayLevelEmphasis  \\\n",
       "Patient_ID                                                    \n",
       "VS-MC-RC-001                                      10.695441   \n",
       "VS-MC-RC-002                                     480.178708   \n",
       "VS-MC-RC-004                                      32.093094   \n",
       "VS-MC-RC-005                                    1403.268164   \n",
       "VS-MC-RC-006                                      35.924964   \n",
       "...                                                     ...   \n",
       "VS-SEG-195                                      2591.392859   \n",
       "VS-SEG-197                                       112.478485   \n",
       "VS-SEG-199                                        17.464088   \n",
       "VS-SEG-218                                         8.792796   \n",
       "VS-SEG-221                                         1.786097   \n",
       "\n",
       "              original_glszm_SmallAreaLowGrayLevelEmphasis  \\\n",
       "Patient_ID                                                   \n",
       "VS-MC-RC-001                                      0.076159   \n",
       "VS-MC-RC-002                                      0.004672   \n",
       "VS-MC-RC-004                                      0.029082   \n",
       "VS-MC-RC-005                                      0.000975   \n",
       "VS-MC-RC-006                                      0.077624   \n",
       "...                                                    ...   \n",
       "VS-SEG-195                                        0.001952   \n",
       "VS-SEG-197                                        0.010389   \n",
       "VS-SEG-199                                        0.078385   \n",
       "VS-SEG-218                                        0.116266   \n",
       "VS-SEG-221                                        0.091113   \n",
       "\n",
       "              original_glszm_ZoneEntropy  original_glszm_ZonePercentage  \\\n",
       "Patient_ID                                                                \n",
       "VS-MC-RC-001                    4.020056                       0.045500   \n",
       "VS-MC-RC-002                    6.442091                       0.612416   \n",
       "VS-MC-RC-004                    7.190271                       0.010443   \n",
       "VS-MC-RC-005                    7.284012                       0.535631   \n",
       "VS-MC-RC-006                    5.696608                       0.077204   \n",
       "...                                  ...                            ...   \n",
       "VS-SEG-195                      6.126663                       0.862069   \n",
       "VS-SEG-197                      6.023579                       0.258682   \n",
       "VS-SEG-199                      5.835668                       0.034917   \n",
       "VS-SEG-218                      5.595278                       0.010308   \n",
       "VS-SEG-221                      3.044913                       0.003207   \n",
       "\n",
       "              original_glszm_ZoneVariance  original_ngtdm_Busyness  \\\n",
       "Patient_ID                                                           \n",
       "VS-MC-RC-001                 8.521760e+03                14.322749   \n",
       "VS-MC-RC-002                 1.898097e+00                 0.149696   \n",
       "VS-MC-RC-004                 3.126897e+06                61.614317   \n",
       "VS-MC-RC-005                 4.696216e+00                 0.178940   \n",
       "VS-MC-RC-006                 1.368253e+04                 7.544970   \n",
       "...                                   ...                      ...   \n",
       "VS-SEG-195                   2.944000e-01                 0.013151   \n",
       "VS-SEG-197                   3.014484e+02                 0.474109   \n",
       "VS-SEG-199                   2.251998e+05                88.305997   \n",
       "VS-SEG-218                   1.779108e+06               223.780822   \n",
       "VS-SEG-221                   1.984924e+06                14.180609   \n",
       "\n",
       "              original_ngtdm_Coarseness  original_ngtdm_Complexity  \\\n",
       "Patient_ID                                                           \n",
       "VS-MC-RC-001                   0.005272                  16.255589   \n",
       "VS-MC-RC-002                   0.005885                6488.583068   \n",
       "VS-MC-RC-004                   0.000073                  62.767139   \n",
       "VS-MC-RC-005                   0.000656               57029.297654   \n",
       "VS-MC-RC-006                   0.000963                 164.020212   \n",
       "...                                 ...                        ...   \n",
       "VS-SEG-195                     0.023994               27866.168951   \n",
       "VS-SEG-197                     0.004280                 536.160015   \n",
       "VS-SEG-199                     0.000146                 179.378541   \n",
       "VS-SEG-218                     0.000149                  25.357783   \n",
       "VS-SEG-221                     0.017875                   0.067586   \n",
       "\n",
       "              original_ngtdm_Contrast  original_ngtdm_Strength  \n",
       "Patient_ID                                                      \n",
       "VS-MC-RC-001                 0.019169                 0.263056  \n",
       "VS-MC-RC-002                 0.304126                 7.944378  \n",
       "VS-MC-RC-004                 0.027590                 0.011189  \n",
       "VS-MC-RC-005                 0.081517                12.098159  \n",
       "VS-MC-RC-006                 0.028489                 0.178225  \n",
       "...                               ...                      ...  \n",
       "VS-SEG-195                   2.382383                50.594926  \n",
       "VS-SEG-197                   0.123540                 0.938516  \n",
       "VS-SEG-199                   0.017395                 0.053233  \n",
       "VS-SEG-218                   0.011757                 0.014437  \n",
       "VS-SEG-221                   0.000080                 0.081291  \n",
       "\n",
       "[124 rows x 109 columns]"
      ]
     },
     "execution_count": 5,
     "metadata": {},
     "output_type": "execute_result"
    }
   ],
   "source": [
    "volume_table"
   ]
  },
  {
   "cell_type": "code",
   "execution_count": null,
   "id": "37897922",
   "metadata": {},
   "outputs": [],
   "source": [
    "selected_feature_names_rfe = ['volume_diff', 'change', 'original_shape_MajorAxisLength', 'original_shape_Maximum2DDiameterRow',\n",
    "       'original_shape_Maximum3DDiameter', 'original_glcm_Imc1',\n",
    "       'original_glcm_MCC', 'original_gldm_DependenceNonUniformity',\n",
    "       'original_glrlm_GrayLevelNonUniformity',\n",
    "       'original_glrlm_RunLengthNonUniformity',\n",
    "       'original_glszm_LargeAreaHighGrayLevelEmphasis',\n",
    "       'original_ngtdm_Coarseness']\n",
    "filtered_df = volume_table[selected_feature_names_rfe]\n",
    "# len(selected_feature_names_rfe)"
   ]
  },
  {
   "cell_type": "code",
   "execution_count": 7,
   "id": "1bee5c17",
   "metadata": {},
   "outputs": [
    {
     "data": {
      "text/html": [
       "<div>\n",
       "<style scoped>\n",
       "    .dataframe tbody tr th:only-of-type {\n",
       "        vertical-align: middle;\n",
       "    }\n",
       "\n",
       "    .dataframe tbody tr th {\n",
       "        vertical-align: top;\n",
       "    }\n",
       "\n",
       "    .dataframe thead th {\n",
       "        text-align: right;\n",
       "    }\n",
       "</style>\n",
       "<table border=\"1\" class=\"dataframe\">\n",
       "  <thead>\n",
       "    <tr style=\"text-align: right;\">\n",
       "      <th></th>\n",
       "      <th>volume_diff</th>\n",
       "      <th>change</th>\n",
       "      <th>original_shape_MajorAxisLength</th>\n",
       "      <th>original_shape_Maximum2DDiameterRow</th>\n",
       "      <th>original_shape_Maximum3DDiameter</th>\n",
       "      <th>original_glcm_Imc1</th>\n",
       "      <th>original_glcm_MCC</th>\n",
       "      <th>original_gldm_DependenceNonUniformity</th>\n",
       "      <th>original_glrlm_GrayLevelNonUniformity</th>\n",
       "      <th>original_glrlm_RunLengthNonUniformity</th>\n",
       "      <th>original_glszm_LargeAreaHighGrayLevelEmphasis</th>\n",
       "      <th>original_ngtdm_Coarseness</th>\n",
       "    </tr>\n",
       "    <tr>\n",
       "      <th>Patient_ID</th>\n",
       "      <th></th>\n",
       "      <th></th>\n",
       "      <th></th>\n",
       "      <th></th>\n",
       "      <th></th>\n",
       "      <th></th>\n",
       "      <th></th>\n",
       "      <th></th>\n",
       "      <th></th>\n",
       "      <th></th>\n",
       "      <th></th>\n",
       "      <th></th>\n",
       "    </tr>\n",
       "  </thead>\n",
       "  <tbody>\n",
       "    <tr>\n",
       "      <th>VS-MC-RC-001</th>\n",
       "      <td>-51.0</td>\n",
       "      <td>0</td>\n",
       "      <td>11.098302</td>\n",
       "      <td>10.667506</td>\n",
       "      <td>11.824483</td>\n",
       "      <td>-0.055402</td>\n",
       "      <td>0.324320</td>\n",
       "      <td>53.124629</td>\n",
       "      <td>222.335594</td>\n",
       "      <td>281.082912</td>\n",
       "      <td>1.741270e+04</td>\n",
       "      <td>0.005272</td>\n",
       "    </tr>\n",
       "    <tr>\n",
       "      <th>VS-MC-RC-002</th>\n",
       "      <td>1069.0</td>\n",
       "      <td>1</td>\n",
       "      <td>12.050322</td>\n",
       "      <td>8.669793</td>\n",
       "      <td>14.842891</td>\n",
       "      <td>-0.147962</td>\n",
       "      <td>0.454266</td>\n",
       "      <td>380.436242</td>\n",
       "      <td>41.646779</td>\n",
       "      <td>1070.016494</td>\n",
       "      <td>2.363640e+03</td>\n",
       "      <td>0.005885</td>\n",
       "    </tr>\n",
       "    <tr>\n",
       "      <th>VS-MC-RC-004</th>\n",
       "      <td>-13391.0</td>\n",
       "      <td>0</td>\n",
       "      <td>32.442076</td>\n",
       "      <td>33.636311</td>\n",
       "      <td>38.487053</td>\n",
       "      <td>-0.402398</td>\n",
       "      <td>0.941602</td>\n",
       "      <td>16772.235332</td>\n",
       "      <td>18344.919598</td>\n",
       "      <td>94705.574083</td>\n",
       "      <td>3.764821e+08</td>\n",
       "      <td>0.000073</td>\n",
       "    </tr>\n",
       "    <tr>\n",
       "      <th>VS-MC-RC-005</th>\n",
       "      <td>2256.0</td>\n",
       "      <td>1</td>\n",
       "      <td>15.793601</td>\n",
       "      <td>15.119270</td>\n",
       "      <td>21.244994</td>\n",
       "      <td>-0.084973</td>\n",
       "      <td>0.817496</td>\n",
       "      <td>3718.285922</td>\n",
       "      <td>397.743860</td>\n",
       "      <td>11970.271692</td>\n",
       "      <td>1.321722e+04</td>\n",
       "      <td>0.000656</td>\n",
       "    </tr>\n",
       "    <tr>\n",
       "      <th>VS-MC-RC-006</th>\n",
       "      <td>205.0</td>\n",
       "      <td>1</td>\n",
       "      <td>21.052694</td>\n",
       "      <td>14.840822</td>\n",
       "      <td>24.568533</td>\n",
       "      <td>-0.100471</td>\n",
       "      <td>0.581540</td>\n",
       "      <td>815.913548</td>\n",
       "      <td>976.411879</td>\n",
       "      <td>4895.986528</td>\n",
       "      <td>5.086712e+05</td>\n",
       "      <td>0.000963</td>\n",
       "    </tr>\n",
       "    <tr>\n",
       "      <th>...</th>\n",
       "      <td>...</td>\n",
       "      <td>...</td>\n",
       "      <td>...</td>\n",
       "      <td>...</td>\n",
       "      <td>...</td>\n",
       "      <td>...</td>\n",
       "      <td>...</td>\n",
       "      <td>...</td>\n",
       "      <td>...</td>\n",
       "      <td>...</td>\n",
       "      <td>...</td>\n",
       "      <td>...</td>\n",
       "    </tr>\n",
       "    <tr>\n",
       "      <th>VS-SEG-195</th>\n",
       "      <td>NaN</td>\n",
       "      <td>0</td>\n",
       "      <td>11.024049</td>\n",
       "      <td>6.088697</td>\n",
       "      <td>11.833204</td>\n",
       "      <td>-0.665496</td>\n",
       "      <td>0.974734</td>\n",
       "      <td>108.379310</td>\n",
       "      <td>3.299489</td>\n",
       "      <td>167.773191</td>\n",
       "      <td>5.449440e+03</td>\n",
       "      <td>0.023994</td>\n",
       "    </tr>\n",
       "    <tr>\n",
       "      <th>VS-SEG-197</th>\n",
       "      <td>1251.0</td>\n",
       "      <td>1</td>\n",
       "      <td>15.134468</td>\n",
       "      <td>13.550974</td>\n",
       "      <td>19.078826</td>\n",
       "      <td>-0.083603</td>\n",
       "      <td>0.490837</td>\n",
       "      <td>296.263580</td>\n",
       "      <td>136.934265</td>\n",
       "      <td>1598.800575</td>\n",
       "      <td>1.087350e+05</td>\n",
       "      <td>0.004280</td>\n",
       "    </tr>\n",
       "    <tr>\n",
       "      <th>VS-SEG-199</th>\n",
       "      <td>1102.0</td>\n",
       "      <td>1</td>\n",
       "      <td>20.328248</td>\n",
       "      <td>20.264196</td>\n",
       "      <td>30.923181</td>\n",
       "      <td>-0.092100</td>\n",
       "      <td>0.519013</td>\n",
       "      <td>4153.128225</td>\n",
       "      <td>6676.043156</td>\n",
       "      <td>23640.329189</td>\n",
       "      <td>2.321828e+06</td>\n",
       "      <td>0.000146</td>\n",
       "    </tr>\n",
       "    <tr>\n",
       "      <th>VS-SEG-218</th>\n",
       "      <td>1870.0</td>\n",
       "      <td>1</td>\n",
       "      <td>24.390526</td>\n",
       "      <td>27.083334</td>\n",
       "      <td>31.787093</td>\n",
       "      <td>-0.238635</td>\n",
       "      <td>0.774154</td>\n",
       "      <td>3271.633887</td>\n",
       "      <td>8545.320466</td>\n",
       "      <td>11915.651285</td>\n",
       "      <td>8.674691e+06</td>\n",
       "      <td>0.000149</td>\n",
       "    </tr>\n",
       "    <tr>\n",
       "      <th>VS-SEG-221</th>\n",
       "      <td>602.0</td>\n",
       "      <td>1</td>\n",
       "      <td>10.943041</td>\n",
       "      <td>7.672553</td>\n",
       "      <td>12.477062</td>\n",
       "      <td>-0.142421</td>\n",
       "      <td>0.280022</td>\n",
       "      <td>2023.210526</td>\n",
       "      <td>885.865000</td>\n",
       "      <td>113.469294</td>\n",
       "      <td>2.082258e+06</td>\n",
       "      <td>0.017875</td>\n",
       "    </tr>\n",
       "  </tbody>\n",
       "</table>\n",
       "<p>124 rows × 12 columns</p>\n",
       "</div>"
      ],
      "text/plain": [
       "              volume_diff  change  original_shape_MajorAxisLength  \\\n",
       "Patient_ID                                                          \n",
       "VS-MC-RC-001        -51.0       0                       11.098302   \n",
       "VS-MC-RC-002       1069.0       1                       12.050322   \n",
       "VS-MC-RC-004     -13391.0       0                       32.442076   \n",
       "VS-MC-RC-005       2256.0       1                       15.793601   \n",
       "VS-MC-RC-006        205.0       1                       21.052694   \n",
       "...                   ...     ...                             ...   \n",
       "VS-SEG-195            NaN       0                       11.024049   \n",
       "VS-SEG-197         1251.0       1                       15.134468   \n",
       "VS-SEG-199         1102.0       1                       20.328248   \n",
       "VS-SEG-218         1870.0       1                       24.390526   \n",
       "VS-SEG-221          602.0       1                       10.943041   \n",
       "\n",
       "              original_shape_Maximum2DDiameterRow  \\\n",
       "Patient_ID                                          \n",
       "VS-MC-RC-001                            10.667506   \n",
       "VS-MC-RC-002                             8.669793   \n",
       "VS-MC-RC-004                            33.636311   \n",
       "VS-MC-RC-005                            15.119270   \n",
       "VS-MC-RC-006                            14.840822   \n",
       "...                                           ...   \n",
       "VS-SEG-195                               6.088697   \n",
       "VS-SEG-197                              13.550974   \n",
       "VS-SEG-199                              20.264196   \n",
       "VS-SEG-218                              27.083334   \n",
       "VS-SEG-221                               7.672553   \n",
       "\n",
       "              original_shape_Maximum3DDiameter  original_glcm_Imc1  \\\n",
       "Patient_ID                                                           \n",
       "VS-MC-RC-001                         11.824483           -0.055402   \n",
       "VS-MC-RC-002                         14.842891           -0.147962   \n",
       "VS-MC-RC-004                         38.487053           -0.402398   \n",
       "VS-MC-RC-005                         21.244994           -0.084973   \n",
       "VS-MC-RC-006                         24.568533           -0.100471   \n",
       "...                                        ...                 ...   \n",
       "VS-SEG-195                           11.833204           -0.665496   \n",
       "VS-SEG-197                           19.078826           -0.083603   \n",
       "VS-SEG-199                           30.923181           -0.092100   \n",
       "VS-SEG-218                           31.787093           -0.238635   \n",
       "VS-SEG-221                           12.477062           -0.142421   \n",
       "\n",
       "              original_glcm_MCC  original_gldm_DependenceNonUniformity  \\\n",
       "Patient_ID                                                               \n",
       "VS-MC-RC-001           0.324320                              53.124629   \n",
       "VS-MC-RC-002           0.454266                             380.436242   \n",
       "VS-MC-RC-004           0.941602                           16772.235332   \n",
       "VS-MC-RC-005           0.817496                            3718.285922   \n",
       "VS-MC-RC-006           0.581540                             815.913548   \n",
       "...                         ...                                    ...   \n",
       "VS-SEG-195             0.974734                             108.379310   \n",
       "VS-SEG-197             0.490837                             296.263580   \n",
       "VS-SEG-199             0.519013                            4153.128225   \n",
       "VS-SEG-218             0.774154                            3271.633887   \n",
       "VS-SEG-221             0.280022                            2023.210526   \n",
       "\n",
       "              original_glrlm_GrayLevelNonUniformity  \\\n",
       "Patient_ID                                            \n",
       "VS-MC-RC-001                             222.335594   \n",
       "VS-MC-RC-002                              41.646779   \n",
       "VS-MC-RC-004                           18344.919598   \n",
       "VS-MC-RC-005                             397.743860   \n",
       "VS-MC-RC-006                             976.411879   \n",
       "...                                             ...   \n",
       "VS-SEG-195                                 3.299489   \n",
       "VS-SEG-197                               136.934265   \n",
       "VS-SEG-199                              6676.043156   \n",
       "VS-SEG-218                              8545.320466   \n",
       "VS-SEG-221                               885.865000   \n",
       "\n",
       "              original_glrlm_RunLengthNonUniformity  \\\n",
       "Patient_ID                                            \n",
       "VS-MC-RC-001                             281.082912   \n",
       "VS-MC-RC-002                            1070.016494   \n",
       "VS-MC-RC-004                           94705.574083   \n",
       "VS-MC-RC-005                           11970.271692   \n",
       "VS-MC-RC-006                            4895.986528   \n",
       "...                                             ...   \n",
       "VS-SEG-195                               167.773191   \n",
       "VS-SEG-197                              1598.800575   \n",
       "VS-SEG-199                             23640.329189   \n",
       "VS-SEG-218                             11915.651285   \n",
       "VS-SEG-221                               113.469294   \n",
       "\n",
       "              original_glszm_LargeAreaHighGrayLevelEmphasis  \\\n",
       "Patient_ID                                                    \n",
       "VS-MC-RC-001                                   1.741270e+04   \n",
       "VS-MC-RC-002                                   2.363640e+03   \n",
       "VS-MC-RC-004                                   3.764821e+08   \n",
       "VS-MC-RC-005                                   1.321722e+04   \n",
       "VS-MC-RC-006                                   5.086712e+05   \n",
       "...                                                     ...   \n",
       "VS-SEG-195                                     5.449440e+03   \n",
       "VS-SEG-197                                     1.087350e+05   \n",
       "VS-SEG-199                                     2.321828e+06   \n",
       "VS-SEG-218                                     8.674691e+06   \n",
       "VS-SEG-221                                     2.082258e+06   \n",
       "\n",
       "              original_ngtdm_Coarseness  \n",
       "Patient_ID                               \n",
       "VS-MC-RC-001                   0.005272  \n",
       "VS-MC-RC-002                   0.005885  \n",
       "VS-MC-RC-004                   0.000073  \n",
       "VS-MC-RC-005                   0.000656  \n",
       "VS-MC-RC-006                   0.000963  \n",
       "...                                 ...  \n",
       "VS-SEG-195                     0.023994  \n",
       "VS-SEG-197                     0.004280  \n",
       "VS-SEG-199                     0.000146  \n",
       "VS-SEG-218                     0.000149  \n",
       "VS-SEG-221                     0.017875  \n",
       "\n",
       "[124 rows x 12 columns]"
      ]
     },
     "execution_count": 7,
     "metadata": {},
     "output_type": "execute_result"
    }
   ],
   "source": [
    "filtered_df"
   ]
  },
  {
   "cell_type": "code",
   "execution_count": null,
   "id": "8fe7a455",
   "metadata": {},
   "outputs": [],
   "source": [
    "dest_path = r'/home/omen/Documents/Nafisha/VS/VS_refactored_code/RandomForest/CSVs/RFselected.csv'\n",
    "filtered_df.to_csv(dest_path)"
   ]
  },
  {
   "cell_type": "code",
   "execution_count": null,
   "id": "355dd296",
   "metadata": {},
   "outputs": [],
   "source": []
  }
 ],
 "metadata": {
  "kernelspec": {
   "display_name": "3dVS",
   "language": "python",
   "name": "python3"
  },
  "language_info": {
   "codemirror_mode": {
    "name": "ipython",
    "version": 3
   },
   "file_extension": ".py",
   "mimetype": "text/x-python",
   "name": "python",
   "nbconvert_exporter": "python",
   "pygments_lexer": "ipython3",
   "version": "3.10.16"
  }
 },
 "nbformat": 4,
 "nbformat_minor": 5
}
