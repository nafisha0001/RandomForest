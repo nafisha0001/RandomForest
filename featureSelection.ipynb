{
 "cells": [
  {
   "cell_type": "code",
   "execution_count": 1,
   "id": "e9f0cb3d",
   "metadata": {},
   "outputs": [],
   "source": [
    "import pandas as pd"
   ]
  },
  {
   "cell_type": "code",
   "execution_count": 2,
   "id": "08a66212",
   "metadata": {},
   "outputs": [],
   "source": [
    "csv_path = r\"C:\\Users\\Acer\\Desktop\\3dVS\\RFcsv\\volume_data7.csv\"\n",
    "df = pd.read_csv(csv_path, index_col=0)"
   ]
  },
  {
   "cell_type": "code",
   "execution_count": 3,
   "id": "02e7f0e9",
   "metadata": {},
   "outputs": [],
   "source": [
    "# df"
   ]
  },
  {
   "cell_type": "code",
   "execution_count": 4,
   "id": "8521081d",
   "metadata": {},
   "outputs": [],
   "source": [
    "y = df['change']\n",
    "x=df.drop(['change'],axis=1)"
   ]
  },
  {
   "cell_type": "code",
   "execution_count": 5,
   "id": "e8e506f9",
   "metadata": {},
   "outputs": [],
   "source": [
    "# x"
   ]
  },
  {
   "cell_type": "code",
   "execution_count": 6,
   "id": "eeb35a1d",
   "metadata": {},
   "outputs": [
    {
     "data": {
      "text/plain": [
       "pandas.core.series.Series"
      ]
     },
     "execution_count": 6,
     "metadata": {},
     "output_type": "execute_result"
    }
   ],
   "source": [
    "type(y)"
   ]
  },
  {
   "cell_type": "code",
   "execution_count": 7,
   "id": "cf96f87a-b2b8-4faf-bfdf-452a50c4c037",
   "metadata": {},
   "outputs": [
    {
     "data": {
      "text/plain": [
       "change\n",
       "1    56\n",
       "0    46\n",
       "Name: count, dtype: int64"
      ]
     },
     "execution_count": 7,
     "metadata": {},
     "output_type": "execute_result"
    }
   ],
   "source": [
    "y.value_counts()"
   ]
  },
  {
   "cell_type": "markdown",
   "id": "7f282e1d",
   "metadata": {},
   "source": [
    "# Filter Method"
   ]
  },
  {
   "cell_type": "code",
   "execution_count": 8,
   "id": "ab76d60a",
   "metadata": {},
   "outputs": [],
   "source": [
    "from sklearn.feature_selection import SelectKBest, mutual_info_classif\n",
    "\n",
    "# Mutual Information\n",
    "selector = SelectKBest(mutual_info_classif, k=10)  # Select top 10 features\n",
    "X_selected = selector.fit_transform(x,y)"
   ]
  },
  {
   "cell_type": "code",
   "execution_count": 9,
   "id": "0dd7fdfa-8aec-445e-adfe-52381dc1f1cd",
   "metadata": {},
   "outputs": [],
   "source": [
    "selected_feature_indices = selector.get_support(indices=True)\n",
    "selected_feature_names = x.columns[selected_feature_indices].tolist()"
   ]
  },
  {
   "cell_type": "code",
   "execution_count": 10,
   "id": "0ae53a07-b311-4d01-9829-b37fdf1ff39a",
   "metadata": {},
   "outputs": [
    {
     "data": {
      "text/plain": [
       "['original_shape_MajorAxisLength',\n",
       " 'original_shape_Maximum2DDiameterRow',\n",
       " 'original_shape_Maximum3DDiameter',\n",
       " 'original_shape_SurfaceArea',\n",
       " 'original_shape_SurfaceVolumeRatio',\n",
       " 'original_gldm_DependenceNonUniformity',\n",
       " 'original_glrlm_GrayLevelNonUniformity',\n",
       " 'original_glrlm_RunLengthNonUniformity',\n",
       " 'original_glszm_GrayLevelNonUniformity',\n",
       " 'original_ngtdm_Coarseness']"
      ]
     },
     "execution_count": 10,
     "metadata": {},
     "output_type": "execute_result"
    }
   ],
   "source": [
    "selected_feature_names"
   ]
  },
  {
   "cell_type": "code",
   "execution_count": 11,
   "id": "c2322ccb-9719-41c5-8702-63ebfadab3c0",
   "metadata": {},
   "outputs": [],
   "source": [
    "x_filter=x[selected_feature_names]"
   ]
  },
  {
   "cell_type": "markdown",
   "id": "9f38980b-9fad-4deb-97b8-1744acdd646c",
   "metadata": {},
   "source": [
    "### only 4 features were common\n",
    "[ 'original_shape_Maximum2DDiameterRow',\n",
    " 'original_shape_Maximum3DDiameter',\n",
    " 'original_shape_SurfaceArea',\n",
    " 'original_ngtdm_Coarseness']"
   ]
  },
  {
   "cell_type": "markdown",
   "id": "a9a6ffd0-3cec-43d7-878d-2ebece0c14f7",
   "metadata": {},
   "source": [
    "# Wrapper Method"
   ]
  },
  {
   "cell_type": "code",
   "execution_count": 12,
   "id": "040f46b2-ffac-4970-99e1-7cfe1fe94c9d",
   "metadata": {},
   "outputs": [],
   "source": [
    "from sklearn.feature_selection import RFE\n",
    "from sklearn.ensemble import RandomForestClassifier\n",
    "\n",
    "# Recursive Feature Elimination\n",
    "model = RandomForestClassifier()\n",
    "rfe = RFE(estimator=model, n_features_to_select=10)\n",
    "X_rfe = rfe.fit_transform(x, y)"
   ]
  },
  {
   "cell_type": "code",
   "execution_count": 13,
   "id": "f1b6f702-a57e-46c0-aa4a-be710e558f78",
   "metadata": {},
   "outputs": [
    {
     "data": {
      "text/plain": [
       "['original_shape_MajorAxisLength',\n",
       " 'original_shape_Maximum2DDiameterRow',\n",
       " 'original_shape_SurfaceVolumeRatio',\n",
       " 'original_glcm_Correlation',\n",
       " 'original_glcm_MCC',\n",
       " 'original_gldm_DependenceNonUniformity',\n",
       " 'original_gldm_GrayLevelNonUniformity',\n",
       " 'original_glszm_LargeAreaHighGrayLevelEmphasis',\n",
       " 'original_ngtdm_Coarseness',\n",
       " 'original_ngtdm_Strength']"
      ]
     },
     "execution_count": 13,
     "metadata": {},
     "output_type": "execute_result"
    }
   ],
   "source": [
    "selected_feature_indices_rfe = rfe.get_support(indices=True)\n",
    "selected_feature_names_rfe = x.columns[selected_feature_indices_rfe].tolist()\n",
    "selected_feature_names_rfe"
   ]
  },
  {
   "cell_type": "markdown",
   "id": "e99cb2f4-7880-4e83-b30d-93529dace1d5",
   "metadata": {},
   "source": [
    "#### 6 feactures matched with filter method\n",
    "#### 5 feactures matched with Anirrudh's results"
   ]
  },
  {
   "cell_type": "code",
   "execution_count": 14,
   "id": "00b42894-163f-4b88-85d0-8f2905e49ca6",
   "metadata": {},
   "outputs": [],
   "source": [
    "x_wrapper=x[selected_feature_names_rfe]"
   ]
  },
  {
   "cell_type": "code",
   "execution_count": 15,
   "id": "1d68d2ed-6571-4f6e-bfef-33f2826c86f3",
   "metadata": {},
   "outputs": [],
   "source": [
    "# x_wrapper"
   ]
  },
  {
   "cell_type": "markdown",
   "id": "0d717b68-aa4b-4465-b45b-c2570d7b8390",
   "metadata": {},
   "source": [
    "# Wrapper Training"
   ]
  },
  {
   "cell_type": "code",
   "execution_count": 16,
   "id": "321e2dec-8b14-47a8-a0ff-2ebefe88bc0c",
   "metadata": {},
   "outputs": [],
   "source": [
    "from sklearn.model_selection import train_test_split\n",
    "from sklearn.linear_model import SGDClassifier\n",
    "from sklearn.metrics import accuracy_score, classification_report\n",
    "from tqdm import tqdm\n",
    "import numpy as np"
   ]
  },
  {
   "cell_type": "code",
   "execution_count": 17,
   "id": "226da005-0493-4d79-847b-baa982ab49c6",
   "metadata": {},
   "outputs": [],
   "source": [
    "X_train, X_test , y_train, y_test = train_test_split(x_wrapper, y, test_size=0.2, random_state=42)"
   ]
  },
  {
   "cell_type": "code",
   "execution_count": 18,
   "id": "35bf104a-65c6-4ec4-803c-981302423bc8",
   "metadata": {},
   "outputs": [
    {
     "data": {
      "text/plain": [
       "change\n",
       "1    42\n",
       "0    39\n",
       "Name: count, dtype: int64"
      ]
     },
     "execution_count": 18,
     "metadata": {},
     "output_type": "execute_result"
    }
   ],
   "source": [
    "y_train.value_counts()"
   ]
  },
  {
   "cell_type": "code",
   "execution_count": 19,
   "id": "59725b17-63f3-4116-b0b3-9b3c82f363e3",
   "metadata": {},
   "outputs": [
    {
     "data": {
      "text/plain": [
       "(81, 21)"
      ]
     },
     "execution_count": 19,
     "metadata": {},
     "output_type": "execute_result"
    }
   ],
   "source": [
    "len(X_train), len(X_test)"
   ]
  },
  {
   "cell_type": "code",
   "execution_count": 23,
   "id": "6ee1e843-5338-4587-ade5-4111cc654565",
   "metadata": {},
   "outputs": [
    {
     "name": "stdout",
     "output_type": "stream",
     "text": [
      "Accuracy: 0.8095238095238095\n",
      "              precision    recall  f1-score   support\n",
      "\n",
      "           0       0.71      0.71      0.71         7\n",
      "           1       0.86      0.86      0.86        14\n",
      "\n",
      "    accuracy                           0.81        21\n",
      "   macro avg       0.79      0.79      0.79        21\n",
      "weighted avg       0.81      0.81      0.81        21\n",
      "\n"
     ]
    }
   ],
   "source": [
    "# Random Forest\n",
    "\n",
    "rf_classifier = RandomForestClassifier(n_estimators=300, random_state=1)\n",
    "rf_classifier.fit(X_train, y_train)\n",
    "\n",
    "y_pred = rf_classifier.predict(X_test)\n",
    "\n",
    "# Evaluate the model\n",
    "accuracy = accuracy_score(y_test, y_pred)\n",
    "print(f\"Accuracy: {accuracy}\")\n",
    "print(classification_report(y_test, y_pred))"
   ]
  },
  {
   "cell_type": "code",
   "execution_count": 24,
   "id": "7f644334-0881-479e-8c3e-8b9ebc64acf7",
   "metadata": {},
   "outputs": [
    {
     "data": {
      "text/plain": [
       "array([0.99333333, 0.97      , 0.01      , 0.87666667, 0.23      ,\n",
       "       0.31666667, 0.86      , 0.01666667, 0.02333333, 0.26666667,\n",
       "       0.87333333, 0.24333333, 0.52      , 0.13333333, 0.03333333,\n",
       "       0.83      , 0.91      , 0.8       , 0.02      , 0.12      ,\n",
       "       0.99666667, 0.05333333, 0.07      , 0.02666667, 0.79333333,\n",
       "       0.13666667, 0.98666667, 0.22333333, 0.17333333, 0.00666667,\n",
       "       0.83      , 0.57      , 0.98333333, 0.56      , 0.96666667,\n",
       "       0.00666667, 0.88      , 0.10666667, 1.        , 0.84666667,\n",
       "       0.99      , 0.94      , 0.99333333, 0.21666667, 0.15      ,\n",
       "       0.30333333, 0.00333333, 0.97      , 0.78666667, 1.        ,\n",
       "       0.86333333, 0.97      , 0.97333333, 0.83      , 0.25666667,\n",
       "       0.21666667, 0.05666667, 0.01      , 0.07666667, 0.05666667,\n",
       "       0.26666667, 0.93666667, 0.51      , 0.78666667, 0.05333333,\n",
       "       0.98      , 0.89666667, 0.98333333, 0.93333333, 0.70666667,\n",
       "       1.        , 0.07      , 0.18333333, 0.97666667, 0.33      ,\n",
       "       0.95      , 0.03      , 0.29      , 0.99666667, 0.43      ,\n",
       "       0.94333333, 0.21      , 0.03666667, 0.01666667, 0.99333333,\n",
       "       0.24333333, 0.08333333, 0.62333333, 0.97      , 0.95666667,\n",
       "       0.88666667, 0.97666667, 0.02333333, 0.11      , 0.9       ,\n",
       "       0.84      , 0.85      , 0.71333333, 0.95      , 0.79      ,\n",
       "       0.02      , 0.81666667])"
      ]
     },
     "execution_count": 24,
     "metadata": {},
     "output_type": "execute_result"
    }
   ],
   "source": [
    "y_prob = rf_classifier.predict_proba(x_wrapper)\n",
    "y_prob[:, 1]"
   ]
  },
  {
   "cell_type": "code",
   "execution_count": 118,
   "id": "e0058537-eb49-42f8-a969-6dd25e915cb4",
   "metadata": {},
   "outputs": [
    {
     "name": "stdout",
     "output_type": "stream",
     "text": [
      "File saved as: predictions.csv\n"
     ]
    }
   ],
   "source": [
    "import pandas as pd\n",
    "import numpy as np\n",
    "\n",
    "y = y.to_numpy() if isinstance(y, pd.Series) else y\n",
    "y_prob = y_prob.to_numpy() if isinstance(y_prob, pd.DataFrame) else y_prob\n",
    "\n",
    "y = y.ravel()\n",
    "y_prob = y_prob[:, 1].ravel()  # Assuming y_prob is shape (N, 2)\n",
    "predicted_labels = [1 if prob >= 0.5 else 0 for prob in y_prob]\n",
    "\n",
    "df = pd.DataFrame({\n",
    "    \"Original\": y,\n",
    "    \"Probability\": y_prob,\n",
    "    \"Predicted\": predicted_labels\n",
    "})\n",
    "\n",
    "file_path = \"predictions.csv\"\n",
    "df.to_csv(file_path, index=False)\n",
    "\n",
    "print(f\"File saved as: {file_path}\")"
   ]
  },
  {
   "cell_type": "code",
   "execution_count": 25,
   "id": "1b708479-3941-478b-88c1-9047081b925d",
   "metadata": {},
   "outputs": [
    {
     "name": "stdout",
     "output_type": "stream",
     "text": [
      "Accuracy: 0.7142857142857143\n",
      "              precision    recall  f1-score   support\n",
      "\n",
      "           0       0.56      0.71      0.62         7\n",
      "           1       0.83      0.71      0.77        14\n",
      "\n",
      "    accuracy                           0.71        21\n",
      "   macro avg       0.69      0.71      0.70        21\n",
      "weighted avg       0.74      0.71      0.72        21\n",
      "\n"
     ]
    }
   ],
   "source": [
    "# Decision Tree\n",
    "\n",
    "from sklearn.tree import DecisionTreeClassifier\n",
    "model = DecisionTreeClassifier(random_state=1)\n",
    "model.fit(X_train, y_train)\n",
    "\n",
    "y_pred = model.predict(X_test)\n",
    "\n",
    "# Evaluate the model\n",
    "accuracy = accuracy_score(y_test, y_pred)\n",
    "print(f\"Accuracy: {accuracy}\")\n",
    "print(classification_report(y_test, y_pred))"
   ]
  },
  {
   "cell_type": "code",
   "execution_count": 26,
   "id": "c648c68f-8f31-497f-969a-f93ab1544dfa",
   "metadata": {},
   "outputs": [
    {
     "name": "stderr",
     "output_type": "stream",
     "text": [
      "Training SVM Model in batches: 100%|██████████| 41/41 [00:03<00:00, 10.28it/s]"
     ]
    },
    {
     "name": "stdout",
     "output_type": "stream",
     "text": [
      "Accuracy: 0.3333333333333333\n",
      "              precision    recall  f1-score   support\n",
      "\n",
      "           0       0.33      1.00      0.50         7\n",
      "           1       0.00      0.00      0.00        14\n",
      "\n",
      "    accuracy                           0.33        21\n",
      "   macro avg       0.17      0.50      0.25        21\n",
      "weighted avg       0.11      0.33      0.17        21\n",
      "\n"
     ]
    },
    {
     "name": "stderr",
     "output_type": "stream",
     "text": [
      "\n",
      "c:\\Users\\Acer\\anaconda3\\envs\\3dVS\\lib\\site-packages\\sklearn\\metrics\\_classification.py:1565: UndefinedMetricWarning: Precision is ill-defined and being set to 0.0 in labels with no predicted samples. Use `zero_division` parameter to control this behavior.\n",
      "  _warn_prf(average, modifier, f\"{metric.capitalize()} is\", len(result))\n",
      "c:\\Users\\Acer\\anaconda3\\envs\\3dVS\\lib\\site-packages\\sklearn\\metrics\\_classification.py:1565: UndefinedMetricWarning: Precision is ill-defined and being set to 0.0 in labels with no predicted samples. Use `zero_division` parameter to control this behavior.\n",
      "  _warn_prf(average, modifier, f\"{metric.capitalize()} is\", len(result))\n",
      "c:\\Users\\Acer\\anaconda3\\envs\\3dVS\\lib\\site-packages\\sklearn\\metrics\\_classification.py:1565: UndefinedMetricWarning: Precision is ill-defined and being set to 0.0 in labels with no predicted samples. Use `zero_division` parameter to control this behavior.\n",
      "  _warn_prf(average, modifier, f\"{metric.capitalize()} is\", len(result))\n"
     ]
    }
   ],
   "source": [
    "from sklearn.model_selection import train_test_split\n",
    "from sklearn.linear_model import SGDClassifier\n",
    "from sklearn.metrics import accuracy_score, classification_report\n",
    "from tqdm import tqdm\n",
    "import numpy as np\n",
    "\n",
    "# Split the data into training and testing sets\n",
    "X_train, X_test, y_train, y_test = train_test_split(x_wrapper, y, test_size=0.2, random_state=1)\n",
    "\n",
    "sgd_classifier = SGDClassifier(loss='hinge', max_iter=1000, tol=1e-3, random_state=42)\n",
    "\n",
    "# Wrap training process in tqdm for progress bar\n",
    "batch_size = 2  # Define the batch size\n",
    "n_batches = len(X_train) // batch_size + (1 if len(X_train) % batch_size > 0 else 0)\n",
    "\n",
    "for _ in tqdm(range(n_batches), desc=\"Training SVM Model in batches\"):\n",
    "    # Train in batches\n",
    "    for i in range(0, len(X_train), batch_size):\n",
    "        X_batch = X_train[i:i + batch_size]\n",
    "        y_batch = y_train[i:i + batch_size]\n",
    "        sgd_classifier.partial_fit(X_batch, y_batch, classes=np.unique(y_train))\n",
    "\n",
    "# Predict on the test set\n",
    "y_pred = sgd_classifier.predict(X_test)\n",
    "\n",
    "# Evaluate the model\n",
    "accuracy = accuracy_score(y_test, y_pred)\n",
    "print(f\"Accuracy: {accuracy}\")\n",
    "print(classification_report(y_test, y_pred))\n"
   ]
  },
  {
   "cell_type": "code",
   "execution_count": 27,
   "id": "1c3e0316-a7a4-4431-9d48-5233e2090df9",
   "metadata": {},
   "outputs": [
    {
     "name": "stdout",
     "output_type": "stream",
     "text": [
      "XGBoost Accuracy: 0.7142857142857143\n",
      "              precision    recall  f1-score   support\n",
      "\n",
      "           0       0.57      0.57      0.57         7\n",
      "           1       0.79      0.79      0.79        14\n",
      "\n",
      "    accuracy                           0.71        21\n",
      "   macro avg       0.68      0.68      0.68        21\n",
      "weighted avg       0.71      0.71      0.71        21\n",
      "\n"
     ]
    },
    {
     "name": "stderr",
     "output_type": "stream",
     "text": [
      "c:\\Users\\Acer\\anaconda3\\envs\\3dVS\\lib\\site-packages\\xgboost\\training.py:183: UserWarning: [01:13:59] WARNING: C:\\actions-runner\\_work\\xgboost\\xgboost\\src\\learner.cc:738: \n",
      "Parameters: { \"use_label_encoder\" } are not used.\n",
      "\n",
      "  bst.update(dtrain, iteration=i, fobj=obj)\n"
     ]
    }
   ],
   "source": [
    "# XGBoost\n",
    "\n",
    "import xgboost as xgb\n",
    "from sklearn.model_selection import train_test_split\n",
    "from sklearn.metrics import accuracy_score, classification_report\n",
    "from sklearn.preprocessing import StandardScaler\n",
    "\n",
    "X_train, X_test, y_train, y_test = train_test_split(x_wrapper, y, test_size=0.2, random_state=42)\n",
    "\n",
    "# Initialize and train the XGBoost classifier\n",
    "xgb_classifier = xgb.XGBClassifier(random_state=42, use_label_encoder=False, eval_metric='logloss') #eval_metric added\n",
    "xgb_classifier.fit(X_train, y_train)\n",
    "\n",
    "# Make predictions on the test set\n",
    "y_pred = xgb_classifier.predict(X_test)\n",
    "\n",
    "# Evaluate the model\n",
    "accuracy = accuracy_score(y_test, y_pred)\n",
    "print(f\"XGBoost Accuracy: {accuracy}\")\n",
    "print(classification_report(y_test, y_pred))"
   ]
  },
  {
   "cell_type": "code",
   "execution_count": 26,
   "id": "0ed65587-35be-4215-a2e5-f11c00fb249a",
   "metadata": {},
   "outputs": [],
   "source": [
    "# !pip install xgboost"
   ]
  },
  {
   "cell_type": "markdown",
   "id": "0c7ef114-2a43-4696-b051-d1efd8edeabb",
   "metadata": {},
   "source": [
    "# Filter method training"
   ]
  },
  {
   "cell_type": "code",
   "execution_count": 28,
   "id": "e8caf213-90a2-4b7b-b937-855c6c065b76",
   "metadata": {},
   "outputs": [],
   "source": [
    "X_train, X_test , y_train, y_test = train_test_split(x_filter, y, test_size=0.2, random_state=42)"
   ]
  },
  {
   "cell_type": "code",
   "execution_count": 31,
   "id": "f2a2b282-41e6-429c-8a68-36f2f74060d1",
   "metadata": {},
   "outputs": [
    {
     "name": "stdout",
     "output_type": "stream",
     "text": [
      "Accuracy: 0.7142857142857143\n",
      "              precision    recall  f1-score   support\n",
      "\n",
      "           0       0.56      0.71      0.62         7\n",
      "           1       0.83      0.71      0.77        14\n",
      "\n",
      "    accuracy                           0.71        21\n",
      "   macro avg       0.69      0.71      0.70        21\n",
      "weighted avg       0.74      0.71      0.72        21\n",
      "\n"
     ]
    }
   ],
   "source": [
    "# Random Forest\n",
    "\n",
    "rf_classifier = RandomForestClassifier(n_estimators=300, random_state=1)\n",
    "rf_classifier.fit(X_train, y_train)\n",
    "\n",
    "y_pred = rf_classifier.predict(X_test)\n",
    "\n",
    "# Evaluate the model\n",
    "accuracy = accuracy_score(y_test, y_pred)\n",
    "print(f\"Accuracy: {accuracy}\")\n",
    "print(classification_report(y_test, y_pred))"
   ]
  },
  {
   "cell_type": "code",
   "execution_count": 32,
   "id": "690cad5a-9be2-45db-b975-6a21c6d81d78",
   "metadata": {},
   "outputs": [
    {
     "name": "stdout",
     "output_type": "stream",
     "text": [
      "Accuracy: 0.7142857142857143\n",
      "              precision    recall  f1-score   support\n",
      "\n",
      "           0       0.56      0.71      0.62         7\n",
      "           1       0.83      0.71      0.77        14\n",
      "\n",
      "    accuracy                           0.71        21\n",
      "   macro avg       0.69      0.71      0.70        21\n",
      "weighted avg       0.74      0.71      0.72        21\n",
      "\n"
     ]
    }
   ],
   "source": [
    "# Decision Tree\n",
    "\n",
    "from sklearn.tree import DecisionTreeClassifier\n",
    "model = DecisionTreeClassifier(random_state=1)\n",
    "model.fit(X_train, y_train)\n",
    "\n",
    "y_pred = model.predict(X_test)\n",
    "\n",
    "# Evaluate the model\n",
    "accuracy = accuracy_score(y_test, y_pred)\n",
    "print(f\"Accuracy: {accuracy}\")\n",
    "print(classification_report(y_test, y_pred))"
   ]
  },
  {
   "cell_type": "code",
   "execution_count": 33,
   "id": "7ac6119a-a47f-4e11-8fa9-c407c826c559",
   "metadata": {},
   "outputs": [
    {
     "name": "stderr",
     "output_type": "stream",
     "text": [
      "Training SVM Model in batches:   0%|          | 0/41 [00:00<?, ?it/s]"
     ]
    },
    {
     "name": "stderr",
     "output_type": "stream",
     "text": [
      "Training SVM Model in batches: 100%|██████████| 41/41 [00:03<00:00, 10.62it/s]"
     ]
    },
    {
     "name": "stdout",
     "output_type": "stream",
     "text": [
      "Accuracy: 0.3333333333333333\n",
      "              precision    recall  f1-score   support\n",
      "\n",
      "           0       0.33      1.00      0.50         7\n",
      "           1       0.00      0.00      0.00        14\n",
      "\n",
      "    accuracy                           0.33        21\n",
      "   macro avg       0.17      0.50      0.25        21\n",
      "weighted avg       0.11      0.33      0.17        21\n",
      "\n"
     ]
    },
    {
     "name": "stderr",
     "output_type": "stream",
     "text": [
      "\n",
      "c:\\Users\\Acer\\anaconda3\\envs\\3dVS\\lib\\site-packages\\sklearn\\metrics\\_classification.py:1565: UndefinedMetricWarning: Precision is ill-defined and being set to 0.0 in labels with no predicted samples. Use `zero_division` parameter to control this behavior.\n",
      "  _warn_prf(average, modifier, f\"{metric.capitalize()} is\", len(result))\n",
      "c:\\Users\\Acer\\anaconda3\\envs\\3dVS\\lib\\site-packages\\sklearn\\metrics\\_classification.py:1565: UndefinedMetricWarning: Precision is ill-defined and being set to 0.0 in labels with no predicted samples. Use `zero_division` parameter to control this behavior.\n",
      "  _warn_prf(average, modifier, f\"{metric.capitalize()} is\", len(result))\n",
      "c:\\Users\\Acer\\anaconda3\\envs\\3dVS\\lib\\site-packages\\sklearn\\metrics\\_classification.py:1565: UndefinedMetricWarning: Precision is ill-defined and being set to 0.0 in labels with no predicted samples. Use `zero_division` parameter to control this behavior.\n",
      "  _warn_prf(average, modifier, f\"{metric.capitalize()} is\", len(result))\n"
     ]
    }
   ],
   "source": [
    "sgd_classifier = SGDClassifier(loss='hinge', max_iter=1000, tol=1e-3, random_state=42)\n",
    "\n",
    "# Wrap training process in tqdm for progress bar\n",
    "batch_size = 2  # Define the batch size\n",
    "n_batches = len(X_train) // batch_size + (1 if len(X_train) % batch_size > 0 else 0)\n",
    "\n",
    "for _ in tqdm(range(n_batches), desc=\"Training SVM Model in batches\"):\n",
    "    # Train in batches\n",
    "    for i in range(0, len(X_train), batch_size):\n",
    "        X_batch = X_train[i:i + batch_size]\n",
    "        y_batch = y_train[i:i + batch_size]\n",
    "        sgd_classifier.partial_fit(X_batch, y_batch, classes=np.unique(y_train))\n",
    "\n",
    "# Predict on the test set\n",
    "y_pred = sgd_classifier.predict(X_test)\n",
    "\n",
    "# Evaluate the model\n",
    "accuracy = accuracy_score(y_test, y_pred)\n",
    "print(f\"Accuracy: {accuracy}\")\n",
    "print(classification_report(y_test, y_pred))\n"
   ]
  },
  {
   "cell_type": "code",
   "execution_count": null,
   "id": "c2e7fa8e-c5ff-47ca-af9d-74c0ae02118b",
   "metadata": {},
   "outputs": [],
   "source": []
  }
 ],
 "metadata": {
  "kernelspec": {
   "display_name": "3dVS",
   "language": "python",
   "name": "python3"
  },
  "language_info": {
   "codemirror_mode": {
    "name": "ipython",
    "version": 3
   },
   "file_extension": ".py",
   "mimetype": "text/x-python",
   "name": "python",
   "nbconvert_exporter": "python",
   "pygments_lexer": "ipython3",
   "version": "3.10.16"
  }
 },
 "nbformat": 4,
 "nbformat_minor": 5
}
